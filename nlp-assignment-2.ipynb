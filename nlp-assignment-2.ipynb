{
 "cells": [
  {
   "cell_type": "markdown",
   "id": "48d72e39",
   "metadata": {
    "papermill": {
     "duration": 0.00833,
     "end_time": "2024-11-01T18:02:40.116135",
     "exception": false,
     "start_time": "2024-11-01T18:02:40.107805",
     "status": "completed"
    },
    "tags": []
   },
   "source": [
    "# LSTM-arithmetic"
   ]
  },
  {
   "cell_type": "markdown",
   "id": "53cf1f53",
   "metadata": {
    "papermill": {
     "duration": 0.006978,
     "end_time": "2024-11-01T18:02:40.130646",
     "exception": false,
     "start_time": "2024-11-01T18:02:40.123668",
     "status": "completed"
    },
    "tags": []
   },
   "source": [
    "## Dataset"
   ]
  },
  {
   "cell_type": "code",
   "execution_count": 1,
   "id": "3e0dc9e0",
   "metadata": {
    "execution": {
     "iopub.execute_input": "2024-11-01T18:02:40.146895Z",
     "iopub.status.busy": "2024-11-01T18:02:40.146047Z",
     "iopub.status.idle": "2024-11-01T18:03:01.270114Z",
     "shell.execute_reply": "2024-11-01T18:03:01.268750Z"
    },
    "papermill": {
     "duration": 21.135207,
     "end_time": "2024-11-01T18:03:01.272834",
     "exception": false,
     "start_time": "2024-11-01T18:02:40.137627",
     "status": "completed"
    },
    "tags": []
   },
   "outputs": [],
   "source": [
    "%%capture\n",
    "!pip install gdown\n",
    "!gdown 'https://drive.google.com/uc?id=1cMuL3hF9jefka9RyF4gEBIGGeFGZYHE-'\n",
    "!unzip arithmetic_NLP.zip"
   ]
  },
  {
   "cell_type": "code",
   "execution_count": 2,
   "id": "5db7128b",
   "metadata": {
    "execution": {
     "iopub.execute_input": "2024-11-01T18:03:01.290955Z",
     "iopub.status.busy": "2024-11-01T18:03:01.290216Z",
     "iopub.status.idle": "2024-11-01T18:03:41.134378Z",
     "shell.execute_reply": "2024-11-01T18:03:41.133250Z"
    },
    "papermill": {
     "duration": 39.855268,
     "end_time": "2024-11-01T18:03:41.136845",
     "exception": false,
     "start_time": "2024-11-01T18:03:01.281577",
     "status": "completed"
    },
    "tags": []
   },
   "outputs": [],
   "source": [
    "%%capture\n",
    "!pip install seaborn\n",
    "!pip install opencc-python-reimplemented\n",
    "!pip install -U scikit-learn"
   ]
  },
  {
   "cell_type": "code",
   "execution_count": 3,
   "id": "181210f0",
   "metadata": {
    "execution": {
     "iopub.execute_input": "2024-11-01T18:03:41.152975Z",
     "iopub.status.busy": "2024-11-01T18:03:41.152640Z",
     "iopub.status.idle": "2024-11-01T18:03:47.812302Z",
     "shell.execute_reply": "2024-11-01T18:03:47.811363Z"
    },
    "papermill": {
     "duration": 6.670326,
     "end_time": "2024-11-01T18:03:47.814684",
     "exception": false,
     "start_time": "2024-11-01T18:03:41.144358",
     "status": "completed"
    },
    "tags": []
   },
   "outputs": [],
   "source": [
    "import numpy as np\n",
    "import pandas as pd\n",
    "import torch\n",
    "import torch.nn\n",
    "import torch.nn.utils.rnn\n",
    "import torch.utils.data\n",
    "import matplotlib.pyplot as plt\n",
    "import seaborn as sns\n",
    "import opencc\n",
    "import os\n",
    "from sklearn.model_selection import train_test_split\n",
    "\n",
    "data_path = '.'"
   ]
  },
  {
   "cell_type": "code",
   "execution_count": 4,
   "id": "8b322773",
   "metadata": {
    "execution": {
     "iopub.execute_input": "2024-11-01T18:03:47.831330Z",
     "iopub.status.busy": "2024-11-01T18:03:47.830826Z",
     "iopub.status.idle": "2024-11-01T18:03:49.909218Z",
     "shell.execute_reply": "2024-11-01T18:03:49.908237Z"
    },
    "papermill": {
     "duration": 2.089671,
     "end_time": "2024-11-01T18:03:49.911708",
     "exception": false,
     "start_time": "2024-11-01T18:03:47.822037",
     "status": "completed"
    },
    "tags": []
   },
   "outputs": [
    {
     "data": {
      "text/html": [
       "<div>\n",
       "<style scoped>\n",
       "    .dataframe tbody tr th:only-of-type {\n",
       "        vertical-align: middle;\n",
       "    }\n",
       "\n",
       "    .dataframe tbody tr th {\n",
       "        vertical-align: top;\n",
       "    }\n",
       "\n",
       "    .dataframe thead th {\n",
       "        text-align: right;\n",
       "    }\n",
       "</style>\n",
       "<table border=\"1\" class=\"dataframe\">\n",
       "  <thead>\n",
       "    <tr style=\"text-align: right;\">\n",
       "      <th></th>\n",
       "      <th>src</th>\n",
       "      <th>tgt</th>\n",
       "    </tr>\n",
       "  </thead>\n",
       "  <tbody>\n",
       "    <tr>\n",
       "      <th>0</th>\n",
       "      <td>14*(43+20)=</td>\n",
       "      <td>882</td>\n",
       "    </tr>\n",
       "    <tr>\n",
       "      <th>1</th>\n",
       "      <td>(6+1)*5=</td>\n",
       "      <td>35</td>\n",
       "    </tr>\n",
       "    <tr>\n",
       "      <th>2</th>\n",
       "      <td>13+32+29=</td>\n",
       "      <td>74</td>\n",
       "    </tr>\n",
       "    <tr>\n",
       "      <th>3</th>\n",
       "      <td>31*(3-11)=</td>\n",
       "      <td>-248</td>\n",
       "    </tr>\n",
       "    <tr>\n",
       "      <th>4</th>\n",
       "      <td>24*49+1=</td>\n",
       "      <td>1177</td>\n",
       "    </tr>\n",
       "  </tbody>\n",
       "</table>\n",
       "</div>"
      ],
      "text/plain": [
       "           src   tgt\n",
       "0  14*(43+20)=   882\n",
       "1     (6+1)*5=    35\n",
       "2    13+32+29=    74\n",
       "3   31*(3-11)=  -248\n",
       "4     24*49+1=  1177"
      ]
     },
     "execution_count": 4,
     "metadata": {},
     "output_type": "execute_result"
    }
   ],
   "source": [
    "df_train = pd.read_csv(os.path.join(data_path, 'arithmetic_train.csv'), index_col=0).reset_index(drop=True)\n",
    "df_eval = pd.read_csv(os.path.join(data_path, 'arithmetic_eval.csv'), index_col=0).reset_index(drop=True)\n",
    "df_train.head()"
   ]
  },
  {
   "cell_type": "code",
   "execution_count": 5,
   "id": "d0e032a2",
   "metadata": {
    "execution": {
     "iopub.execute_input": "2024-11-01T18:03:49.929125Z",
     "iopub.status.busy": "2024-11-01T18:03:49.928814Z",
     "iopub.status.idle": "2024-11-01T18:03:53.153930Z",
     "shell.execute_reply": "2024-11-01T18:03:53.153164Z"
    },
    "papermill": {
     "duration": 3.236019,
     "end_time": "2024-11-01T18:03:53.156344",
     "exception": false,
     "start_time": "2024-11-01T18:03:49.920325",
     "status": "completed"
    },
    "tags": []
   },
   "outputs": [],
   "source": [
    "# transform the input data to string\n",
    "df_train['tgt'] = df_train['tgt'].apply(lambda x: str(x))\n",
    "df_train['src'] = df_train['src'].add(df_train['tgt'])\n",
    "df_train['len'] = df_train['src'].apply(lambda x: len(x))\n",
    "\n",
    "df_eval['tgt'] = df_eval['tgt'].apply(lambda x: str(x))\n",
    "df_eval['src'] = df_eval['src'].add(df_eval['tgt'])\n",
    "df_eval['len'] = df_eval['src'].apply(lambda x: len(x))"
   ]
  },
  {
   "cell_type": "markdown",
   "id": "a9d74fd1",
   "metadata": {
    "papermill": {
     "duration": 0.007245,
     "end_time": "2024-11-01T18:03:53.171809",
     "exception": false,
     "start_time": "2024-11-01T18:03:53.164564",
     "status": "completed"
    },
    "tags": []
   },
   "source": [
    "# Build Dictionary\n",
    " - The model cannot perform calculations directly with plain text.\n",
    " - Convert all text (numbers/symbols) into numerical representations.\n",
    " - Special tokens\n",
    "    - '&lt;pad&gt;'\n",
    "        - Each sentence within a batch may have different lengths.\n",
    "        - The length is padded with '&lt;pad&gt;' to match the longest sentence in the batch.\n",
    "    - '&lt;eos&gt;'\n",
    "        - Specifies the end of the generated sequence.\n",
    "        - Without '&lt;eos&gt;', the model will not know when to stop generating."
   ]
  },
  {
   "cell_type": "code",
   "execution_count": 6,
   "id": "9e784bb8",
   "metadata": {
    "execution": {
     "iopub.execute_input": "2024-11-01T18:03:53.188257Z",
     "iopub.status.busy": "2024-11-01T18:03:53.187444Z",
     "iopub.status.idle": "2024-11-01T18:03:53.194956Z",
     "shell.execute_reply": "2024-11-01T18:03:53.193877Z"
    },
    "papermill": {
     "duration": 0.017871,
     "end_time": "2024-11-01T18:03:53.196900",
     "exception": false,
     "start_time": "2024-11-01T18:03:53.179029",
     "status": "completed"
    },
    "tags": []
   },
   "outputs": [
    {
     "name": "stdout",
     "output_type": "stream",
     "text": [
      "Vocab size 19\n"
     ]
    }
   ],
   "source": [
    "char_to_id = {}\n",
    "id_to_char = {}\n",
    "\n",
    "# write your code here\n",
    "# Build a dictionary and give every token in the train dataset an id\n",
    "# The dictionary should contain <eos> and <pad>\n",
    "# char_to_id is to convert charactors to ids, while id_to_char is the opposite\n",
    "\n",
    "numbers = [str(i) for i in range(0, 10)]\n",
    "operators = ['+', '-', '*', '/', '(', ')', '=']\n",
    "special_tokens = ['<pad>', '<eos>']\n",
    "\n",
    "for idx, token in enumerate(numbers + operators + special_tokens):\n",
    "    char_to_id[token] = idx\n",
    "    id_to_char[idx] = token\n",
    "\n",
    "vocab_size = len(char_to_id)\n",
    "print('Vocab size {}'.format(vocab_size))"
   ]
  },
  {
   "cell_type": "markdown",
   "id": "b7cb4562",
   "metadata": {
    "papermill": {
     "duration": 0.007553,
     "end_time": "2024-11-01T18:03:53.212338",
     "exception": false,
     "start_time": "2024-11-01T18:03:53.204785",
     "status": "completed"
    },
    "tags": []
   },
   "source": [
    "# Data Preprocessing\n",
    " - The data is processed into the format required for the model's input and output.\n",
    " - Example: 1+2-3=0\n",
    "     - Model input: 1 + 2 - 3 = 0\n",
    "     - Model output: / / / / / 0 &lt;eos&gt;  (the '/' can be replaced with &lt;pad&gt;)\n",
    "     - The key for the model's output is that the model does not need to predict the next character of the previous part. What matters is that once the model sees '=', it should start generating the answer, which is '0'. After generating the answer, it should also generate&lt;eos&gt;\n"
   ]
  },
  {
   "cell_type": "code",
   "execution_count": 7,
   "id": "a8b5cdae",
   "metadata": {
    "execution": {
     "iopub.execute_input": "2024-11-01T18:03:53.229557Z",
     "iopub.status.busy": "2024-11-01T18:03:53.228717Z",
     "iopub.status.idle": "2024-11-01T18:03:53.234598Z",
     "shell.execute_reply": "2024-11-01T18:03:53.233677Z"
    },
    "papermill": {
     "duration": 0.016757,
     "end_time": "2024-11-01T18:03:53.236523",
     "exception": false,
     "start_time": "2024-11-01T18:03:53.219766",
     "status": "completed"
    },
    "tags": []
   },
   "outputs": [],
   "source": [
    "# Write your code here\n",
    "def create_char_ids(src: str):\n",
    "    return [char_to_id[c] for c in (list(src) + ['<eos>'])]\n",
    "\n",
    "def create_label_ids(char_ids: list):\n",
    "    idx = char_ids.index(char_to_id['='])\n",
    "    return [char_to_id['<pad>']] * (idx + 1) + char_ids[idx + 1:]"
   ]
  },
  {
   "cell_type": "code",
   "execution_count": 8,
   "id": "f824e7c8",
   "metadata": {
    "execution": {
     "iopub.execute_input": "2024-11-01T18:03:53.253067Z",
     "iopub.status.busy": "2024-11-01T18:03:53.252276Z",
     "iopub.status.idle": "2024-11-01T18:04:06.575661Z",
     "shell.execute_reply": "2024-11-01T18:04:06.574559Z"
    },
    "papermill": {
     "duration": 13.333665,
     "end_time": "2024-11-01T18:04:06.577658",
     "exception": false,
     "start_time": "2024-11-01T18:03:53.243993",
     "status": "completed"
    },
    "tags": []
   },
   "outputs": [
    {
     "data": {
      "text/html": [
       "<div>\n",
       "<style scoped>\n",
       "    .dataframe tbody tr th:only-of-type {\n",
       "        vertical-align: middle;\n",
       "    }\n",
       "\n",
       "    .dataframe tbody tr th {\n",
       "        vertical-align: top;\n",
       "    }\n",
       "\n",
       "    .dataframe thead th {\n",
       "        text-align: right;\n",
       "    }\n",
       "</style>\n",
       "<table border=\"1\" class=\"dataframe\">\n",
       "  <thead>\n",
       "    <tr style=\"text-align: right;\">\n",
       "      <th></th>\n",
       "      <th>src</th>\n",
       "      <th>tgt</th>\n",
       "      <th>len</th>\n",
       "      <th>char_id_list</th>\n",
       "      <th>label_id_list</th>\n",
       "    </tr>\n",
       "  </thead>\n",
       "  <tbody>\n",
       "    <tr>\n",
       "      <th>0</th>\n",
       "      <td>14*(43+20)=882</td>\n",
       "      <td>882</td>\n",
       "      <td>14</td>\n",
       "      <td>[1, 4, 12, 14, 4, 3, 10, 2, 0, 15, 16, 8, 8, 2...</td>\n",
       "      <td>[17, 17, 17, 17, 17, 17, 17, 17, 17, 17, 17, 8...</td>\n",
       "    </tr>\n",
       "    <tr>\n",
       "      <th>1</th>\n",
       "      <td>(6+1)*5=35</td>\n",
       "      <td>35</td>\n",
       "      <td>10</td>\n",
       "      <td>[14, 6, 10, 1, 15, 12, 5, 16, 3, 5, 18]</td>\n",
       "      <td>[17, 17, 17, 17, 17, 17, 17, 17, 3, 5, 18]</td>\n",
       "    </tr>\n",
       "    <tr>\n",
       "      <th>2</th>\n",
       "      <td>13+32+29=74</td>\n",
       "      <td>74</td>\n",
       "      <td>11</td>\n",
       "      <td>[1, 3, 10, 3, 2, 10, 2, 9, 16, 7, 4, 18]</td>\n",
       "      <td>[17, 17, 17, 17, 17, 17, 17, 17, 17, 7, 4, 18]</td>\n",
       "    </tr>\n",
       "    <tr>\n",
       "      <th>3</th>\n",
       "      <td>31*(3-11)=-248</td>\n",
       "      <td>-248</td>\n",
       "      <td>14</td>\n",
       "      <td>[3, 1, 12, 14, 3, 11, 1, 1, 15, 16, 11, 2, 4, ...</td>\n",
       "      <td>[17, 17, 17, 17, 17, 17, 17, 17, 17, 17, 11, 2...</td>\n",
       "    </tr>\n",
       "    <tr>\n",
       "      <th>4</th>\n",
       "      <td>24*49+1=1177</td>\n",
       "      <td>1177</td>\n",
       "      <td>12</td>\n",
       "      <td>[2, 4, 12, 4, 9, 10, 1, 16, 1, 1, 7, 7, 18]</td>\n",
       "      <td>[17, 17, 17, 17, 17, 17, 17, 17, 1, 1, 7, 7, 18]</td>\n",
       "    </tr>\n",
       "    <tr>\n",
       "      <th>...</th>\n",
       "      <td>...</td>\n",
       "      <td>...</td>\n",
       "      <td>...</td>\n",
       "      <td>...</td>\n",
       "      <td>...</td>\n",
       "    </tr>\n",
       "    <tr>\n",
       "      <th>2369245</th>\n",
       "      <td>1+(37*8)=297</td>\n",
       "      <td>297</td>\n",
       "      <td>12</td>\n",
       "      <td>[1, 10, 14, 3, 7, 12, 8, 15, 16, 2, 9, 7, 18]</td>\n",
       "      <td>[17, 17, 17, 17, 17, 17, 17, 17, 17, 2, 9, 7, 18]</td>\n",
       "    </tr>\n",
       "    <tr>\n",
       "      <th>2369246</th>\n",
       "      <td>37-25-19=-7</td>\n",
       "      <td>-7</td>\n",
       "      <td>11</td>\n",
       "      <td>[3, 7, 11, 2, 5, 11, 1, 9, 16, 11, 7, 18]</td>\n",
       "      <td>[17, 17, 17, 17, 17, 17, 17, 17, 17, 11, 7, 18]</td>\n",
       "    </tr>\n",
       "    <tr>\n",
       "      <th>2369247</th>\n",
       "      <td>7+39-40=6</td>\n",
       "      <td>6</td>\n",
       "      <td>9</td>\n",
       "      <td>[7, 10, 3, 9, 11, 4, 0, 16, 6, 18]</td>\n",
       "      <td>[17, 17, 17, 17, 17, 17, 17, 17, 6, 18]</td>\n",
       "    </tr>\n",
       "    <tr>\n",
       "      <th>2369248</th>\n",
       "      <td>27-28-12=-13</td>\n",
       "      <td>-13</td>\n",
       "      <td>12</td>\n",
       "      <td>[2, 7, 11, 2, 8, 11, 1, 2, 16, 11, 1, 3, 18]</td>\n",
       "      <td>[17, 17, 17, 17, 17, 17, 17, 17, 17, 11, 1, 3,...</td>\n",
       "    </tr>\n",
       "    <tr>\n",
       "      <th>2369249</th>\n",
       "      <td>31+(35-43)=23</td>\n",
       "      <td>23</td>\n",
       "      <td>13</td>\n",
       "      <td>[3, 1, 10, 14, 3, 5, 11, 4, 3, 15, 16, 2, 3, 18]</td>\n",
       "      <td>[17, 17, 17, 17, 17, 17, 17, 17, 17, 17, 17, 2...</td>\n",
       "    </tr>\n",
       "  </tbody>\n",
       "</table>\n",
       "<p>2369250 rows × 5 columns</p>\n",
       "</div>"
      ],
      "text/plain": [
       "                    src   tgt  len  \\\n",
       "0        14*(43+20)=882   882   14   \n",
       "1            (6+1)*5=35    35   10   \n",
       "2           13+32+29=74    74   11   \n",
       "3        31*(3-11)=-248  -248   14   \n",
       "4          24*49+1=1177  1177   12   \n",
       "...                 ...   ...  ...   \n",
       "2369245    1+(37*8)=297   297   12   \n",
       "2369246     37-25-19=-7    -7   11   \n",
       "2369247       7+39-40=6     6    9   \n",
       "2369248    27-28-12=-13   -13   12   \n",
       "2369249   31+(35-43)=23    23   13   \n",
       "\n",
       "                                              char_id_list  \\\n",
       "0        [1, 4, 12, 14, 4, 3, 10, 2, 0, 15, 16, 8, 8, 2...   \n",
       "1                  [14, 6, 10, 1, 15, 12, 5, 16, 3, 5, 18]   \n",
       "2                 [1, 3, 10, 3, 2, 10, 2, 9, 16, 7, 4, 18]   \n",
       "3        [3, 1, 12, 14, 3, 11, 1, 1, 15, 16, 11, 2, 4, ...   \n",
       "4              [2, 4, 12, 4, 9, 10, 1, 16, 1, 1, 7, 7, 18]   \n",
       "...                                                    ...   \n",
       "2369245      [1, 10, 14, 3, 7, 12, 8, 15, 16, 2, 9, 7, 18]   \n",
       "2369246          [3, 7, 11, 2, 5, 11, 1, 9, 16, 11, 7, 18]   \n",
       "2369247                 [7, 10, 3, 9, 11, 4, 0, 16, 6, 18]   \n",
       "2369248       [2, 7, 11, 2, 8, 11, 1, 2, 16, 11, 1, 3, 18]   \n",
       "2369249   [3, 1, 10, 14, 3, 5, 11, 4, 3, 15, 16, 2, 3, 18]   \n",
       "\n",
       "                                             label_id_list  \n",
       "0        [17, 17, 17, 17, 17, 17, 17, 17, 17, 17, 17, 8...  \n",
       "1               [17, 17, 17, 17, 17, 17, 17, 17, 3, 5, 18]  \n",
       "2           [17, 17, 17, 17, 17, 17, 17, 17, 17, 7, 4, 18]  \n",
       "3        [17, 17, 17, 17, 17, 17, 17, 17, 17, 17, 11, 2...  \n",
       "4         [17, 17, 17, 17, 17, 17, 17, 17, 1, 1, 7, 7, 18]  \n",
       "...                                                    ...  \n",
       "2369245  [17, 17, 17, 17, 17, 17, 17, 17, 17, 2, 9, 7, 18]  \n",
       "2369246    [17, 17, 17, 17, 17, 17, 17, 17, 17, 11, 7, 18]  \n",
       "2369247            [17, 17, 17, 17, 17, 17, 17, 17, 6, 18]  \n",
       "2369248  [17, 17, 17, 17, 17, 17, 17, 17, 17, 11, 1, 3,...  \n",
       "2369249  [17, 17, 17, 17, 17, 17, 17, 17, 17, 17, 17, 2...  \n",
       "\n",
       "[2369250 rows x 5 columns]"
      ]
     },
     "execution_count": 8,
     "metadata": {},
     "output_type": "execute_result"
    }
   ],
   "source": [
    "df_train['char_id_list'] = df_train['src'].map(lambda x: create_char_ids(x))\n",
    "df_train['label_id_list'] = df_train['char_id_list'].map(lambda x: create_label_ids(x))\n",
    "df_train"
   ]
  },
  {
   "cell_type": "code",
   "execution_count": 9,
   "id": "d6795ead",
   "metadata": {
    "execution": {
     "iopub.execute_input": "2024-11-01T18:04:06.596219Z",
     "iopub.status.busy": "2024-11-01T18:04:06.595857Z",
     "iopub.status.idle": "2024-11-01T18:04:08.386445Z",
     "shell.execute_reply": "2024-11-01T18:04:08.385438Z"
    },
    "papermill": {
     "duration": 1.802247,
     "end_time": "2024-11-01T18:04:08.388553",
     "exception": false,
     "start_time": "2024-11-01T18:04:06.586306",
     "status": "completed"
    },
    "tags": []
   },
   "outputs": [
    {
     "data": {
      "text/html": [
       "<div>\n",
       "<style scoped>\n",
       "    .dataframe tbody tr th:only-of-type {\n",
       "        vertical-align: middle;\n",
       "    }\n",
       "\n",
       "    .dataframe tbody tr th {\n",
       "        vertical-align: top;\n",
       "    }\n",
       "\n",
       "    .dataframe thead th {\n",
       "        text-align: right;\n",
       "    }\n",
       "</style>\n",
       "<table border=\"1\" class=\"dataframe\">\n",
       "  <thead>\n",
       "    <tr style=\"text-align: right;\">\n",
       "      <th></th>\n",
       "      <th>src</th>\n",
       "      <th>tgt</th>\n",
       "      <th>len</th>\n",
       "      <th>char_id_list</th>\n",
       "      <th>label_id_list</th>\n",
       "    </tr>\n",
       "  </thead>\n",
       "  <tbody>\n",
       "    <tr>\n",
       "      <th>0</th>\n",
       "      <td>48+43+34=125</td>\n",
       "      <td>125</td>\n",
       "      <td>12</td>\n",
       "      <td>[4, 8, 10, 4, 3, 10, 3, 4, 16, 1, 2, 5, 18]</td>\n",
       "      <td>[17, 17, 17, 17, 17, 17, 17, 17, 17, 1, 2, 5, 18]</td>\n",
       "    </tr>\n",
       "    <tr>\n",
       "      <th>1</th>\n",
       "      <td>30-(48+13)=-31</td>\n",
       "      <td>-31</td>\n",
       "      <td>14</td>\n",
       "      <td>[3, 0, 11, 14, 4, 8, 10, 1, 3, 15, 16, 11, 3, ...</td>\n",
       "      <td>[17, 17, 17, 17, 17, 17, 17, 17, 17, 17, 17, 1...</td>\n",
       "    </tr>\n",
       "    <tr>\n",
       "      <th>2</th>\n",
       "      <td>(21*31)+10=661</td>\n",
       "      <td>661</td>\n",
       "      <td>14</td>\n",
       "      <td>[14, 2, 1, 12, 3, 1, 15, 10, 1, 0, 16, 6, 6, 1...</td>\n",
       "      <td>[17, 17, 17, 17, 17, 17, 17, 17, 17, 17, 17, 6...</td>\n",
       "    </tr>\n",
       "    <tr>\n",
       "      <th>3</th>\n",
       "      <td>2-27-10=-35</td>\n",
       "      <td>-35</td>\n",
       "      <td>11</td>\n",
       "      <td>[2, 11, 2, 7, 11, 1, 0, 16, 11, 3, 5, 18]</td>\n",
       "      <td>[17, 17, 17, 17, 17, 17, 17, 17, 11, 3, 5, 18]</td>\n",
       "    </tr>\n",
       "    <tr>\n",
       "      <th>4</th>\n",
       "      <td>(15*20)+24=324</td>\n",
       "      <td>324</td>\n",
       "      <td>14</td>\n",
       "      <td>[14, 1, 5, 12, 2, 0, 15, 10, 2, 4, 16, 3, 2, 4...</td>\n",
       "      <td>[17, 17, 17, 17, 17, 17, 17, 17, 17, 17, 17, 3...</td>\n",
       "    </tr>\n",
       "    <tr>\n",
       "      <th>...</th>\n",
       "      <td>...</td>\n",
       "      <td>...</td>\n",
       "      <td>...</td>\n",
       "      <td>...</td>\n",
       "      <td>...</td>\n",
       "    </tr>\n",
       "    <tr>\n",
       "      <th>263245</th>\n",
       "      <td>14*43*23=13846</td>\n",
       "      <td>13846</td>\n",
       "      <td>14</td>\n",
       "      <td>[1, 4, 12, 4, 3, 12, 2, 3, 16, 1, 3, 8, 4, 6, 18]</td>\n",
       "      <td>[17, 17, 17, 17, 17, 17, 17, 17, 17, 1, 3, 8, ...</td>\n",
       "    </tr>\n",
       "    <tr>\n",
       "      <th>263246</th>\n",
       "      <td>48-(5*27)=-87</td>\n",
       "      <td>-87</td>\n",
       "      <td>13</td>\n",
       "      <td>[4, 8, 11, 14, 5, 12, 2, 7, 15, 16, 11, 8, 7, 18]</td>\n",
       "      <td>[17, 17, 17, 17, 17, 17, 17, 17, 17, 17, 11, 8...</td>\n",
       "    </tr>\n",
       "    <tr>\n",
       "      <th>263247</th>\n",
       "      <td>30*42+16=1276</td>\n",
       "      <td>1276</td>\n",
       "      <td>13</td>\n",
       "      <td>[3, 0, 12, 4, 2, 10, 1, 6, 16, 1, 2, 7, 6, 18]</td>\n",
       "      <td>[17, 17, 17, 17, 17, 17, 17, 17, 17, 1, 2, 7, ...</td>\n",
       "    </tr>\n",
       "    <tr>\n",
       "      <th>263248</th>\n",
       "      <td>21*(10-15)=-105</td>\n",
       "      <td>-105</td>\n",
       "      <td>15</td>\n",
       "      <td>[2, 1, 12, 14, 1, 0, 11, 1, 5, 15, 16, 11, 1, ...</td>\n",
       "      <td>[17, 17, 17, 17, 17, 17, 17, 17, 17, 17, 17, 1...</td>\n",
       "    </tr>\n",
       "    <tr>\n",
       "      <th>263249</th>\n",
       "      <td>(12*37)+4=448</td>\n",
       "      <td>448</td>\n",
       "      <td>13</td>\n",
       "      <td>[14, 1, 2, 12, 3, 7, 15, 10, 4, 16, 4, 4, 8, 18]</td>\n",
       "      <td>[17, 17, 17, 17, 17, 17, 17, 17, 17, 17, 4, 4,...</td>\n",
       "    </tr>\n",
       "  </tbody>\n",
       "</table>\n",
       "<p>263250 rows × 5 columns</p>\n",
       "</div>"
      ],
      "text/plain": [
       "                    src    tgt  len  \\\n",
       "0          48+43+34=125    125   12   \n",
       "1        30-(48+13)=-31    -31   14   \n",
       "2        (21*31)+10=661    661   14   \n",
       "3           2-27-10=-35    -35   11   \n",
       "4        (15*20)+24=324    324   14   \n",
       "...                 ...    ...  ...   \n",
       "263245   14*43*23=13846  13846   14   \n",
       "263246    48-(5*27)=-87    -87   13   \n",
       "263247    30*42+16=1276   1276   13   \n",
       "263248  21*(10-15)=-105   -105   15   \n",
       "263249    (12*37)+4=448    448   13   \n",
       "\n",
       "                                             char_id_list  \\\n",
       "0             [4, 8, 10, 4, 3, 10, 3, 4, 16, 1, 2, 5, 18]   \n",
       "1       [3, 0, 11, 14, 4, 8, 10, 1, 3, 15, 16, 11, 3, ...   \n",
       "2       [14, 2, 1, 12, 3, 1, 15, 10, 1, 0, 16, 6, 6, 1...   \n",
       "3               [2, 11, 2, 7, 11, 1, 0, 16, 11, 3, 5, 18]   \n",
       "4       [14, 1, 5, 12, 2, 0, 15, 10, 2, 4, 16, 3, 2, 4...   \n",
       "...                                                   ...   \n",
       "263245  [1, 4, 12, 4, 3, 12, 2, 3, 16, 1, 3, 8, 4, 6, 18]   \n",
       "263246  [4, 8, 11, 14, 5, 12, 2, 7, 15, 16, 11, 8, 7, 18]   \n",
       "263247     [3, 0, 12, 4, 2, 10, 1, 6, 16, 1, 2, 7, 6, 18]   \n",
       "263248  [2, 1, 12, 14, 1, 0, 11, 1, 5, 15, 16, 11, 1, ...   \n",
       "263249   [14, 1, 2, 12, 3, 7, 15, 10, 4, 16, 4, 4, 8, 18]   \n",
       "\n",
       "                                            label_id_list  \n",
       "0       [17, 17, 17, 17, 17, 17, 17, 17, 17, 1, 2, 5, 18]  \n",
       "1       [17, 17, 17, 17, 17, 17, 17, 17, 17, 17, 17, 1...  \n",
       "2       [17, 17, 17, 17, 17, 17, 17, 17, 17, 17, 17, 6...  \n",
       "3          [17, 17, 17, 17, 17, 17, 17, 17, 11, 3, 5, 18]  \n",
       "4       [17, 17, 17, 17, 17, 17, 17, 17, 17, 17, 17, 3...  \n",
       "...                                                   ...  \n",
       "263245  [17, 17, 17, 17, 17, 17, 17, 17, 17, 1, 3, 8, ...  \n",
       "263246  [17, 17, 17, 17, 17, 17, 17, 17, 17, 17, 11, 8...  \n",
       "263247  [17, 17, 17, 17, 17, 17, 17, 17, 17, 1, 2, 7, ...  \n",
       "263248  [17, 17, 17, 17, 17, 17, 17, 17, 17, 17, 17, 1...  \n",
       "263249  [17, 17, 17, 17, 17, 17, 17, 17, 17, 17, 4, 4,...  \n",
       "\n",
       "[263250 rows x 5 columns]"
      ]
     },
     "execution_count": 9,
     "metadata": {},
     "output_type": "execute_result"
    }
   ],
   "source": [
    "df_eval['char_id_list'] = df_eval['src'].map(lambda x: create_char_ids(x))\n",
    "df_eval['label_id_list'] = df_eval['char_id_list'].map(lambda x: create_label_ids(x))\n",
    "df_eval"
   ]
  },
  {
   "cell_type": "markdown",
   "id": "5ca05729",
   "metadata": {
    "papermill": {
     "duration": 0.008219,
     "end_time": "2024-11-01T18:04:08.405476",
     "exception": false,
     "start_time": "2024-11-01T18:04:08.397257",
     "status": "completed"
    },
    "tags": []
   },
   "source": [
    "# Hyper Parameters\n",
    "\n",
    "|Hyperparameter|Meaning|Value|\n",
    "|-|-|-|\n",
    "|`batch_size`|Number of data samples in a single batch|64|\n",
    "|`epochs`|Total number of epochs to train|10|\n",
    "|`embed_dim`|Dimension of the word embeddings|256|\n",
    "|`hidden_dim`|Dimension of the hidden state in each timestep of the LSTM|256|\n",
    "|`lr`|Learning Rate|0.001|\n",
    "|`grad_clip`|To prevent gradient explosion in RNNs, restrict the gradient range|1|"
   ]
  },
  {
   "cell_type": "code",
   "execution_count": 10,
   "id": "1e2434e7",
   "metadata": {
    "execution": {
     "iopub.execute_input": "2024-11-01T18:04:08.423091Z",
     "iopub.status.busy": "2024-11-01T18:04:08.422761Z",
     "iopub.status.idle": "2024-11-01T18:04:08.427367Z",
     "shell.execute_reply": "2024-11-01T18:04:08.426481Z"
    },
    "papermill": {
     "duration": 0.015647,
     "end_time": "2024-11-01T18:04:08.429395",
     "exception": false,
     "start_time": "2024-11-01T18:04:08.413748",
     "status": "completed"
    },
    "tags": []
   },
   "outputs": [],
   "source": [
    "batch_size = 64\n",
    "epochs = 2\n",
    "embed_dim = 256\n",
    "hidden_dim = 256\n",
    "# lr = 0.001\n",
    "lr = 0.01\n",
    "grad_clip = 1"
   ]
  },
  {
   "cell_type": "markdown",
   "id": "68f82255",
   "metadata": {
    "papermill": {
     "duration": 0.008044,
     "end_time": "2024-11-01T18:04:08.445851",
     "exception": false,
     "start_time": "2024-11-01T18:04:08.437807",
     "status": "completed"
    },
    "tags": []
   },
   "source": [
    "# Data Batching\n",
    "- Use `torch.utils.data.Dataset` to create a data generation tool called  `dataset`.\n",
    "- The, use `torch.utils.data.DataLoader` to randomly sample from the `dataset` and group the samples into batches."
   ]
  },
  {
   "cell_type": "code",
   "execution_count": 11,
   "id": "bdbb5af6",
   "metadata": {
    "execution": {
     "iopub.execute_input": "2024-11-01T18:04:08.463046Z",
     "iopub.status.busy": "2024-11-01T18:04:08.462755Z",
     "iopub.status.idle": "2024-11-01T18:04:08.471776Z",
     "shell.execute_reply": "2024-11-01T18:04:08.470982Z"
    },
    "papermill": {
     "duration": 0.019664,
     "end_time": "2024-11-01T18:04:08.473590",
     "exception": false,
     "start_time": "2024-11-01T18:04:08.453926",
     "status": "completed"
    },
    "tags": []
   },
   "outputs": [],
   "source": [
    "class Dataset(torch.utils.data.Dataset):\n",
    "    def __init__(self, sequences):\n",
    "        self.sequences = sequences\n",
    "    \n",
    "    def __len__(self):\n",
    "        # return the amount of data\n",
    "        return len(self.sequences)\n",
    "    \n",
    "    def __getitem__(self, index):\n",
    "        # Extract the input data x and the ground truth y from the data\n",
    "        x = self.sequences.iloc[index]['char_id_list'][:-1]\n",
    "        y = self.sequences.iloc[index]['label_id_list'][1:] \n",
    "        return x, y\n",
    "\n",
    "# collate function, used to build dataloader\n",
    "def collate_fn(batch):\n",
    "    batch_x = [torch.tensor(data[0]) for data in batch]\n",
    "    batch_y = [torch.tensor(data[1]) for data in batch]\n",
    "    batch_x_lens = torch.LongTensor([len(x) for x in batch_x])\n",
    "    batch_y_lens = torch.LongTensor([len(y) for y in batch_y])\n",
    "    \n",
    "    # Pad the input sequence\n",
    "    pad_batch_x = torch.nn.utils.rnn.pad_sequence(batch_x,\n",
    "                                                  batch_first=True,\n",
    "                                                  padding_value=char_to_id['<pad>'])\n",
    "    \n",
    "    pad_batch_y = torch.nn.utils.rnn.pad_sequence(batch_y,\n",
    "                                                  batch_first=True,\n",
    "                                                  padding_value=char_to_id['<pad>'])\n",
    "    \n",
    "    return pad_batch_x, pad_batch_y, batch_x_lens, batch_y_lens"
   ]
  },
  {
   "cell_type": "code",
   "execution_count": 12,
   "id": "31d4eaff",
   "metadata": {
    "execution": {
     "iopub.execute_input": "2024-11-01T18:04:08.491408Z",
     "iopub.status.busy": "2024-11-01T18:04:08.491070Z",
     "iopub.status.idle": "2024-11-01T18:04:08.495491Z",
     "shell.execute_reply": "2024-11-01T18:04:08.494571Z"
    },
    "papermill": {
     "duration": 0.015827,
     "end_time": "2024-11-01T18:04:08.497423",
     "exception": false,
     "start_time": "2024-11-01T18:04:08.481596",
     "status": "completed"
    },
    "tags": []
   },
   "outputs": [],
   "source": [
    "ds_train = Dataset(df_train)\n",
    "ds_eval = Dataset(df_eval)"
   ]
  },
  {
   "cell_type": "code",
   "execution_count": 13,
   "id": "a05a500c",
   "metadata": {
    "execution": {
     "iopub.execute_input": "2024-11-01T18:04:08.514783Z",
     "iopub.status.busy": "2024-11-01T18:04:08.514460Z",
     "iopub.status.idle": "2024-11-01T18:04:08.519464Z",
     "shell.execute_reply": "2024-11-01T18:04:08.518681Z"
    },
    "papermill": {
     "duration": 0.016184,
     "end_time": "2024-11-01T18:04:08.521460",
     "exception": false,
     "start_time": "2024-11-01T18:04:08.505276",
     "status": "completed"
    },
    "tags": []
   },
   "outputs": [],
   "source": [
    "# Build dataloader of train set and eval set, collate_fn is the collate function\n",
    "dl_train = torch.utils.data.DataLoader(ds_train, batch_size, shuffle=True, collate_fn=collate_fn)\n",
    "dl_eval = torch.utils.data.DataLoader(ds_eval, batch_size, shuffle=True, collate_fn=collate_fn)"
   ]
  },
  {
   "cell_type": "markdown",
   "id": "25e118c9",
   "metadata": {
    "papermill": {
     "duration": 0.008267,
     "end_time": "2024-11-01T18:04:08.537823",
     "exception": false,
     "start_time": "2024-11-01T18:04:08.529556",
     "status": "completed"
    },
    "tags": []
   },
   "source": [
    "# Model Design\n",
    "\n",
    "## Execution Flow\n",
    "1. Convert all characters in the sentence into embeddings.\n",
    "2. Pass the embeddings through an LSTM sequentially.\n",
    "3. The output of the LSTM is passed into another LSTM, and additional layers can be added.\n",
    "4. The output from all time steps of the final LSTM is passed through a Fully Connected layer.\n",
    "5. The character corresponding to the maximum value across all output dimensions is selected as the next character.\n",
    "\n",
    "## Loss Function\n",
    "Since this is a classification task, Cross Entropy is used as the loss function.\n",
    "\n",
    "## Gradient Update\n",
    "Adam algorithm is used for gradient updates."
   ]
  },
  {
   "cell_type": "code",
   "execution_count": 14,
   "id": "2b7b9bc1",
   "metadata": {
    "execution": {
     "iopub.execute_input": "2024-11-01T18:04:08.555191Z",
     "iopub.status.busy": "2024-11-01T18:04:08.554871Z",
     "iopub.status.idle": "2024-11-01T18:04:08.568078Z",
     "shell.execute_reply": "2024-11-01T18:04:08.567222Z"
    },
    "papermill": {
     "duration": 0.024193,
     "end_time": "2024-11-01T18:04:08.569936",
     "exception": false,
     "start_time": "2024-11-01T18:04:08.545743",
     "status": "completed"
    },
    "tags": []
   },
   "outputs": [],
   "source": [
    "class CharRNN(torch.nn.Module):\n",
    "    def __init__(self, vocab_size, embed_dim, hidden_dim):\n",
    "        super(CharRNN, self).__init__()\n",
    "        \n",
    "        self.embedding = torch.nn.Embedding(num_embeddings=vocab_size,\n",
    "                                            embedding_dim=embed_dim,\n",
    "                                            padding_idx=char_to_id['<pad>'])\n",
    "        \n",
    "        self.rnn_layer1 = torch.nn.LSTM(input_size=embed_dim,\n",
    "                                        hidden_size=hidden_dim,\n",
    "                                        batch_first=True)\n",
    "        \n",
    "        self.rnn_layer2 = torch.nn.LSTM(input_size=hidden_dim,\n",
    "                                        hidden_size=hidden_dim,\n",
    "                                        batch_first=True)\n",
    "        \n",
    "        self.linear = torch.nn.Sequential(torch.nn.Linear(in_features=hidden_dim,\n",
    "                                                          out_features=hidden_dim),\n",
    "                                          torch.nn.ReLU(),\n",
    "                                          torch.nn.Linear(in_features=hidden_dim,\n",
    "                                                          out_features=vocab_size))\n",
    "        \n",
    "    def forward(self, batch_x, batch_x_lens):\n",
    "        return self.encoder(batch_x, batch_x_lens)\n",
    "    \n",
    "    # The forward pass of the model\n",
    "    def encoder(self, batch_x, batch_x_lens):\n",
    "        batch_x = self.embedding(batch_x)\n",
    "        \n",
    "        batch_x = torch.nn.utils.rnn.pack_padded_sequence(batch_x,\n",
    "                                                          batch_x_lens,\n",
    "                                                          batch_first=True,\n",
    "                                                          enforce_sorted=False)\n",
    "        \n",
    "        batch_x, _ = self.rnn_layer1(batch_x)\n",
    "        batch_x, _ = self.rnn_layer2(batch_x)\n",
    "        \n",
    "        batch_x, _ = torch.nn.utils.rnn.pad_packed_sequence(batch_x,\n",
    "                                                            batch_first=True)\n",
    "        \n",
    "        batch_x = self.linear(batch_x)\n",
    "        \n",
    "        return batch_x\n",
    "    \n",
    "    def generator(self, start_char, max_len=200):\n",
    "        char_list = [char_to_id[c] for c in start_char]\n",
    "        \n",
    "        next_char = None\n",
    "        \n",
    "        while len(char_list) < max_len: \n",
    "            \n",
    "            # Write your code here \n",
    "            # Pack the char_list to tensor\n",
    "            # Input the tensor to the embedding layer, LSTM layers, linear respectively\n",
    "            batch_x = torch.tensor(char_list).unsqueeze(0)\n",
    "            batch_x_lens = torch.LongTensor([len(char_list)])\n",
    "            \n",
    "            y = self.forward(batch_x, batch_x_lens)\n",
    "            \n",
    "            # Use argmax function to get the next token prediction\n",
    "            next_char = torch.argmax(y, -1)[0, -1].item()\n",
    "            \n",
    "            if next_char == char_to_id['<eos>']:\n",
    "                break\n",
    "            \n",
    "            char_list.append(next_char)\n",
    "            \n",
    "        return [id_to_char[ch_id] for ch_id in char_list]"
   ]
  },
  {
   "cell_type": "code",
   "execution_count": 15,
   "id": "03b1281f",
   "metadata": {
    "execution": {
     "iopub.execute_input": "2024-11-01T18:04:08.587275Z",
     "iopub.status.busy": "2024-11-01T18:04:08.586913Z",
     "iopub.status.idle": "2024-11-01T18:04:08.666646Z",
     "shell.execute_reply": "2024-11-01T18:04:08.665646Z"
    },
    "papermill": {
     "duration": 0.090917,
     "end_time": "2024-11-01T18:04:08.668936",
     "exception": false,
     "start_time": "2024-11-01T18:04:08.578019",
     "status": "completed"
    },
    "tags": []
   },
   "outputs": [],
   "source": [
    "torch.manual_seed(2)\n",
    "\n",
    "# Write your code here. Specify a device (cuda or cpu)\n",
    "device = torch.device('cuda')\n",
    "model = CharRNN(vocab_size,\n",
    "                embed_dim,\n",
    "                hidden_dim)"
   ]
  },
  {
   "cell_type": "code",
   "execution_count": 16,
   "id": "09738a91",
   "metadata": {
    "execution": {
     "iopub.execute_input": "2024-11-01T18:04:08.686827Z",
     "iopub.status.busy": "2024-11-01T18:04:08.686470Z",
     "iopub.status.idle": "2024-11-01T18:04:10.188251Z",
     "shell.execute_reply": "2024-11-01T18:04:10.187395Z"
    },
    "papermill": {
     "duration": 1.513153,
     "end_time": "2024-11-01T18:04:10.190597",
     "exception": false,
     "start_time": "2024-11-01T18:04:08.677444",
     "status": "completed"
    },
    "tags": []
   },
   "outputs": [],
   "source": [
    "# Write your code here. Cross-entropy loss function. The loss function should ignore <pad>\n",
    "criterion = torch.nn.CrossEntropyLoss(ignore_index=char_to_id['<pad>'])\n",
    "\n",
    "# Write your code here. Use Adam or AdamW for Optimizer\n",
    "optimizer = torch.optim.Adam(model.parameters(), lr=lr)"
   ]
  },
  {
   "cell_type": "markdown",
   "id": "651b09af",
   "metadata": {
    "papermill": {
     "duration": 0.00783,
     "end_time": "2024-11-01T18:04:10.206794",
     "exception": false,
     "start_time": "2024-11-01T18:04:10.198964",
     "status": "completed"
    },
    "tags": []
   },
   "source": [
    "# Training\n",
    "1. The outer `for` loop controls the `epoch`\n",
    "    1. The inner `for` loop uses `data_loader` to retrieve batches.\n",
    "        1. Pass the batch to the `model` for training.\n",
    "        2. Compare the predicted results `batch_pred_y` with the true labels `batch_y` using Cross Entropy to calculate the loss `loss`\n",
    "        3. Use `loss.backward` to automatically compute the gradients.\n",
    "        4. Use `torch.nn.utils.clip_grad_value_` to limit the gradient values between `-grad_clip` &lt; and &lt; `grad_clip`.\n",
    "        5. Use `optimizer.step()` to update the model (backpropagation).\n",
    "2.  After every `1000` batches, output the current loss to monitor whether it is converging."
   ]
  },
  {
   "cell_type": "code",
   "execution_count": 17,
   "id": "2ee1f0cb",
   "metadata": {
    "execution": {
     "iopub.execute_input": "2024-11-01T18:04:10.224262Z",
     "iopub.status.busy": "2024-11-01T18:04:10.223760Z",
     "iopub.status.idle": "2024-11-01T18:28:09.400713Z",
     "shell.execute_reply": "2024-11-01T18:28:09.399550Z"
    },
    "papermill": {
     "duration": 1439.188478,
     "end_time": "2024-11-01T18:28:09.403369",
     "exception": false,
     "start_time": "2024-11-01T18:04:10.214891",
     "status": "completed"
    },
    "tags": []
   },
   "outputs": [
    {
     "name": "stderr",
     "output_type": "stream",
     "text": [
      "Train epoch 1: 100%|██████████| 37020/37020 [10:54<00:00, 56.56it/s, loss=0.923]\n",
      "Validation epoch 1: 100%|██████████| 4114/4114 [01:13<00:00, 56.05it/s]\n"
     ]
    },
    {
     "name": "stdout",
     "output_type": "stream",
     "text": [
      "0.10259449192782526\n"
     ]
    },
    {
     "name": "stderr",
     "output_type": "stream",
     "text": [
      "Train epoch 2: 100%|██████████| 37020/37020 [10:38<00:00, 57.97it/s, loss=0.802]\n",
      "Validation epoch 2: 100%|██████████| 4114/4114 [01:12<00:00, 56.98it/s]"
     ]
    },
    {
     "name": "stdout",
     "output_type": "stream",
     "text": [
      "0.12573219373219374\n"
     ]
    },
    {
     "name": "stderr",
     "output_type": "stream",
     "text": [
      "\n"
     ]
    }
   ],
   "source": [
    "from tqdm import tqdm\n",
    "from copy import deepcopy\n",
    "\n",
    "model = model.to(device)\n",
    "\n",
    "i = 0\n",
    "for epoch in range(1, epochs + 1):\n",
    "    # The process bar\n",
    "    model.train()\n",
    "    bar = tqdm(dl_train, desc=f\"Train epoch {epoch}\")\n",
    "    \n",
    "    for batch_x, batch_y, batch_x_lens, batch_y_lens in bar:\n",
    "        batch_x, batch_y = batch_x.to(device), batch_y.to(device)\n",
    "        \n",
    "        # Write your code here\n",
    "        # Clear the gradient\n",
    "        optimizer.zero_grad()\n",
    "        batch_pred_y = model(batch_x, batch_x_lens)\n",
    "        \n",
    "        # Write your code here\n",
    "        # Input the prediction and ground truths to loss function\n",
    "        # Back propagation\n",
    "        loss = criterion(batch_pred_y.permute(0, 2, 1), batch_y.to(device))\n",
    "        loss.backward()\n",
    "        torch.nn.utils.clip_grad_value_(model.parameters(), grad_clip) # gradient clipping\n",
    "\n",
    "        # Write your code here\n",
    "        # Optimize parameters in the model\n",
    "        optimizer.step()\n",
    "        \n",
    "        i += 1\n",
    "        if i % 50 == 0:\n",
    "            bar.set_postfix(loss = loss.item())\n",
    "    \n",
    "    # Evaluate your model\n",
    "    model.eval()\n",
    "    bar = tqdm(dl_eval, desc=f\"Validation epoch {epoch}\")\n",
    "    matched = 0\n",
    "    total = 0\n",
    "    \n",
    "    for batch_x, batch_y, batch_x_lens, batch_y_lens in bar:\n",
    "        with torch.no_grad():\n",
    "            batch_x, batch_y = batch_x.to(device), batch_y.to(device)\n",
    "            \n",
    "            # Write your code here. Input the batch_x to the model and generate the predictions\n",
    "            batch_pred_y = model(batch_x, batch_x_lens)\n",
    "            predicted_tokens = torch.argmax(batch_pred_y, dim=-1)\n",
    "            \n",
    "            # Write your code here.\n",
    "            # Check whether the prediction match the ground truths\n",
    "            # Compute exact match (EM) on the eval dataset\n",
    "            # EM = correct/total\n",
    "            for idx, (pred, truth) in enumerate(zip(predicted_tokens, batch_y)):\n",
    "                # Remove front padding tokens\n",
    "                start = 0\n",
    "                for token in truth.tolist():\n",
    "                    if token != char_to_id['<pad>']: break\n",
    "                    start += 1\n",
    "                # Remove back padding tokens\n",
    "                end = batch_y_lens[idx].item()\n",
    "\n",
    "                # Exact match check\n",
    "                if torch.equal(pred[start: end], truth[start: end]):\n",
    "                    matched += 1\n",
    "                total += 1\n",
    "            \n",
    "    print(matched / total)"
   ]
  },
  {
   "cell_type": "code",
   "execution_count": 18,
   "id": "a02a260f",
   "metadata": {
    "execution": {
     "iopub.execute_input": "2024-11-01T18:28:11.827873Z",
     "iopub.status.busy": "2024-11-01T18:28:11.827488Z",
     "iopub.status.idle": "2024-11-01T18:28:11.843912Z",
     "shell.execute_reply": "2024-11-01T18:28:11.843202Z"
    },
    "papermill": {
     "duration": 1.255398,
     "end_time": "2024-11-01T18:28:11.845867",
     "exception": false,
     "start_time": "2024-11-01T18:28:10.590469",
     "status": "completed"
    },
    "tags": []
   },
   "outputs": [],
   "source": [
    "torch.save(model, 'model.pkl')"
   ]
  },
  {
   "cell_type": "markdown",
   "id": "a0c38fb3",
   "metadata": {
    "papermill": {
     "duration": 1.249515,
     "end_time": "2024-11-01T18:28:14.307627",
     "exception": false,
     "start_time": "2024-11-01T18:28:13.058112",
     "status": "completed"
    },
    "tags": []
   },
   "source": [
    "# Generation\n",
    "Use `model.generator` and provide an initial character to automatically generate a sequence."
   ]
  },
  {
   "cell_type": "code",
   "execution_count": 19,
   "id": "22067ed8",
   "metadata": {
    "execution": {
     "iopub.execute_input": "2024-11-01T18:28:16.718594Z",
     "iopub.status.busy": "2024-11-01T18:28:16.718214Z",
     "iopub.status.idle": "2024-11-01T18:28:16.852195Z",
     "shell.execute_reply": "2024-11-01T18:28:16.851142Z"
    },
    "papermill": {
     "duration": 1.360712,
     "end_time": "2024-11-01T18:28:16.854375",
     "exception": false,
     "start_time": "2024-11-01T18:28:15.493663",
     "status": "completed"
    },
    "tags": []
   },
   "outputs": [
    {
     "name": "stdout",
     "output_type": "stream",
     "text": [
      "1+9*8=61\n"
     ]
    }
   ],
   "source": [
    "model = model.to(\"cpu\")\n",
    "print(\"\".join(model.generator('1+9*8=')))"
   ]
  }
 ],
 "metadata": {
  "kaggle": {
   "accelerator": "nvidiaTeslaT4",
   "dataSources": [],
   "dockerImageVersionId": 30786,
   "isGpuEnabled": true,
   "isInternetEnabled": true,
   "language": "python",
   "sourceType": "notebook"
  },
  "kernelspec": {
   "display_name": "Python 3",
   "language": "python",
   "name": "python3"
  },
  "language_info": {
   "codemirror_mode": {
    "name": "ipython",
    "version": 3
   },
   "file_extension": ".py",
   "mimetype": "text/x-python",
   "name": "python",
   "nbconvert_exporter": "python",
   "pygments_lexer": "ipython3",
   "version": "3.10.14"
  },
  "papermill": {
   "default_parameters": {},
   "duration": 1543.800544,
   "end_time": "2024-11-01T18:28:20.712905",
   "environment_variables": {},
   "exception": null,
   "input_path": "__notebook__.ipynb",
   "output_path": "__notebook__.ipynb",
   "parameters": {},
   "start_time": "2024-11-01T18:02:36.912361",
   "version": "2.6.0"
  }
 },
 "nbformat": 4,
 "nbformat_minor": 5
}
