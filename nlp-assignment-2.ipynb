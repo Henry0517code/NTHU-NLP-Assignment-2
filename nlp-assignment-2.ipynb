{
 "cells": [
  {
   "cell_type": "markdown",
   "id": "451ec307",
   "metadata": {
    "papermill": {
     "duration": 0.008694,
     "end_time": "2024-11-02T05:22:23.734550",
     "exception": false,
     "start_time": "2024-11-02T05:22:23.725856",
     "status": "completed"
    },
    "tags": []
   },
   "source": [
    "# LSTM-arithmetic"
   ]
  },
  {
   "cell_type": "markdown",
   "id": "0116d831",
   "metadata": {
    "papermill": {
     "duration": 0.007719,
     "end_time": "2024-11-02T05:22:23.750386",
     "exception": false,
     "start_time": "2024-11-02T05:22:23.742667",
     "status": "completed"
    },
    "tags": []
   },
   "source": [
    "## Dataset"
   ]
  },
  {
   "cell_type": "code",
   "execution_count": 1,
   "id": "726efb5c",
   "metadata": {
    "execution": {
     "iopub.execute_input": "2024-11-02T05:22:23.768738Z",
     "iopub.status.busy": "2024-11-02T05:22:23.768072Z",
     "iopub.status.idle": "2024-11-02T05:22:44.862010Z",
     "shell.execute_reply": "2024-11-02T05:22:44.860937Z"
    },
    "papermill": {
     "duration": 21.106038,
     "end_time": "2024-11-02T05:22:44.864270",
     "exception": false,
     "start_time": "2024-11-02T05:22:23.758232",
     "status": "completed"
    },
    "tags": []
   },
   "outputs": [],
   "source": [
    "%%capture\n",
    "!pip install gdown\n",
    "!gdown 'https://drive.google.com/uc?id=1cMuL3hF9jefka9RyF4gEBIGGeFGZYHE-'\n",
    "!unzip arithmetic_NLP.zip"
   ]
  },
  {
   "cell_type": "code",
   "execution_count": 2,
   "id": "2ed84c69",
   "metadata": {
    "execution": {
     "iopub.execute_input": "2024-11-02T05:22:44.882159Z",
     "iopub.status.busy": "2024-11-02T05:22:44.881815Z",
     "iopub.status.idle": "2024-11-02T05:23:23.623247Z",
     "shell.execute_reply": "2024-11-02T05:23:23.621961Z"
    },
    "papermill": {
     "duration": 38.753306,
     "end_time": "2024-11-02T05:23:23.625788",
     "exception": false,
     "start_time": "2024-11-02T05:22:44.872482",
     "status": "completed"
    },
    "tags": []
   },
   "outputs": [],
   "source": [
    "%%capture\n",
    "!pip install seaborn\n",
    "!pip install opencc-python-reimplemented\n",
    "!pip install -U scikit-learn"
   ]
  },
  {
   "cell_type": "code",
   "execution_count": 3,
   "id": "9fad8cb6",
   "metadata": {
    "execution": {
     "iopub.execute_input": "2024-11-02T05:23:23.643833Z",
     "iopub.status.busy": "2024-11-02T05:23:23.643446Z",
     "iopub.status.idle": "2024-11-02T05:23:29.238409Z",
     "shell.execute_reply": "2024-11-02T05:23:29.237398Z"
    },
    "papermill": {
     "duration": 5.606656,
     "end_time": "2024-11-02T05:23:29.240822",
     "exception": false,
     "start_time": "2024-11-02T05:23:23.634166",
     "status": "completed"
    },
    "tags": []
   },
   "outputs": [],
   "source": [
    "import numpy as np\n",
    "import pandas as pd\n",
    "import torch\n",
    "import torch.nn\n",
    "import torch.nn.utils.rnn\n",
    "import torch.utils.data\n",
    "import matplotlib.pyplot as plt\n",
    "import seaborn as sns\n",
    "import opencc\n",
    "import os\n",
    "from sklearn.model_selection import train_test_split\n",
    "\n",
    "data_path = '.'"
   ]
  },
  {
   "cell_type": "code",
   "execution_count": 4,
   "id": "7d0151ac",
   "metadata": {
    "execution": {
     "iopub.execute_input": "2024-11-02T05:23:29.262797Z",
     "iopub.status.busy": "2024-11-02T05:23:29.262068Z",
     "iopub.status.idle": "2024-11-02T05:23:31.242303Z",
     "shell.execute_reply": "2024-11-02T05:23:31.241317Z"
    },
    "papermill": {
     "duration": 1.994031,
     "end_time": "2024-11-02T05:23:31.244400",
     "exception": false,
     "start_time": "2024-11-02T05:23:29.250369",
     "status": "completed"
    },
    "tags": []
   },
   "outputs": [
    {
     "data": {
      "text/html": [
       "<div>\n",
       "<style scoped>\n",
       "    .dataframe tbody tr th:only-of-type {\n",
       "        vertical-align: middle;\n",
       "    }\n",
       "\n",
       "    .dataframe tbody tr th {\n",
       "        vertical-align: top;\n",
       "    }\n",
       "\n",
       "    .dataframe thead th {\n",
       "        text-align: right;\n",
       "    }\n",
       "</style>\n",
       "<table border=\"1\" class=\"dataframe\">\n",
       "  <thead>\n",
       "    <tr style=\"text-align: right;\">\n",
       "      <th></th>\n",
       "      <th>src</th>\n",
       "      <th>tgt</th>\n",
       "    </tr>\n",
       "  </thead>\n",
       "  <tbody>\n",
       "    <tr>\n",
       "      <th>0</th>\n",
       "      <td>14*(43+20)=</td>\n",
       "      <td>882</td>\n",
       "    </tr>\n",
       "    <tr>\n",
       "      <th>1</th>\n",
       "      <td>(6+1)*5=</td>\n",
       "      <td>35</td>\n",
       "    </tr>\n",
       "    <tr>\n",
       "      <th>2</th>\n",
       "      <td>13+32+29=</td>\n",
       "      <td>74</td>\n",
       "    </tr>\n",
       "    <tr>\n",
       "      <th>3</th>\n",
       "      <td>31*(3-11)=</td>\n",
       "      <td>-248</td>\n",
       "    </tr>\n",
       "    <tr>\n",
       "      <th>4</th>\n",
       "      <td>24*49+1=</td>\n",
       "      <td>1177</td>\n",
       "    </tr>\n",
       "  </tbody>\n",
       "</table>\n",
       "</div>"
      ],
      "text/plain": [
       "           src   tgt\n",
       "0  14*(43+20)=   882\n",
       "1     (6+1)*5=    35\n",
       "2    13+32+29=    74\n",
       "3   31*(3-11)=  -248\n",
       "4     24*49+1=  1177"
      ]
     },
     "execution_count": 4,
     "metadata": {},
     "output_type": "execute_result"
    }
   ],
   "source": [
    "df_train = pd.read_csv(os.path.join(data_path, 'arithmetic_train.csv'), index_col=0).reset_index(drop=True)\n",
    "df_eval = pd.read_csv(os.path.join(data_path, 'arithmetic_eval.csv'), index_col=0).reset_index(drop=True)\n",
    "df_train.head()"
   ]
  },
  {
   "cell_type": "code",
   "execution_count": 5,
   "id": "b346fb47",
   "metadata": {
    "execution": {
     "iopub.execute_input": "2024-11-02T05:23:31.262393Z",
     "iopub.status.busy": "2024-11-02T05:23:31.262070Z",
     "iopub.status.idle": "2024-11-02T05:23:36.893298Z",
     "shell.execute_reply": "2024-11-02T05:23:36.892470Z"
    },
    "papermill": {
     "duration": 5.642833,
     "end_time": "2024-11-02T05:23:36.895619",
     "exception": false,
     "start_time": "2024-11-02T05:23:31.252786",
     "status": "completed"
    },
    "tags": []
   },
   "outputs": [],
   "source": [
    "# TEST: TRAIN ON SHORT\n",
    "original_sizes = [len(df_train), len(df_eval)]\n",
    "\n",
    "df = pd.concat([df_train, df_eval], ignore_index=True)\n",
    "mask = (df['src'].str.find('9') != -1) | (df['tgt'].astype(str).str.find('9') != -1)\n",
    "\n",
    "df_train = df[~mask].reset_index(drop=True)\n",
    "df_eval = df[mask].reset_index(drop=True)\n",
    "\n",
    "new_sizes = [len(df_train), len(df_eval)]"
   ]
  },
  {
   "cell_type": "code",
   "execution_count": 6,
   "id": "213900ec",
   "metadata": {
    "execution": {
     "iopub.execute_input": "2024-11-02T05:23:36.913422Z",
     "iopub.status.busy": "2024-11-02T05:23:36.913104Z",
     "iopub.status.idle": "2024-11-02T05:23:37.264378Z",
     "shell.execute_reply": "2024-11-02T05:23:37.263479Z"
    },
    "papermill": {
     "duration": 0.362534,
     "end_time": "2024-11-02T05:23:37.266543",
     "exception": false,
     "start_time": "2024-11-02T05:23:36.904009",
     "status": "completed"
    },
    "tags": []
   },
   "outputs": [
    {
     "data": {
      "image/png": "[encoded data removed]",
      "text/plain": [
       "<Figure size 800x500 with 1 Axes>"
      ]
     },
     "metadata": {},
     "output_type": "display_data"
    }
   ],
   "source": [
    "# Plotting the size changes before and after the split\n",
    "plt.figure(figsize=(8, 5))\n",
    "plt.bar(['Original Train', 'Original Eval'], original_sizes, label='Original Dataset')\n",
    "plt.bar(['New Train', 'New Eval'], new_sizes, label='New Dataset', alpha=0.7)\n",
    "plt.xlabel('Dataset Versions')\n",
    "plt.ylabel('Size')\n",
    "plt.title('Size Change in Train and Eval Datasets')\n",
    "plt.legend()\n",
    "plt.show()"
   ]
  },
  {
   "cell_type": "code",
   "execution_count": 7,
   "id": "c9578efe",
   "metadata": {
    "execution": {
     "iopub.execute_input": "2024-11-02T05:23:37.285163Z",
     "iopub.status.busy": "2024-11-02T05:23:37.284839Z",
     "iopub.status.idle": "2024-11-02T05:23:37.294508Z",
     "shell.execute_reply": "2024-11-02T05:23:37.293708Z"
    },
    "papermill": {
     "duration": 0.021126,
     "end_time": "2024-11-02T05:23:37.296435",
     "exception": false,
     "start_time": "2024-11-02T05:23:37.275309",
     "status": "completed"
    },
    "tags": []
   },
   "outputs": [
    {
     "data": {
      "text/html": [
       "<div>\n",
       "<style scoped>\n",
       "    .dataframe tbody tr th:only-of-type {\n",
       "        vertical-align: middle;\n",
       "    }\n",
       "\n",
       "    .dataframe tbody tr th {\n",
       "        vertical-align: top;\n",
       "    }\n",
       "\n",
       "    .dataframe thead th {\n",
       "        text-align: right;\n",
       "    }\n",
       "</style>\n",
       "<table border=\"1\" class=\"dataframe\">\n",
       "  <thead>\n",
       "    <tr style=\"text-align: right;\">\n",
       "      <th></th>\n",
       "      <th>src</th>\n",
       "      <th>tgt</th>\n",
       "    </tr>\n",
       "  </thead>\n",
       "  <tbody>\n",
       "    <tr>\n",
       "      <th>0</th>\n",
       "      <td>14*(43+20)=</td>\n",
       "      <td>882</td>\n",
       "    </tr>\n",
       "    <tr>\n",
       "      <th>1</th>\n",
       "      <td>(6+1)*5=</td>\n",
       "      <td>35</td>\n",
       "    </tr>\n",
       "    <tr>\n",
       "      <th>2</th>\n",
       "      <td>31*(3-11)=</td>\n",
       "      <td>-248</td>\n",
       "    </tr>\n",
       "    <tr>\n",
       "      <th>3</th>\n",
       "      <td>3+(25*25)=</td>\n",
       "      <td>628</td>\n",
       "    </tr>\n",
       "    <tr>\n",
       "      <th>4</th>\n",
       "      <td>8*(30+10)=</td>\n",
       "      <td>320</td>\n",
       "    </tr>\n",
       "    <tr>\n",
       "      <th>...</th>\n",
       "      <td>...</td>\n",
       "      <td>...</td>\n",
       "    </tr>\n",
       "    <tr>\n",
       "      <th>1619970</th>\n",
       "      <td>14*43*23=</td>\n",
       "      <td>13846</td>\n",
       "    </tr>\n",
       "    <tr>\n",
       "      <th>1619971</th>\n",
       "      <td>48-(5*27)=</td>\n",
       "      <td>-87</td>\n",
       "    </tr>\n",
       "    <tr>\n",
       "      <th>1619972</th>\n",
       "      <td>30*42+16=</td>\n",
       "      <td>1276</td>\n",
       "    </tr>\n",
       "    <tr>\n",
       "      <th>1619973</th>\n",
       "      <td>21*(10-15)=</td>\n",
       "      <td>-105</td>\n",
       "    </tr>\n",
       "    <tr>\n",
       "      <th>1619974</th>\n",
       "      <td>(12*37)+4=</td>\n",
       "      <td>448</td>\n",
       "    </tr>\n",
       "  </tbody>\n",
       "</table>\n",
       "<p>1619975 rows × 2 columns</p>\n",
       "</div>"
      ],
      "text/plain": [
       "                 src    tgt\n",
       "0        14*(43+20)=    882\n",
       "1           (6+1)*5=     35\n",
       "2         31*(3-11)=   -248\n",
       "3         3+(25*25)=    628\n",
       "4         8*(30+10)=    320\n",
       "...              ...    ...\n",
       "1619970    14*43*23=  13846\n",
       "1619971   48-(5*27)=    -87\n",
       "1619972    30*42+16=   1276\n",
       "1619973  21*(10-15)=   -105\n",
       "1619974   (12*37)+4=    448\n",
       "\n",
       "[1619975 rows x 2 columns]"
      ]
     },
     "execution_count": 7,
     "metadata": {},
     "output_type": "execute_result"
    }
   ],
   "source": [
    "df_train"
   ]
  },
  {
   "cell_type": "code",
   "execution_count": 8,
   "id": "ff30787d",
   "metadata": {
    "execution": {
     "iopub.execute_input": "2024-11-02T05:23:37.315047Z",
     "iopub.status.busy": "2024-11-02T05:23:37.314727Z",
     "iopub.status.idle": "2024-11-02T05:23:37.323513Z",
     "shell.execute_reply": "2024-11-02T05:23:37.322701Z"
    },
    "papermill": {
     "duration": 0.020202,
     "end_time": "2024-11-02T05:23:37.325476",
     "exception": false,
     "start_time": "2024-11-02T05:23:37.305274",
     "status": "completed"
    },
    "tags": []
   },
   "outputs": [
    {
     "data": {
      "text/html": [
       "<div>\n",
       "<style scoped>\n",
       "    .dataframe tbody tr th:only-of-type {\n",
       "        vertical-align: middle;\n",
       "    }\n",
       "\n",
       "    .dataframe tbody tr th {\n",
       "        vertical-align: top;\n",
       "    }\n",
       "\n",
       "    .dataframe thead th {\n",
       "        text-align: right;\n",
       "    }\n",
       "</style>\n",
       "<table border=\"1\" class=\"dataframe\">\n",
       "  <thead>\n",
       "    <tr style=\"text-align: right;\">\n",
       "      <th></th>\n",
       "      <th>src</th>\n",
       "      <th>tgt</th>\n",
       "    </tr>\n",
       "  </thead>\n",
       "  <tbody>\n",
       "    <tr>\n",
       "      <th>0</th>\n",
       "      <td>13+32+29=</td>\n",
       "      <td>74</td>\n",
       "    </tr>\n",
       "    <tr>\n",
       "      <th>1</th>\n",
       "      <td>24*49+1=</td>\n",
       "      <td>1177</td>\n",
       "    </tr>\n",
       "    <tr>\n",
       "      <th>2</th>\n",
       "      <td>9*38+49=</td>\n",
       "      <td>391</td>\n",
       "    </tr>\n",
       "    <tr>\n",
       "      <th>3</th>\n",
       "      <td>18*22-19=</td>\n",
       "      <td>377</td>\n",
       "    </tr>\n",
       "    <tr>\n",
       "      <th>4</th>\n",
       "      <td>47+(29-1)=</td>\n",
       "      <td>75</td>\n",
       "    </tr>\n",
       "    <tr>\n",
       "      <th>...</th>\n",
       "      <td>...</td>\n",
       "      <td>...</td>\n",
       "    </tr>\n",
       "    <tr>\n",
       "      <th>1012520</th>\n",
       "      <td>41*49*9=</td>\n",
       "      <td>18081</td>\n",
       "    </tr>\n",
       "    <tr>\n",
       "      <th>1012521</th>\n",
       "      <td>11+25-49=</td>\n",
       "      <td>-13</td>\n",
       "    </tr>\n",
       "    <tr>\n",
       "      <th>1012522</th>\n",
       "      <td>33*(32+9)=</td>\n",
       "      <td>1353</td>\n",
       "    </tr>\n",
       "    <tr>\n",
       "      <th>1012523</th>\n",
       "      <td>27+(49-23)=</td>\n",
       "      <td>53</td>\n",
       "    </tr>\n",
       "    <tr>\n",
       "      <th>1012524</th>\n",
       "      <td>(2+49)*6=</td>\n",
       "      <td>306</td>\n",
       "    </tr>\n",
       "  </tbody>\n",
       "</table>\n",
       "<p>1012525 rows × 2 columns</p>\n",
       "</div>"
      ],
      "text/plain": [
       "                 src    tgt\n",
       "0          13+32+29=     74\n",
       "1           24*49+1=   1177\n",
       "2           9*38+49=    391\n",
       "3          18*22-19=    377\n",
       "4         47+(29-1)=     75\n",
       "...              ...    ...\n",
       "1012520     41*49*9=  18081\n",
       "1012521    11+25-49=    -13\n",
       "1012522   33*(32+9)=   1353\n",
       "1012523  27+(49-23)=     53\n",
       "1012524    (2+49)*6=    306\n",
       "\n",
       "[1012525 rows x 2 columns]"
      ]
     },
     "execution_count": 8,
     "metadata": {},
     "output_type": "execute_result"
    }
   ],
   "source": [
    "df_eval"
   ]
  },
  {
   "cell_type": "code",
   "execution_count": 9,
   "id": "98c6885b",
   "metadata": {
    "execution": {
     "iopub.execute_input": "2024-11-02T05:23:37.344588Z",
     "iopub.status.busy": "2024-11-02T05:23:37.344310Z",
     "iopub.status.idle": "2024-11-02T05:23:40.558928Z",
     "shell.execute_reply": "2024-11-02T05:23:40.557922Z"
    },
    "papermill": {
     "duration": 3.226821,
     "end_time": "2024-11-02T05:23:40.561252",
     "exception": false,
     "start_time": "2024-11-02T05:23:37.334431",
     "status": "completed"
    },
    "tags": []
   },
   "outputs": [],
   "source": [
    "# transform the input data to string\n",
    "df_train['tgt'] = df_train['tgt'].apply(lambda x: str(x))\n",
    "df_train['src'] = df_train['src'].add(df_train['tgt'])\n",
    "df_train['len'] = df_train['src'].apply(lambda x: len(x))\n",
    "\n",
    "df_eval['tgt'] = df_eval['tgt'].apply(lambda x: str(x))\n",
    "df_eval['src'] = df_eval['src'].add(df_eval['tgt'])\n",
    "df_eval['len'] = df_eval['src'].apply(lambda x: len(x))"
   ]
  },
  {
   "cell_type": "markdown",
   "id": "967d3735",
   "metadata": {
    "papermill": {
     "duration": 0.008965,
     "end_time": "2024-11-02T05:23:40.579551",
     "exception": false,
     "start_time": "2024-11-02T05:23:40.570586",
     "status": "completed"
    },
    "tags": []
   },
   "source": [
    "# Build Dictionary\n",
    " - The model cannot perform calculations directly with plain text.\n",
    " - Convert all text (numbers/symbols) into numerical representations.\n",
    " - Special tokens\n",
    "    - '&lt;pad&gt;'\n",
    "        - Each sentence within a batch may have different lengths.\n",
    "        - The length is padded with '&lt;pad&gt;' to match the longest sentence in the batch.\n",
    "    - '&lt;eos&gt;'\n",
    "        - Specifies the end of the generated sequence.\n",
    "        - Without '&lt;eos&gt;', the model will not know when to stop generating."
   ]
  },
  {
   "cell_type": "code",
   "execution_count": 10,
   "id": "45c9ae69",
   "metadata": {
    "execution": {
     "iopub.execute_input": "2024-11-02T05:23:40.599167Z",
     "iopub.status.busy": "2024-11-02T05:23:40.598640Z",
     "iopub.status.idle": "2024-11-02T05:23:40.606021Z",
     "shell.execute_reply": "2024-11-02T05:23:40.604837Z"
    },
    "papermill": {
     "duration": 0.019449,
     "end_time": "2024-11-02T05:23:40.608172",
     "exception": false,
     "start_time": "2024-11-02T05:23:40.588723",
     "status": "completed"
    },
    "tags": []
   },
   "outputs": [
    {
     "name": "stdout",
     "output_type": "stream",
     "text": [
      "Vocab size 19\n"
     ]
    }
   ],
   "source": [
    "char_to_id = {}\n",
    "id_to_char = {}\n",
    "\n",
    "# write your code here\n",
    "# Build a dictionary and give every token in the train dataset an id\n",
    "# The dictionary should contain <eos> and <pad>\n",
    "# char_to_id is to convert charactors to ids, while id_to_char is the opposite\n",
    "\n",
    "numbers = [str(i) for i in range(0, 10)]\n",
    "operators = ['+', '-', '*', '/', '(', ')', '=']\n",
    "special_tokens = ['<pad>', '<eos>']\n",
    "\n",
    "for idx, token in enumerate(numbers + operators + special_tokens):\n",
    "    char_to_id[token] = idx\n",
    "    id_to_char[idx] = token\n",
    "\n",
    "vocab_size = len(char_to_id)\n",
    "print('Vocab size {}'.format(vocab_size))"
   ]
  },
  {
   "cell_type": "markdown",
   "id": "daaeef33",
   "metadata": {
    "papermill": {
     "duration": 0.009003,
     "end_time": "2024-11-02T05:23:40.626347",
     "exception": false,
     "start_time": "2024-11-02T05:23:40.617344",
     "status": "completed"
    },
    "tags": []
   },
   "source": [
    "# Data Preprocessing\n",
    " - The data is processed into the format required for the model's input and output.\n",
    " - Example: 1+2-3=0\n",
    "     - Model input: 1 + 2 - 3 = 0\n",
    "     - Model output: / / / / / 0 &lt;eos&gt;  (the '/' can be replaced with &lt;pad&gt;)\n",
    "     - The key for the model's output is that the model does not need to predict the next character of the previous part. What matters is that once the model sees '=', it should start generating the answer, which is '0'. After generating the answer, it should also generate&lt;eos&gt;\n"
   ]
  },
  {
   "cell_type": "code",
   "execution_count": 11,
   "id": "9172294c",
   "metadata": {
    "execution": {
     "iopub.execute_input": "2024-11-02T05:23:40.645684Z",
     "iopub.status.busy": "2024-11-02T05:23:40.645395Z",
     "iopub.status.idle": "2024-11-02T05:23:40.650461Z",
     "shell.execute_reply": "2024-11-02T05:23:40.649638Z"
    },
    "papermill": {
     "duration": 0.016901,
     "end_time": "2024-11-02T05:23:40.652396",
     "exception": false,
     "start_time": "2024-11-02T05:23:40.635495",
     "status": "completed"
    },
    "tags": []
   },
   "outputs": [],
   "source": [
    "# Write your code here\n",
    "def create_char_ids(src: str):\n",
    "    return [char_to_id[c] for c in (list(src) + ['<eos>'])]\n",
    "\n",
    "def create_label_ids(char_ids: list):\n",
    "    idx = char_ids.index(char_to_id['='])\n",
    "    return [char_to_id['<pad>']] * (idx + 1) + char_ids[idx + 1:]"
   ]
  },
  {
   "cell_type": "code",
   "execution_count": 12,
   "id": "8250e480",
   "metadata": {
    "execution": {
     "iopub.execute_input": "2024-11-02T05:23:40.672040Z",
     "iopub.status.busy": "2024-11-02T05:23:40.671433Z",
     "iopub.status.idle": "2024-11-02T05:23:49.815801Z",
     "shell.execute_reply": "2024-11-02T05:23:49.814814Z"
    },
    "papermill": {
     "duration": 9.15663,
     "end_time": "2024-11-02T05:23:49.818222",
     "exception": false,
     "start_time": "2024-11-02T05:23:40.661592",
     "status": "completed"
    },
    "tags": []
   },
   "outputs": [
    {
     "data": {
      "text/html": [
       "<div>\n",
       "<style scoped>\n",
       "    .dataframe tbody tr th:only-of-type {\n",
       "        vertical-align: middle;\n",
       "    }\n",
       "\n",
       "    .dataframe tbody tr th {\n",
       "        vertical-align: top;\n",
       "    }\n",
       "\n",
       "    .dataframe thead th {\n",
       "        text-align: right;\n",
       "    }\n",
       "</style>\n",
       "<table border=\"1\" class=\"dataframe\">\n",
       "  <thead>\n",
       "    <tr style=\"text-align: right;\">\n",
       "      <th></th>\n",
       "      <th>src</th>\n",
       "      <th>tgt</th>\n",
       "      <th>len</th>\n",
       "      <th>char_id_list</th>\n",
       "      <th>label_id_list</th>\n",
       "    </tr>\n",
       "  </thead>\n",
       "  <tbody>\n",
       "    <tr>\n",
       "      <th>0</th>\n",
       "      <td>14*(43+20)=882</td>\n",
       "      <td>882</td>\n",
       "      <td>14</td>\n",
       "      <td>[1, 4, 12, 14, 4, 3, 10, 2, 0, 15, 16, 8, 8, 2...</td>\n",
       "      <td>[17, 17, 17, 17, 17, 17, 17, 17, 17, 17, 17, 8...</td>\n",
       "    </tr>\n",
       "    <tr>\n",
       "      <th>1</th>\n",
       "      <td>(6+1)*5=35</td>\n",
       "      <td>35</td>\n",
       "      <td>10</td>\n",
       "      <td>[14, 6, 10, 1, 15, 12, 5, 16, 3, 5, 18]</td>\n",
       "      <td>[17, 17, 17, 17, 17, 17, 17, 17, 3, 5, 18]</td>\n",
       "    </tr>\n",
       "    <tr>\n",
       "      <th>2</th>\n",
       "      <td>31*(3-11)=-248</td>\n",
       "      <td>-248</td>\n",
       "      <td>14</td>\n",
       "      <td>[3, 1, 12, 14, 3, 11, 1, 1, 15, 16, 11, 2, 4, ...</td>\n",
       "      <td>[17, 17, 17, 17, 17, 17, 17, 17, 17, 17, 11, 2...</td>\n",
       "    </tr>\n",
       "    <tr>\n",
       "      <th>3</th>\n",
       "      <td>3+(25*25)=628</td>\n",
       "      <td>628</td>\n",
       "      <td>13</td>\n",
       "      <td>[3, 10, 14, 2, 5, 12, 2, 5, 15, 16, 6, 2, 8, 18]</td>\n",
       "      <td>[17, 17, 17, 17, 17, 17, 17, 17, 17, 17, 6, 2,...</td>\n",
       "    </tr>\n",
       "    <tr>\n",
       "      <th>4</th>\n",
       "      <td>8*(30+10)=320</td>\n",
       "      <td>320</td>\n",
       "      <td>13</td>\n",
       "      <td>[8, 12, 14, 3, 0, 10, 1, 0, 15, 16, 3, 2, 0, 18]</td>\n",
       "      <td>[17, 17, 17, 17, 17, 17, 17, 17, 17, 17, 3, 2,...</td>\n",
       "    </tr>\n",
       "    <tr>\n",
       "      <th>...</th>\n",
       "      <td>...</td>\n",
       "      <td>...</td>\n",
       "      <td>...</td>\n",
       "      <td>...</td>\n",
       "      <td>...</td>\n",
       "    </tr>\n",
       "    <tr>\n",
       "      <th>1619970</th>\n",
       "      <td>14*43*23=13846</td>\n",
       "      <td>13846</td>\n",
       "      <td>14</td>\n",
       "      <td>[1, 4, 12, 4, 3, 12, 2, 3, 16, 1, 3, 8, 4, 6, 18]</td>\n",
       "      <td>[17, 17, 17, 17, 17, 17, 17, 17, 17, 1, 3, 8, ...</td>\n",
       "    </tr>\n",
       "    <tr>\n",
       "      <th>1619971</th>\n",
       "      <td>48-(5*27)=-87</td>\n",
       "      <td>-87</td>\n",
       "      <td>13</td>\n",
       "      <td>[4, 8, 11, 14, 5, 12, 2, 7, 15, 16, 11, 8, 7, 18]</td>\n",
       "      <td>[17, 17, 17, 17, 17, 17, 17, 17, 17, 17, 11, 8...</td>\n",
       "    </tr>\n",
       "    <tr>\n",
       "      <th>1619972</th>\n",
       "      <td>30*42+16=1276</td>\n",
       "      <td>1276</td>\n",
       "      <td>13</td>\n",
       "      <td>[3, 0, 12, 4, 2, 10, 1, 6, 16, 1, 2, 7, 6, 18]</td>\n",
       "      <td>[17, 17, 17, 17, 17, 17, 17, 17, 17, 1, 2, 7, ...</td>\n",
       "    </tr>\n",
       "    <tr>\n",
       "      <th>1619973</th>\n",
       "      <td>21*(10-15)=-105</td>\n",
       "      <td>-105</td>\n",
       "      <td>15</td>\n",
       "      <td>[2, 1, 12, 14, 1, 0, 11, 1, 5, 15, 16, 11, 1, ...</td>\n",
       "      <td>[17, 17, 17, 17, 17, 17, 17, 17, 17, 17, 17, 1...</td>\n",
       "    </tr>\n",
       "    <tr>\n",
       "      <th>1619974</th>\n",
       "      <td>(12*37)+4=448</td>\n",
       "      <td>448</td>\n",
       "      <td>13</td>\n",
       "      <td>[14, 1, 2, 12, 3, 7, 15, 10, 4, 16, 4, 4, 8, 18]</td>\n",
       "      <td>[17, 17, 17, 17, 17, 17, 17, 17, 17, 17, 4, 4,...</td>\n",
       "    </tr>\n",
       "  </tbody>\n",
       "</table>\n",
       "<p>1619975 rows × 5 columns</p>\n",
       "</div>"
      ],
      "text/plain": [
       "                     src    tgt  len  \\\n",
       "0         14*(43+20)=882    882   14   \n",
       "1             (6+1)*5=35     35   10   \n",
       "2         31*(3-11)=-248   -248   14   \n",
       "3          3+(25*25)=628    628   13   \n",
       "4          8*(30+10)=320    320   13   \n",
       "...                  ...    ...  ...   \n",
       "1619970   14*43*23=13846  13846   14   \n",
       "1619971    48-(5*27)=-87    -87   13   \n",
       "1619972    30*42+16=1276   1276   13   \n",
       "1619973  21*(10-15)=-105   -105   15   \n",
       "1619974    (12*37)+4=448    448   13   \n",
       "\n",
       "                                              char_id_list  \\\n",
       "0        [1, 4, 12, 14, 4, 3, 10, 2, 0, 15, 16, 8, 8, 2...   \n",
       "1                  [14, 6, 10, 1, 15, 12, 5, 16, 3, 5, 18]   \n",
       "2        [3, 1, 12, 14, 3, 11, 1, 1, 15, 16, 11, 2, 4, ...   \n",
       "3         [3, 10, 14, 2, 5, 12, 2, 5, 15, 16, 6, 2, 8, 18]   \n",
       "4         [8, 12, 14, 3, 0, 10, 1, 0, 15, 16, 3, 2, 0, 18]   \n",
       "...                                                    ...   \n",
       "1619970  [1, 4, 12, 4, 3, 12, 2, 3, 16, 1, 3, 8, 4, 6, 18]   \n",
       "1619971  [4, 8, 11, 14, 5, 12, 2, 7, 15, 16, 11, 8, 7, 18]   \n",
       "1619972     [3, 0, 12, 4, 2, 10, 1, 6, 16, 1, 2, 7, 6, 18]   \n",
       "1619973  [2, 1, 12, 14, 1, 0, 11, 1, 5, 15, 16, 11, 1, ...   \n",
       "1619974   [14, 1, 2, 12, 3, 7, 15, 10, 4, 16, 4, 4, 8, 18]   \n",
       "\n",
       "                                             label_id_list  \n",
       "0        [17, 17, 17, 17, 17, 17, 17, 17, 17, 17, 17, 8...  \n",
       "1               [17, 17, 17, 17, 17, 17, 17, 17, 3, 5, 18]  \n",
       "2        [17, 17, 17, 17, 17, 17, 17, 17, 17, 17, 11, 2...  \n",
       "3        [17, 17, 17, 17, 17, 17, 17, 17, 17, 17, 6, 2,...  \n",
       "4        [17, 17, 17, 17, 17, 17, 17, 17, 17, 17, 3, 2,...  \n",
       "...                                                    ...  \n",
       "1619970  [17, 17, 17, 17, 17, 17, 17, 17, 17, 1, 3, 8, ...  \n",
       "1619971  [17, 17, 17, 17, 17, 17, 17, 17, 17, 17, 11, 8...  \n",
       "1619972  [17, 17, 17, 17, 17, 17, 17, 17, 17, 1, 2, 7, ...  \n",
       "1619973  [17, 17, 17, 17, 17, 17, 17, 17, 17, 17, 17, 1...  \n",
       "1619974  [17, 17, 17, 17, 17, 17, 17, 17, 17, 17, 4, 4,...  \n",
       "\n",
       "[1619975 rows x 5 columns]"
      ]
     },
     "execution_count": 12,
     "metadata": {},
     "output_type": "execute_result"
    }
   ],
   "source": [
    "df_train['char_id_list'] = df_train['src'].map(lambda x: create_char_ids(x))\n",
    "df_train['label_id_list'] = df_train['char_id_list'].map(lambda x: create_label_ids(x))\n",
    "df_train"
   ]
  },
  {
   "cell_type": "code",
   "execution_count": 13,
   "id": "ed68668d",
   "metadata": {
    "execution": {
     "iopub.execute_input": "2024-11-02T05:23:49.839342Z",
     "iopub.status.busy": "2024-11-02T05:23:49.838737Z",
     "iopub.status.idle": "2024-11-02T05:23:55.230580Z",
     "shell.execute_reply": "2024-11-02T05:23:55.229691Z"
    },
    "papermill": {
     "duration": 5.404339,
     "end_time": "2024-11-02T05:23:55.232732",
     "exception": false,
     "start_time": "2024-11-02T05:23:49.828393",
     "status": "completed"
    },
    "tags": []
   },
   "outputs": [
    {
     "data": {
      "text/html": [
       "<div>\n",
       "<style scoped>\n",
       "    .dataframe tbody tr th:only-of-type {\n",
       "        vertical-align: middle;\n",
       "    }\n",
       "\n",
       "    .dataframe tbody tr th {\n",
       "        vertical-align: top;\n",
       "    }\n",
       "\n",
       "    .dataframe thead th {\n",
       "        text-align: right;\n",
       "    }\n",
       "</style>\n",
       "<table border=\"1\" class=\"dataframe\">\n",
       "  <thead>\n",
       "    <tr style=\"text-align: right;\">\n",
       "      <th></th>\n",
       "      <th>src</th>\n",
       "      <th>tgt</th>\n",
       "      <th>len</th>\n",
       "      <th>char_id_list</th>\n",
       "      <th>label_id_list</th>\n",
       "    </tr>\n",
       "  </thead>\n",
       "  <tbody>\n",
       "    <tr>\n",
       "      <th>0</th>\n",
       "      <td>13+32+29=74</td>\n",
       "      <td>74</td>\n",
       "      <td>11</td>\n",
       "      <td>[1, 3, 10, 3, 2, 10, 2, 9, 16, 7, 4, 18]</td>\n",
       "      <td>[17, 17, 17, 17, 17, 17, 17, 17, 17, 7, 4, 18]</td>\n",
       "    </tr>\n",
       "    <tr>\n",
       "      <th>1</th>\n",
       "      <td>24*49+1=1177</td>\n",
       "      <td>1177</td>\n",
       "      <td>12</td>\n",
       "      <td>[2, 4, 12, 4, 9, 10, 1, 16, 1, 1, 7, 7, 18]</td>\n",
       "      <td>[17, 17, 17, 17, 17, 17, 17, 17, 1, 1, 7, 7, 18]</td>\n",
       "    </tr>\n",
       "    <tr>\n",
       "      <th>2</th>\n",
       "      <td>9*38+49=391</td>\n",
       "      <td>391</td>\n",
       "      <td>11</td>\n",
       "      <td>[9, 12, 3, 8, 10, 4, 9, 16, 3, 9, 1, 18]</td>\n",
       "      <td>[17, 17, 17, 17, 17, 17, 17, 17, 3, 9, 1, 18]</td>\n",
       "    </tr>\n",
       "    <tr>\n",
       "      <th>3</th>\n",
       "      <td>18*22-19=377</td>\n",
       "      <td>377</td>\n",
       "      <td>12</td>\n",
       "      <td>[1, 8, 12, 2, 2, 11, 1, 9, 16, 3, 7, 7, 18]</td>\n",
       "      <td>[17, 17, 17, 17, 17, 17, 17, 17, 17, 3, 7, 7, 18]</td>\n",
       "    </tr>\n",
       "    <tr>\n",
       "      <th>4</th>\n",
       "      <td>47+(29-1)=75</td>\n",
       "      <td>75</td>\n",
       "      <td>12</td>\n",
       "      <td>[4, 7, 10, 14, 2, 9, 11, 1, 15, 16, 7, 5, 18]</td>\n",
       "      <td>[17, 17, 17, 17, 17, 17, 17, 17, 17, 17, 7, 5,...</td>\n",
       "    </tr>\n",
       "    <tr>\n",
       "      <th>...</th>\n",
       "      <td>...</td>\n",
       "      <td>...</td>\n",
       "      <td>...</td>\n",
       "      <td>...</td>\n",
       "      <td>...</td>\n",
       "    </tr>\n",
       "    <tr>\n",
       "      <th>1012520</th>\n",
       "      <td>41*49*9=18081</td>\n",
       "      <td>18081</td>\n",
       "      <td>13</td>\n",
       "      <td>[4, 1, 12, 4, 9, 12, 9, 16, 1, 8, 0, 8, 1, 18]</td>\n",
       "      <td>[17, 17, 17, 17, 17, 17, 17, 17, 1, 8, 0, 8, 1...</td>\n",
       "    </tr>\n",
       "    <tr>\n",
       "      <th>1012521</th>\n",
       "      <td>11+25-49=-13</td>\n",
       "      <td>-13</td>\n",
       "      <td>12</td>\n",
       "      <td>[1, 1, 10, 2, 5, 11, 4, 9, 16, 11, 1, 3, 18]</td>\n",
       "      <td>[17, 17, 17, 17, 17, 17, 17, 17, 17, 11, 1, 3,...</td>\n",
       "    </tr>\n",
       "    <tr>\n",
       "      <th>1012522</th>\n",
       "      <td>33*(32+9)=1353</td>\n",
       "      <td>1353</td>\n",
       "      <td>14</td>\n",
       "      <td>[3, 3, 12, 14, 3, 2, 10, 9, 15, 16, 1, 3, 5, 3...</td>\n",
       "      <td>[17, 17, 17, 17, 17, 17, 17, 17, 17, 17, 1, 3,...</td>\n",
       "    </tr>\n",
       "    <tr>\n",
       "      <th>1012523</th>\n",
       "      <td>27+(49-23)=53</td>\n",
       "      <td>53</td>\n",
       "      <td>13</td>\n",
       "      <td>[2, 7, 10, 14, 4, 9, 11, 2, 3, 15, 16, 5, 3, 18]</td>\n",
       "      <td>[17, 17, 17, 17, 17, 17, 17, 17, 17, 17, 17, 5...</td>\n",
       "    </tr>\n",
       "    <tr>\n",
       "      <th>1012524</th>\n",
       "      <td>(2+49)*6=306</td>\n",
       "      <td>306</td>\n",
       "      <td>12</td>\n",
       "      <td>[14, 2, 10, 4, 9, 15, 12, 6, 16, 3, 0, 6, 18]</td>\n",
       "      <td>[17, 17, 17, 17, 17, 17, 17, 17, 17, 3, 0, 6, 18]</td>\n",
       "    </tr>\n",
       "  </tbody>\n",
       "</table>\n",
       "<p>1012525 rows × 5 columns</p>\n",
       "</div>"
      ],
      "text/plain": [
       "                    src    tgt  len  \\\n",
       "0           13+32+29=74     74   11   \n",
       "1          24*49+1=1177   1177   12   \n",
       "2           9*38+49=391    391   11   \n",
       "3          18*22-19=377    377   12   \n",
       "4          47+(29-1)=75     75   12   \n",
       "...                 ...    ...  ...   \n",
       "1012520   41*49*9=18081  18081   13   \n",
       "1012521    11+25-49=-13    -13   12   \n",
       "1012522  33*(32+9)=1353   1353   14   \n",
       "1012523   27+(49-23)=53     53   13   \n",
       "1012524    (2+49)*6=306    306   12   \n",
       "\n",
       "                                              char_id_list  \\\n",
       "0                 [1, 3, 10, 3, 2, 10, 2, 9, 16, 7, 4, 18]   \n",
       "1              [2, 4, 12, 4, 9, 10, 1, 16, 1, 1, 7, 7, 18]   \n",
       "2                 [9, 12, 3, 8, 10, 4, 9, 16, 3, 9, 1, 18]   \n",
       "3              [1, 8, 12, 2, 2, 11, 1, 9, 16, 3, 7, 7, 18]   \n",
       "4            [4, 7, 10, 14, 2, 9, 11, 1, 15, 16, 7, 5, 18]   \n",
       "...                                                    ...   \n",
       "1012520     [4, 1, 12, 4, 9, 12, 9, 16, 1, 8, 0, 8, 1, 18]   \n",
       "1012521       [1, 1, 10, 2, 5, 11, 4, 9, 16, 11, 1, 3, 18]   \n",
       "1012522  [3, 3, 12, 14, 3, 2, 10, 9, 15, 16, 1, 3, 5, 3...   \n",
       "1012523   [2, 7, 10, 14, 4, 9, 11, 2, 3, 15, 16, 5, 3, 18]   \n",
       "1012524      [14, 2, 10, 4, 9, 15, 12, 6, 16, 3, 0, 6, 18]   \n",
       "\n",
       "                                             label_id_list  \n",
       "0           [17, 17, 17, 17, 17, 17, 17, 17, 17, 7, 4, 18]  \n",
       "1         [17, 17, 17, 17, 17, 17, 17, 17, 1, 1, 7, 7, 18]  \n",
       "2            [17, 17, 17, 17, 17, 17, 17, 17, 3, 9, 1, 18]  \n",
       "3        [17, 17, 17, 17, 17, 17, 17, 17, 17, 3, 7, 7, 18]  \n",
       "4        [17, 17, 17, 17, 17, 17, 17, 17, 17, 17, 7, 5,...  \n",
       "...                                                    ...  \n",
       "1012520  [17, 17, 17, 17, 17, 17, 17, 17, 1, 8, 0, 8, 1...  \n",
       "1012521  [17, 17, 17, 17, 17, 17, 17, 17, 17, 11, 1, 3,...  \n",
       "1012522  [17, 17, 17, 17, 17, 17, 17, 17, 17, 17, 1, 3,...  \n",
       "1012523  [17, 17, 17, 17, 17, 17, 17, 17, 17, 17, 17, 5...  \n",
       "1012524  [17, 17, 17, 17, 17, 17, 17, 17, 17, 3, 0, 6, 18]  \n",
       "\n",
       "[1012525 rows x 5 columns]"
      ]
     },
     "execution_count": 13,
     "metadata": {},
     "output_type": "execute_result"
    }
   ],
   "source": [
    "df_eval['char_id_list'] = df_eval['src'].map(lambda x: create_char_ids(x))\n",
    "df_eval['label_id_list'] = df_eval['char_id_list'].map(lambda x: create_label_ids(x))\n",
    "df_eval"
   ]
  },
  {
   "cell_type": "markdown",
   "id": "092700ed",
   "metadata": {
    "papermill": {
     "duration": 0.009608,
     "end_time": "2024-11-02T05:23:55.252339",
     "exception": false,
     "start_time": "2024-11-02T05:23:55.242731",
     "status": "completed"
    },
    "tags": []
   },
   "source": [
    "# Hyper Parameters\n",
    "\n",
    "|Hyperparameter|Meaning|Value|\n",
    "|-|-|-|\n",
    "|`batch_size`|Number of data samples in a single batch|64|\n",
    "|`epochs`|Total number of epochs to train|10|\n",
    "|`embed_dim`|Dimension of the word embeddings|256|\n",
    "|`hidden_dim`|Dimension of the hidden state in each timestep of the LSTM|256|\n",
    "|`lr`|Learning Rate|0.001|\n",
    "|`grad_clip`|To prevent gradient explosion in RNNs, restrict the gradient range|1|"
   ]
  },
  {
   "cell_type": "code",
   "execution_count": 14,
   "id": "9c536570",
   "metadata": {
    "execution": {
     "iopub.execute_input": "2024-11-02T05:23:55.272989Z",
     "iopub.status.busy": "2024-11-02T05:23:55.272679Z",
     "iopub.status.idle": "2024-11-02T05:23:55.277143Z",
     "shell.execute_reply": "2024-11-02T05:23:55.276254Z"
    },
    "papermill": {
     "duration": 0.016899,
     "end_time": "2024-11-02T05:23:55.279052",
     "exception": false,
     "start_time": "2024-11-02T05:23:55.262153",
     "status": "completed"
    },
    "tags": []
   },
   "outputs": [],
   "source": [
    "batch_size = 64\n",
    "epochs = 2\n",
    "embed_dim = 256\n",
    "hidden_dim = 256\n",
    "lr = 0.001\n",
    "grad_clip = 1"
   ]
  },
  {
   "cell_type": "markdown",
   "id": "709c28ce",
   "metadata": {
    "papermill": {
     "duration": 0.009809,
     "end_time": "2024-11-02T05:23:55.298614",
     "exception": false,
     "start_time": "2024-11-02T05:23:55.288805",
     "status": "completed"
    },
    "tags": []
   },
   "source": [
    "# Data Batching\n",
    "- Use `torch.utils.data.Dataset` to create a data generation tool called  `dataset`.\n",
    "- The, use `torch.utils.data.DataLoader` to randomly sample from the `dataset` and group the samples into batches."
   ]
  },
  {
   "cell_type": "code",
   "execution_count": 15,
   "id": "211ef819",
   "metadata": {
    "execution": {
     "iopub.execute_input": "2024-11-02T05:23:55.319100Z",
     "iopub.status.busy": "2024-11-02T05:23:55.318597Z",
     "iopub.status.idle": "2024-11-02T05:23:55.327521Z",
     "shell.execute_reply": "2024-11-02T05:23:55.326677Z"
    },
    "papermill": {
     "duration": 0.021285,
     "end_time": "2024-11-02T05:23:55.329452",
     "exception": false,
     "start_time": "2024-11-02T05:23:55.308167",
     "status": "completed"
    },
    "tags": []
   },
   "outputs": [],
   "source": [
    "class Dataset(torch.utils.data.Dataset):\n",
    "    def __init__(self, sequences):\n",
    "        self.sequences = sequences\n",
    "    \n",
    "    def __len__(self):\n",
    "        # return the amount of data\n",
    "        return len(self.sequences)\n",
    "    \n",
    "    def __getitem__(self, index):\n",
    "        # Extract the input data x and the ground truth y from the data\n",
    "        x = self.sequences.iloc[index]['char_id_list'][:-1]\n",
    "        y = self.sequences.iloc[index]['label_id_list'][1:] \n",
    "        return x, y\n",
    "\n",
    "# collate function, used to build dataloader\n",
    "def collate_fn(batch):\n",
    "    batch_x = [torch.tensor(data[0]) for data in batch]\n",
    "    batch_y = [torch.tensor(data[1]) for data in batch]\n",
    "    batch_x_lens = torch.LongTensor([len(x) for x in batch_x])\n",
    "    batch_y_lens = torch.LongTensor([len(y) for y in batch_y])\n",
    "    \n",
    "    # Pad the input sequence\n",
    "    pad_batch_x = torch.nn.utils.rnn.pad_sequence(batch_x,\n",
    "                                                  batch_first=True,\n",
    "                                                  padding_value=char_to_id['<pad>'])\n",
    "    \n",
    "    pad_batch_y = torch.nn.utils.rnn.pad_sequence(batch_y,\n",
    "                                                  batch_first=True,\n",
    "                                                  padding_value=char_to_id['<pad>'])\n",
    "    \n",
    "    return pad_batch_x, pad_batch_y, batch_x_lens, batch_y_lens"
   ]
  },
  {
   "cell_type": "code",
   "execution_count": 16,
   "id": "1c97e682",
   "metadata": {
    "execution": {
     "iopub.execute_input": "2024-11-02T05:23:55.349964Z",
     "iopub.status.busy": "2024-11-02T05:23:55.349649Z",
     "iopub.status.idle": "2024-11-02T05:23:55.353536Z",
     "shell.execute_reply": "2024-11-02T05:23:55.352733Z"
    },
    "papermill": {
     "duration": 0.016324,
     "end_time": "2024-11-02T05:23:55.355456",
     "exception": false,
     "start_time": "2024-11-02T05:23:55.339132",
     "status": "completed"
    },
    "tags": []
   },
   "outputs": [],
   "source": [
    "ds_train = Dataset(df_train)\n",
    "ds_eval = Dataset(df_eval)"
   ]
  },
  {
   "cell_type": "code",
   "execution_count": 17,
   "id": "b314fa60",
   "metadata": {
    "execution": {
     "iopub.execute_input": "2024-11-02T05:23:55.376479Z",
     "iopub.status.busy": "2024-11-02T05:23:55.375779Z",
     "iopub.status.idle": "2024-11-02T05:23:55.380585Z",
     "shell.execute_reply": "2024-11-02T05:23:55.379755Z"
    },
    "papermill": {
     "duration": 0.017166,
     "end_time": "2024-11-02T05:23:55.382353",
     "exception": false,
     "start_time": "2024-11-02T05:23:55.365187",
     "status": "completed"
    },
    "tags": []
   },
   "outputs": [],
   "source": [
    "# Build dataloader of train set and eval set, collate_fn is the collate function\n",
    "dl_train = torch.utils.data.DataLoader(ds_train, batch_size, shuffle=True, collate_fn=collate_fn)\n",
    "dl_eval = torch.utils.data.DataLoader(ds_eval, batch_size, shuffle=True, collate_fn=collate_fn)"
   ]
  },
  {
   "cell_type": "markdown",
   "id": "2bbda4e8",
   "metadata": {
    "papermill": {
     "duration": 0.009382,
     "end_time": "2024-11-02T05:23:55.401231",
     "exception": false,
     "start_time": "2024-11-02T05:23:55.391849",
     "status": "completed"
    },
    "tags": []
   },
   "source": [
    "# Model Design\n",
    "\n",
    "## Execution Flow\n",
    "1. Convert all characters in the sentence into embeddings.\n",
    "2. Pass the embeddings through an LSTM sequentially.\n",
    "3. The output of the LSTM is passed into another LSTM, and additional layers can be added.\n",
    "4. The output from all time steps of the final LSTM is passed through a Fully Connected layer.\n",
    "5. The character corresponding to the maximum value across all output dimensions is selected as the next character.\n",
    "\n",
    "## Loss Function\n",
    "Since this is a classification task, Cross Entropy is used as the loss function.\n",
    "\n",
    "## Gradient Update\n",
    "Adam algorithm is used for gradient updates."
   ]
  },
  {
   "cell_type": "code",
   "execution_count": 18,
   "id": "490a01d9",
   "metadata": {
    "execution": {
     "iopub.execute_input": "2024-11-02T05:23:55.421749Z",
     "iopub.status.busy": "2024-11-02T05:23:55.421221Z",
     "iopub.status.idle": "2024-11-02T05:23:55.433874Z",
     "shell.execute_reply": "2024-11-02T05:23:55.433028Z"
    },
    "papermill": {
     "duration": 0.025054,
     "end_time": "2024-11-02T05:23:55.435880",
     "exception": false,
     "start_time": "2024-11-02T05:23:55.410826",
     "status": "completed"
    },
    "tags": []
   },
   "outputs": [],
   "source": [
    "class CharRNN(torch.nn.Module):\n",
    "    def __init__(self, vocab_size, embed_dim, hidden_dim):\n",
    "        super(CharRNN, self).__init__()\n",
    "        \n",
    "        self.embedding = torch.nn.Embedding(num_embeddings=vocab_size,\n",
    "                                            embedding_dim=embed_dim,\n",
    "                                            padding_idx=char_to_id['<pad>'])\n",
    "        \n",
    "        self.rnn_layer1 = torch.nn.LSTM(input_size=embed_dim,\n",
    "                                        hidden_size=hidden_dim,\n",
    "                                        batch_first=True)\n",
    "        \n",
    "        self.rnn_layer2 = torch.nn.LSTM(input_size=hidden_dim,\n",
    "                                        hidden_size=hidden_dim,\n",
    "                                        batch_first=True)\n",
    "        \n",
    "        self.linear = torch.nn.Sequential(torch.nn.Linear(in_features=hidden_dim,\n",
    "                                                          out_features=hidden_dim),\n",
    "                                          torch.nn.ReLU(),\n",
    "                                          torch.nn.Linear(in_features=hidden_dim,\n",
    "                                                          out_features=vocab_size))\n",
    "        \n",
    "    def forward(self, batch_x, batch_x_lens):\n",
    "        return self.encoder(batch_x, batch_x_lens)\n",
    "    \n",
    "    # The forward pass of the model\n",
    "    def encoder(self, batch_x, batch_x_lens):\n",
    "        batch_x = self.embedding(batch_x)\n",
    "        \n",
    "        batch_x = torch.nn.utils.rnn.pack_padded_sequence(batch_x,\n",
    "                                                          batch_x_lens,\n",
    "                                                          batch_first=True,\n",
    "                                                          enforce_sorted=False)\n",
    "        \n",
    "        batch_x, _ = self.rnn_layer1(batch_x)\n",
    "        batch_x, _ = self.rnn_layer2(batch_x)\n",
    "        \n",
    "        batch_x, _ = torch.nn.utils.rnn.pad_packed_sequence(batch_x,\n",
    "                                                            batch_first=True)\n",
    "        \n",
    "        batch_x = self.linear(batch_x)\n",
    "        \n",
    "        return batch_x\n",
    "    \n",
    "    def generator(self, start_char, max_len=200):\n",
    "        char_list = [char_to_id[c] for c in start_char]\n",
    "        \n",
    "        next_char = None\n",
    "        \n",
    "        while len(char_list) < max_len: \n",
    "            \n",
    "            # Write your code here \n",
    "            # Pack the char_list to tensor\n",
    "            # Input the tensor to the embedding layer, LSTM layers, linear respectively\n",
    "            batch_x = torch.tensor(char_list).unsqueeze(0)\n",
    "            batch_x_lens = torch.LongTensor([len(char_list)])\n",
    "            \n",
    "            y = self.forward(batch_x, batch_x_lens)\n",
    "            \n",
    "            # Use argmax function to get the next token prediction\n",
    "            next_char = torch.argmax(y, -1)[0, -1].item()\n",
    "            \n",
    "            if next_char == char_to_id['<eos>']:\n",
    "                break\n",
    "            \n",
    "            char_list.append(next_char)\n",
    "            \n",
    "        return [id_to_char[ch_id] for ch_id in char_list]"
   ]
  },
  {
   "cell_type": "code",
   "execution_count": 19,
   "id": "34ea3adb",
   "metadata": {
    "execution": {
     "iopub.execute_input": "2024-11-02T05:23:55.456314Z",
     "iopub.status.busy": "2024-11-02T05:23:55.456025Z",
     "iopub.status.idle": "2024-11-02T05:23:55.516087Z",
     "shell.execute_reply": "2024-11-02T05:23:55.515368Z"
    },
    "papermill": {
     "duration": 0.072408,
     "end_time": "2024-11-02T05:23:55.517936",
     "exception": false,
     "start_time": "2024-11-02T05:23:55.445528",
     "status": "completed"
    },
    "tags": []
   },
   "outputs": [],
   "source": [
    "torch.manual_seed(2)\n",
    "\n",
    "# Write your code here. Specify a device (cuda or cpu)\n",
    "device = torch.device('cuda')\n",
    "model = CharRNN(vocab_size,\n",
    "                embed_dim,\n",
    "                hidden_dim)"
   ]
  },
  {
   "cell_type": "code",
   "execution_count": 20,
   "id": "aa94bd1d",
   "metadata": {
    "execution": {
     "iopub.execute_input": "2024-11-02T05:23:55.538352Z",
     "iopub.status.busy": "2024-11-02T05:23:55.538082Z",
     "iopub.status.idle": "2024-11-02T05:23:56.684937Z",
     "shell.execute_reply": "2024-11-02T05:23:56.684161Z"
    },
    "papermill": {
     "duration": 1.159737,
     "end_time": "2024-11-02T05:23:56.687317",
     "exception": false,
     "start_time": "2024-11-02T05:23:55.527580",
     "status": "completed"
    },
    "tags": []
   },
   "outputs": [],
   "source": [
    "# Write your code here. Cross-entropy loss function. The loss function should ignore <pad>\n",
    "criterion = torch.nn.CrossEntropyLoss(ignore_index=char_to_id['<pad>'])\n",
    "\n",
    "# Write your code here. Use Adam or AdamW for Optimizer\n",
    "optimizer = torch.optim.Adam(model.parameters(), lr=lr)"
   ]
  },
  {
   "cell_type": "markdown",
   "id": "1486d5ad",
   "metadata": {
    "papermill": {
     "duration": 0.009609,
     "end_time": "2024-11-02T05:23:56.707321",
     "exception": false,
     "start_time": "2024-11-02T05:23:56.697712",
     "status": "completed"
    },
    "tags": []
   },
   "source": [
    "# Training\n",
    "1. The outer `for` loop controls the `epoch`\n",
    "    1. The inner `for` loop uses `data_loader` to retrieve batches.\n",
    "        1. Pass the batch to the `model` for training.\n",
    "        2. Compare the predicted results `batch_pred_y` with the true labels `batch_y` using Cross Entropy to calculate the loss `loss`\n",
    "        3. Use `loss.backward` to automatically compute the gradients.\n",
    "        4. Use `torch.nn.utils.clip_grad_value_` to limit the gradient values between `-grad_clip` &lt; and &lt; `grad_clip`.\n",
    "        5. Use `optimizer.step()` to update the model (backpropagation).\n",
    "2.  After every `1000` batches, output the current loss to monitor whether it is converging."
   ]
  },
  {
   "cell_type": "code",
   "execution_count": 21,
   "id": "e92b6414",
   "metadata": {
    "execution": {
     "iopub.execute_input": "2024-11-02T05:23:56.727992Z",
     "iopub.status.busy": "2024-11-02T05:23:56.727532Z",
     "iopub.status.idle": "2024-11-02T05:46:35.095738Z",
     "shell.execute_reply": "2024-11-02T05:46:35.094554Z"
    },
    "papermill": {
     "duration": 1358.381282,
     "end_time": "2024-11-02T05:46:35.098141",
     "exception": false,
     "start_time": "2024-11-02T05:23:56.716859",
     "status": "completed"
    },
    "tags": []
   },
   "outputs": [
    {
     "name": "stderr",
     "output_type": "stream",
     "text": [
      "Train epoch 1: 100%|██████████| 25313/25313 [06:54<00:00, 61.05it/s, loss=0.297]\n",
      "Validation epoch 1: 100%|██████████| 15821/15821 [04:23<00:00, 60.04it/s]\n"
     ]
    },
    {
     "name": "stdout",
     "output_type": "stream",
     "text": [
      "0.012003654230759735\n"
     ]
    },
    {
     "name": "stderr",
     "output_type": "stream",
     "text": [
      "Train epoch 2: 100%|██████████| 25313/25313 [06:55<00:00, 60.88it/s, loss=0.188]\n",
      "Validation epoch 2: 100%|██████████| 15821/15821 [04:24<00:00, 59.90it/s]"
     ]
    },
    {
     "name": "stdout",
     "output_type": "stream",
     "text": [
      "0.012195254438162021\n"
     ]
    },
    {
     "name": "stderr",
     "output_type": "stream",
     "text": [
      "\n"
     ]
    }
   ],
   "source": [
    "from tqdm import tqdm\n",
    "from copy import deepcopy\n",
    "\n",
    "model = model.to(device)\n",
    "\n",
    "i = 0\n",
    "for epoch in range(1, epochs + 1):\n",
    "    # The process bar\n",
    "    model.train()\n",
    "    bar = tqdm(dl_train, desc=f\"Train epoch {epoch}\")\n",
    "    \n",
    "    for batch_x, batch_y, batch_x_lens, batch_y_lens in bar:\n",
    "        batch_x, batch_y = batch_x.to(device), batch_y.to(device)\n",
    "        \n",
    "        # Write your code here\n",
    "        # Clear the gradient\n",
    "        optimizer.zero_grad()\n",
    "        batch_pred_y = model(batch_x, batch_x_lens)\n",
    "        \n",
    "        # Write your code here\n",
    "        # Input the prediction and ground truths to loss function\n",
    "        # Back propagation\n",
    "        loss = criterion(batch_pred_y.permute(0, 2, 1), batch_y.to(device))\n",
    "        loss.backward()\n",
    "        torch.nn.utils.clip_grad_value_(model.parameters(), grad_clip) # gradient clipping\n",
    "\n",
    "        # Write your code here\n",
    "        # Optimize parameters in the model\n",
    "        optimizer.step()\n",
    "        \n",
    "        i += 1\n",
    "        if i % 50 == 0:\n",
    "            bar.set_postfix(loss = loss.item())\n",
    "    \n",
    "    # Evaluate your model\n",
    "    model.eval()\n",
    "    bar = tqdm(dl_eval, desc=f\"Validation epoch {epoch}\")\n",
    "    matched = 0\n",
    "    total = 0\n",
    "    \n",
    "    for batch_x, batch_y, batch_x_lens, batch_y_lens in bar:\n",
    "        with torch.no_grad():\n",
    "            batch_x, batch_y = batch_x.to(device), batch_y.to(device)\n",
    "            \n",
    "            # Write your code here. Input the batch_x to the model and generate the predictions\n",
    "            batch_pred_y = model(batch_x, batch_x_lens)\n",
    "            predicted_tokens = torch.argmax(batch_pred_y, dim=-1)\n",
    "            \n",
    "            # Write your code here.\n",
    "            # Check whether the prediction match the ground truths\n",
    "            # Compute exact match (EM) on the eval dataset\n",
    "            # EM = correct/total\n",
    "            for idx, (pred, truth) in enumerate(zip(predicted_tokens, batch_y)):\n",
    "                # Remove front padding tokens\n",
    "                start = 0\n",
    "                for token in truth.tolist():\n",
    "                    if token != char_to_id['<pad>']: break\n",
    "                    start += 1\n",
    "                # Remove back padding tokens\n",
    "                end = batch_y_lens[idx].item()\n",
    "\n",
    "                # Exact match check\n",
    "                if torch.equal(pred[start: end], truth[start: end]):\n",
    "                    matched += 1\n",
    "                total += 1\n",
    "            \n",
    "    print(matched / total)"
   ]
  },
  {
   "cell_type": "code",
   "execution_count": 22,
   "id": "d85304a5",
   "metadata": {
    "execution": {
     "iopub.execute_input": "2024-11-02T05:46:37.161194Z",
     "iopub.status.busy": "2024-11-02T05:46:37.160710Z",
     "iopub.status.idle": "2024-11-02T05:46:37.175389Z",
     "shell.execute_reply": "2024-11-02T05:46:37.174637Z"
    },
    "papermill": {
     "duration": 1.067696,
     "end_time": "2024-11-02T05:46:37.177256",
     "exception": false,
     "start_time": "2024-11-02T05:46:36.109560",
     "status": "completed"
    },
    "tags": []
   },
   "outputs": [],
   "source": [
    "torch.save(model, 'model.pkl')"
   ]
  },
  {
   "cell_type": "markdown",
   "id": "250ab5ce",
   "metadata": {
    "papermill": {
     "duration": 1.055757,
     "end_time": "2024-11-02T05:46:39.244488",
     "exception": false,
     "start_time": "2024-11-02T05:46:38.188731",
     "status": "completed"
    },
    "tags": []
   },
   "source": [
    "# Generation\n",
    "Use `model.generator` and provide an initial character to automatically generate a sequence."
   ]
  },
  {
   "cell_type": "code",
   "execution_count": 23,
   "id": "88a37e47",
   "metadata": {
    "execution": {
     "iopub.execute_input": "2024-11-02T05:46:41.327856Z",
     "iopub.status.busy": "2024-11-02T05:46:41.327139Z",
     "iopub.status.idle": "2024-11-02T05:46:41.410027Z",
     "shell.execute_reply": "2024-11-02T05:46:41.409056Z"
    },
    "papermill": {
     "duration": 1.094791,
     "end_time": "2024-11-02T05:46:41.412154",
     "exception": false,
     "start_time": "2024-11-02T05:46:40.317363",
     "status": "completed"
    },
    "tags": []
   },
   "outputs": [
    {
     "name": "stdout",
     "output_type": "stream",
     "text": [
      "1+9*888=658\n"
     ]
    }
   ],
   "source": [
    "model = model.to(\"cpu\")\n",
    "print(\"\".join(model.generator('1+9*888=')))"
   ]
  }
 ],
 "metadata": {
  "kaggle": {
   "accelerator": "none",
   "dataSources": [],
   "dockerImageVersionId": 30786,
   "isGpuEnabled": false,
   "isInternetEnabled": true,
   "language": "python",
   "sourceType": "notebook"
  },
  "kernelspec": {
   "display_name": "Python 3",
   "language": "python",
   "name": "python3"
  },
  "language_info": {
   "codemirror_mode": {
    "name": "ipython",
    "version": 3
   },
   "file_extension": ".py",
   "mimetype": "text/x-python",
   "name": "python",
   "nbconvert_exporter": "python",
   "pygments_lexer": "ipython3",
   "version": "3.10.14"
  },
  "papermill": {
   "default_parameters": {},
   "duration": 1464.068275,
   "end_time": "2024-11-02T05:46:45.088890",
   "environment_variables": {},
   "exception": null,
   "input_path": "__notebook__.ipynb",
   "output_path": "__notebook__.ipynb",
   "parameters": {},
   "start_time": "2024-11-02T05:22:21.020615",
   "version": "2.6.0"
  }
 },
 "nbformat": 4,
 "nbformat_minor": 5
}
