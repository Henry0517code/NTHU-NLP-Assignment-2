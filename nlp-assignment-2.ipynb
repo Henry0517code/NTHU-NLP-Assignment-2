{
 "cells": [
  {
   "cell_type": "markdown",
   "id": "a866d9b1",
   "metadata": {
    "papermill": {
     "duration": 0.007901,
     "end_time": "2024-11-02T02:44:54.773472",
     "exception": false,
     "start_time": "2024-11-02T02:44:54.765571",
     "status": "completed"
    },
    "tags": []
   },
   "source": [
    "# LSTM-arithmetic"
   ]
  },
  {
   "cell_type": "markdown",
   "id": "cc7c8e7a",
   "metadata": {
    "papermill": {
     "duration": 0.007268,
     "end_time": "2024-11-02T02:44:54.788099",
     "exception": false,
     "start_time": "2024-11-02T02:44:54.780831",
     "status": "completed"
    },
    "tags": []
   },
   "source": [
    "## Dataset"
   ]
  },
  {
   "cell_type": "code",
   "execution_count": 1,
   "id": "0176ae80",
   "metadata": {
    "execution": {
     "iopub.execute_input": "2024-11-02T02:44:54.804383Z",
     "iopub.status.busy": "2024-11-02T02:44:54.804004Z",
     "iopub.status.idle": "2024-11-02T02:45:14.610155Z",
     "shell.execute_reply": "2024-11-02T02:45:14.608788Z"
    },
    "papermill": {
     "duration": 19.817283,
     "end_time": "2024-11-02T02:45:14.612823",
     "exception": false,
     "start_time": "2024-11-02T02:44:54.795540",
     "status": "completed"
    },
    "tags": []
   },
   "outputs": [],
   "source": [
    "%%capture\n",
    "!pip install gdown\n",
    "!gdown 'https://drive.google.com/uc?id=1cMuL3hF9jefka9RyF4gEBIGGeFGZYHE-'\n",
    "!unzip arithmetic_NLP.zip"
   ]
  },
  {
   "cell_type": "code",
   "execution_count": 2,
   "id": "8fb47167",
   "metadata": {
    "execution": {
     "iopub.execute_input": "2024-11-02T02:45:14.630485Z",
     "iopub.status.busy": "2024-11-02T02:45:14.630100Z",
     "iopub.status.idle": "2024-11-02T02:45:53.620572Z",
     "shell.execute_reply": "2024-11-02T02:45:53.619431Z"
    },
    "papermill": {
     "duration": 39.001659,
     "end_time": "2024-11-02T02:45:53.623025",
     "exception": false,
     "start_time": "2024-11-02T02:45:14.621366",
     "status": "completed"
    },
    "tags": []
   },
   "outputs": [],
   "source": [
    "%%capture\n",
    "!pip install seaborn\n",
    "!pip install opencc-python-reimplemented\n",
    "!pip install -U scikit-learn"
   ]
  },
  {
   "cell_type": "code",
   "execution_count": 3,
   "id": "b29f457c",
   "metadata": {
    "execution": {
     "iopub.execute_input": "2024-11-02T02:45:53.640497Z",
     "iopub.status.busy": "2024-11-02T02:45:53.640150Z",
     "iopub.status.idle": "2024-11-02T02:45:58.960049Z",
     "shell.execute_reply": "2024-11-02T02:45:58.959215Z"
    },
    "papermill": {
     "duration": 5.331243,
     "end_time": "2024-11-02T02:45:58.962552",
     "exception": false,
     "start_time": "2024-11-02T02:45:53.631309",
     "status": "completed"
    },
    "tags": []
   },
   "outputs": [],
   "source": [
    "import numpy as np\n",
    "import pandas as pd\n",
    "import torch\n",
    "import torch.nn\n",
    "import torch.nn.utils.rnn\n",
    "import torch.utils.data\n",
    "import matplotlib.pyplot as plt\n",
    "import seaborn as sns\n",
    "import opencc\n",
    "import os\n",
    "from sklearn.model_selection import train_test_split\n",
    "\n",
    "data_path = '.'"
   ]
  },
  {
   "cell_type": "code",
   "execution_count": 4,
   "id": "4e7eea1a",
   "metadata": {
    "execution": {
     "iopub.execute_input": "2024-11-02T02:45:58.978714Z",
     "iopub.status.busy": "2024-11-02T02:45:58.978308Z",
     "iopub.status.idle": "2024-11-02T02:46:00.975698Z",
     "shell.execute_reply": "2024-11-02T02:46:00.974801Z"
    },
    "papermill": {
     "duration": 2.008142,
     "end_time": "2024-11-02T02:46:00.978043",
     "exception": false,
     "start_time": "2024-11-02T02:45:58.969901",
     "status": "completed"
    },
    "tags": []
   },
   "outputs": [
    {
     "data": {
      "text/html": [
       "<div>\n",
       "<style scoped>\n",
       "    .dataframe tbody tr th:only-of-type {\n",
       "        vertical-align: middle;\n",
       "    }\n",
       "\n",
       "    .dataframe tbody tr th {\n",
       "        vertical-align: top;\n",
       "    }\n",
       "\n",
       "    .dataframe thead th {\n",
       "        text-align: right;\n",
       "    }\n",
       "</style>\n",
       "<table border=\"1\" class=\"dataframe\">\n",
       "  <thead>\n",
       "    <tr style=\"text-align: right;\">\n",
       "      <th></th>\n",
       "      <th>src</th>\n",
       "      <th>tgt</th>\n",
       "    </tr>\n",
       "  </thead>\n",
       "  <tbody>\n",
       "    <tr>\n",
       "      <th>0</th>\n",
       "      <td>14*(43+20)=</td>\n",
       "      <td>882</td>\n",
       "    </tr>\n",
       "    <tr>\n",
       "      <th>1</th>\n",
       "      <td>(6+1)*5=</td>\n",
       "      <td>35</td>\n",
       "    </tr>\n",
       "    <tr>\n",
       "      <th>2</th>\n",
       "      <td>13+32+29=</td>\n",
       "      <td>74</td>\n",
       "    </tr>\n",
       "    <tr>\n",
       "      <th>3</th>\n",
       "      <td>31*(3-11)=</td>\n",
       "      <td>-248</td>\n",
       "    </tr>\n",
       "    <tr>\n",
       "      <th>4</th>\n",
       "      <td>24*49+1=</td>\n",
       "      <td>1177</td>\n",
       "    </tr>\n",
       "  </tbody>\n",
       "</table>\n",
       "</div>"
      ],
      "text/plain": [
       "           src   tgt\n",
       "0  14*(43+20)=   882\n",
       "1     (6+1)*5=    35\n",
       "2    13+32+29=    74\n",
       "3   31*(3-11)=  -248\n",
       "4     24*49+1=  1177"
      ]
     },
     "execution_count": 4,
     "metadata": {},
     "output_type": "execute_result"
    }
   ],
   "source": [
    "df_train = pd.read_csv(os.path.join(data_path, 'arithmetic_train.csv'), index_col=0).reset_index(drop=True)\n",
    "df_eval = pd.read_csv(os.path.join(data_path, 'arithmetic_eval.csv'), index_col=0).reset_index(drop=True)\n",
    "df_train.head()"
   ]
  },
  {
   "cell_type": "code",
   "execution_count": 5,
   "id": "b612a9ac",
   "metadata": {
    "execution": {
     "iopub.execute_input": "2024-11-02T02:46:00.995007Z",
     "iopub.status.busy": "2024-11-02T02:46:00.994371Z",
     "iopub.status.idle": "2024-11-02T02:46:04.145829Z",
     "shell.execute_reply": "2024-11-02T02:46:04.144787Z"
    },
    "papermill": {
     "duration": 3.162221,
     "end_time": "2024-11-02T02:46:04.148160",
     "exception": false,
     "start_time": "2024-11-02T02:46:00.985939",
     "status": "completed"
    },
    "tags": []
   },
   "outputs": [],
   "source": [
    "# transform the input data to string\n",
    "df_train['tgt'] = df_train['tgt'].apply(lambda x: str(x))\n",
    "df_train['src'] = df_train['src'].add(df_train['tgt'])\n",
    "df_train['len'] = df_train['src'].apply(lambda x: len(x))\n",
    "\n",
    "df_eval['tgt'] = df_eval['tgt'].apply(lambda x: str(x))\n",
    "df_eval['src'] = df_eval['src'].add(df_eval['tgt'])\n",
    "df_eval['len'] = df_eval['src'].apply(lambda x: len(x))"
   ]
  },
  {
   "cell_type": "markdown",
   "id": "300e78d7",
   "metadata": {
    "papermill": {
     "duration": 0.007738,
     "end_time": "2024-11-02T02:46:04.164276",
     "exception": false,
     "start_time": "2024-11-02T02:46:04.156538",
     "status": "completed"
    },
    "tags": []
   },
   "source": [
    "# Build Dictionary\n",
    " - The model cannot perform calculations directly with plain text.\n",
    " - Convert all text (numbers/symbols) into numerical representations.\n",
    " - Special tokens\n",
    "    - '&lt;pad&gt;'\n",
    "        - Each sentence within a batch may have different lengths.\n",
    "        - The length is padded with '&lt;pad&gt;' to match the longest sentence in the batch.\n",
    "    - '&lt;eos&gt;'\n",
    "        - Specifies the end of the generated sequence.\n",
    "        - Without '&lt;eos&gt;', the model will not know when to stop generating."
   ]
  },
  {
   "cell_type": "code",
   "execution_count": 6,
   "id": "dec94ddc",
   "metadata": {
    "execution": {
     "iopub.execute_input": "2024-11-02T02:46:04.183314Z",
     "iopub.status.busy": "2024-11-02T02:46:04.182848Z",
     "iopub.status.idle": "2024-11-02T02:46:04.190475Z",
     "shell.execute_reply": "2024-11-02T02:46:04.189503Z"
    },
    "papermill": {
     "duration": 0.018498,
     "end_time": "2024-11-02T02:46:04.192467",
     "exception": false,
     "start_time": "2024-11-02T02:46:04.173969",
     "status": "completed"
    },
    "tags": []
   },
   "outputs": [
    {
     "name": "stdout",
     "output_type": "stream",
     "text": [
      "Vocab size 19\n"
     ]
    }
   ],
   "source": [
    "char_to_id = {}\n",
    "id_to_char = {}\n",
    "\n",
    "# write your code here\n",
    "# Build a dictionary and give every token in the train dataset an id\n",
    "# The dictionary should contain <eos> and <pad>\n",
    "# char_to_id is to convert charactors to ids, while id_to_char is the opposite\n",
    "\n",
    "numbers = [str(i) for i in range(0, 10)]\n",
    "operators = ['+', '-', '*', '/', '(', ')', '=']\n",
    "special_tokens = ['<pad>', '<eos>']\n",
    "\n",
    "for idx, token in enumerate(numbers + operators + special_tokens):\n",
    "    char_to_id[token] = idx\n",
    "    id_to_char[idx] = token\n",
    "\n",
    "vocab_size = len(char_to_id)\n",
    "print('Vocab size {}'.format(vocab_size))"
   ]
  },
  {
   "cell_type": "markdown",
   "id": "c6224dd3",
   "metadata": {
    "papermill": {
     "duration": 0.007218,
     "end_time": "2024-11-02T02:46:04.207085",
     "exception": false,
     "start_time": "2024-11-02T02:46:04.199867",
     "status": "completed"
    },
    "tags": []
   },
   "source": [
    "# Data Preprocessing\n",
    " - The data is processed into the format required for the model's input and output.\n",
    " - Example: 1+2-3=0\n",
    "     - Model input: 1 + 2 - 3 = 0\n",
    "     - Model output: / / / / / 0 &lt;eos&gt;  (the '/' can be replaced with &lt;pad&gt;)\n",
    "     - The key for the model's output is that the model does not need to predict the next character of the previous part. What matters is that once the model sees '=', it should start generating the answer, which is '0'. After generating the answer, it should also generate&lt;eos&gt;\n"
   ]
  },
  {
   "cell_type": "code",
   "execution_count": 7,
   "id": "b1e47fe5",
   "metadata": {
    "execution": {
     "iopub.execute_input": "2024-11-02T02:46:04.223091Z",
     "iopub.status.busy": "2024-11-02T02:46:04.222780Z",
     "iopub.status.idle": "2024-11-02T02:46:04.228274Z",
     "shell.execute_reply": "2024-11-02T02:46:04.227508Z"
    },
    "papermill": {
     "duration": 0.015901,
     "end_time": "2024-11-02T02:46:04.230215",
     "exception": false,
     "start_time": "2024-11-02T02:46:04.214314",
     "status": "completed"
    },
    "tags": []
   },
   "outputs": [],
   "source": [
    "# Write your code here\n",
    "def create_char_ids(src: str):\n",
    "    return [char_to_id[c] for c in (list(src) + ['<eos>'])]\n",
    "\n",
    "def create_label_ids(char_ids: list):\n",
    "    idx = char_ids.index(char_to_id['='])\n",
    "    return [char_to_id['<pad>']] * (idx + 1) + char_ids[idx + 1:]"
   ]
  },
  {
   "cell_type": "code",
   "execution_count": 8,
   "id": "b348450e",
   "metadata": {
    "execution": {
     "iopub.execute_input": "2024-11-02T02:46:04.246343Z",
     "iopub.status.busy": "2024-11-02T02:46:04.246016Z",
     "iopub.status.idle": "2024-11-02T02:46:17.339977Z",
     "shell.execute_reply": "2024-11-02T02:46:17.338943Z"
    },
    "papermill": {
     "duration": 13.104407,
     "end_time": "2024-11-02T02:46:17.342064",
     "exception": false,
     "start_time": "2024-11-02T02:46:04.237657",
     "status": "completed"
    },
    "tags": []
   },
   "outputs": [
    {
     "data": {
      "text/html": [
       "<div>\n",
       "<style scoped>\n",
       "    .dataframe tbody tr th:only-of-type {\n",
       "        vertical-align: middle;\n",
       "    }\n",
       "\n",
       "    .dataframe tbody tr th {\n",
       "        vertical-align: top;\n",
       "    }\n",
       "\n",
       "    .dataframe thead th {\n",
       "        text-align: right;\n",
       "    }\n",
       "</style>\n",
       "<table border=\"1\" class=\"dataframe\">\n",
       "  <thead>\n",
       "    <tr style=\"text-align: right;\">\n",
       "      <th></th>\n",
       "      <th>src</th>\n",
       "      <th>tgt</th>\n",
       "      <th>len</th>\n",
       "      <th>char_id_list</th>\n",
       "      <th>label_id_list</th>\n",
       "    </tr>\n",
       "  </thead>\n",
       "  <tbody>\n",
       "    <tr>\n",
       "      <th>0</th>\n",
       "      <td>14*(43+20)=882</td>\n",
       "      <td>882</td>\n",
       "      <td>14</td>\n",
       "      <td>[1, 4, 12, 14, 4, 3, 10, 2, 0, 15, 16, 8, 8, 2...</td>\n",
       "      <td>[17, 17, 17, 17, 17, 17, 17, 17, 17, 17, 17, 8...</td>\n",
       "    </tr>\n",
       "    <tr>\n",
       "      <th>1</th>\n",
       "      <td>(6+1)*5=35</td>\n",
       "      <td>35</td>\n",
       "      <td>10</td>\n",
       "      <td>[14, 6, 10, 1, 15, 12, 5, 16, 3, 5, 18]</td>\n",
       "      <td>[17, 17, 17, 17, 17, 17, 17, 17, 3, 5, 18]</td>\n",
       "    </tr>\n",
       "    <tr>\n",
       "      <th>2</th>\n",
       "      <td>13+32+29=74</td>\n",
       "      <td>74</td>\n",
       "      <td>11</td>\n",
       "      <td>[1, 3, 10, 3, 2, 10, 2, 9, 16, 7, 4, 18]</td>\n",
       "      <td>[17, 17, 17, 17, 17, 17, 17, 17, 17, 7, 4, 18]</td>\n",
       "    </tr>\n",
       "    <tr>\n",
       "      <th>3</th>\n",
       "      <td>31*(3-11)=-248</td>\n",
       "      <td>-248</td>\n",
       "      <td>14</td>\n",
       "      <td>[3, 1, 12, 14, 3, 11, 1, 1, 15, 16, 11, 2, 4, ...</td>\n",
       "      <td>[17, 17, 17, 17, 17, 17, 17, 17, 17, 17, 11, 2...</td>\n",
       "    </tr>\n",
       "    <tr>\n",
       "      <th>4</th>\n",
       "      <td>24*49+1=1177</td>\n",
       "      <td>1177</td>\n",
       "      <td>12</td>\n",
       "      <td>[2, 4, 12, 4, 9, 10, 1, 16, 1, 1, 7, 7, 18]</td>\n",
       "      <td>[17, 17, 17, 17, 17, 17, 17, 17, 1, 1, 7, 7, 18]</td>\n",
       "    </tr>\n",
       "    <tr>\n",
       "      <th>...</th>\n",
       "      <td>...</td>\n",
       "      <td>...</td>\n",
       "      <td>...</td>\n",
       "      <td>...</td>\n",
       "      <td>...</td>\n",
       "    </tr>\n",
       "    <tr>\n",
       "      <th>2369245</th>\n",
       "      <td>1+(37*8)=297</td>\n",
       "      <td>297</td>\n",
       "      <td>12</td>\n",
       "      <td>[1, 10, 14, 3, 7, 12, 8, 15, 16, 2, 9, 7, 18]</td>\n",
       "      <td>[17, 17, 17, 17, 17, 17, 17, 17, 17, 2, 9, 7, 18]</td>\n",
       "    </tr>\n",
       "    <tr>\n",
       "      <th>2369246</th>\n",
       "      <td>37-25-19=-7</td>\n",
       "      <td>-7</td>\n",
       "      <td>11</td>\n",
       "      <td>[3, 7, 11, 2, 5, 11, 1, 9, 16, 11, 7, 18]</td>\n",
       "      <td>[17, 17, 17, 17, 17, 17, 17, 17, 17, 11, 7, 18]</td>\n",
       "    </tr>\n",
       "    <tr>\n",
       "      <th>2369247</th>\n",
       "      <td>7+39-40=6</td>\n",
       "      <td>6</td>\n",
       "      <td>9</td>\n",
       "      <td>[7, 10, 3, 9, 11, 4, 0, 16, 6, 18]</td>\n",
       "      <td>[17, 17, 17, 17, 17, 17, 17, 17, 6, 18]</td>\n",
       "    </tr>\n",
       "    <tr>\n",
       "      <th>2369248</th>\n",
       "      <td>27-28-12=-13</td>\n",
       "      <td>-13</td>\n",
       "      <td>12</td>\n",
       "      <td>[2, 7, 11, 2, 8, 11, 1, 2, 16, 11, 1, 3, 18]</td>\n",
       "      <td>[17, 17, 17, 17, 17, 17, 17, 17, 17, 11, 1, 3,...</td>\n",
       "    </tr>\n",
       "    <tr>\n",
       "      <th>2369249</th>\n",
       "      <td>31+(35-43)=23</td>\n",
       "      <td>23</td>\n",
       "      <td>13</td>\n",
       "      <td>[3, 1, 10, 14, 3, 5, 11, 4, 3, 15, 16, 2, 3, 18]</td>\n",
       "      <td>[17, 17, 17, 17, 17, 17, 17, 17, 17, 17, 17, 2...</td>\n",
       "    </tr>\n",
       "  </tbody>\n",
       "</table>\n",
       "<p>2369250 rows × 5 columns</p>\n",
       "</div>"
      ],
      "text/plain": [
       "                    src   tgt  len  \\\n",
       "0        14*(43+20)=882   882   14   \n",
       "1            (6+1)*5=35    35   10   \n",
       "2           13+32+29=74    74   11   \n",
       "3        31*(3-11)=-248  -248   14   \n",
       "4          24*49+1=1177  1177   12   \n",
       "...                 ...   ...  ...   \n",
       "2369245    1+(37*8)=297   297   12   \n",
       "2369246     37-25-19=-7    -7   11   \n",
       "2369247       7+39-40=6     6    9   \n",
       "2369248    27-28-12=-13   -13   12   \n",
       "2369249   31+(35-43)=23    23   13   \n",
       "\n",
       "                                              char_id_list  \\\n",
       "0        [1, 4, 12, 14, 4, 3, 10, 2, 0, 15, 16, 8, 8, 2...   \n",
       "1                  [14, 6, 10, 1, 15, 12, 5, 16, 3, 5, 18]   \n",
       "2                 [1, 3, 10, 3, 2, 10, 2, 9, 16, 7, 4, 18]   \n",
       "3        [3, 1, 12, 14, 3, 11, 1, 1, 15, 16, 11, 2, 4, ...   \n",
       "4              [2, 4, 12, 4, 9, 10, 1, 16, 1, 1, 7, 7, 18]   \n",
       "...                                                    ...   \n",
       "2369245      [1, 10, 14, 3, 7, 12, 8, 15, 16, 2, 9, 7, 18]   \n",
       "2369246          [3, 7, 11, 2, 5, 11, 1, 9, 16, 11, 7, 18]   \n",
       "2369247                 [7, 10, 3, 9, 11, 4, 0, 16, 6, 18]   \n",
       "2369248       [2, 7, 11, 2, 8, 11, 1, 2, 16, 11, 1, 3, 18]   \n",
       "2369249   [3, 1, 10, 14, 3, 5, 11, 4, 3, 15, 16, 2, 3, 18]   \n",
       "\n",
       "                                             label_id_list  \n",
       "0        [17, 17, 17, 17, 17, 17, 17, 17, 17, 17, 17, 8...  \n",
       "1               [17, 17, 17, 17, 17, 17, 17, 17, 3, 5, 18]  \n",
       "2           [17, 17, 17, 17, 17, 17, 17, 17, 17, 7, 4, 18]  \n",
       "3        [17, 17, 17, 17, 17, 17, 17, 17, 17, 17, 11, 2...  \n",
       "4         [17, 17, 17, 17, 17, 17, 17, 17, 1, 1, 7, 7, 18]  \n",
       "...                                                    ...  \n",
       "2369245  [17, 17, 17, 17, 17, 17, 17, 17, 17, 2, 9, 7, 18]  \n",
       "2369246    [17, 17, 17, 17, 17, 17, 17, 17, 17, 11, 7, 18]  \n",
       "2369247            [17, 17, 17, 17, 17, 17, 17, 17, 6, 18]  \n",
       "2369248  [17, 17, 17, 17, 17, 17, 17, 17, 17, 11, 1, 3,...  \n",
       "2369249  [17, 17, 17, 17, 17, 17, 17, 17, 17, 17, 17, 2...  \n",
       "\n",
       "[2369250 rows x 5 columns]"
      ]
     },
     "execution_count": 8,
     "metadata": {},
     "output_type": "execute_result"
    }
   ],
   "source": [
    "df_train['char_id_list'] = df_train['src'].map(lambda x: create_char_ids(x))\n",
    "df_train['label_id_list'] = df_train['char_id_list'].map(lambda x: create_label_ids(x))\n",
    "df_train"
   ]
  },
  {
   "cell_type": "code",
   "execution_count": 9,
   "id": "1f339fca",
   "metadata": {
    "execution": {
     "iopub.execute_input": "2024-11-02T02:46:17.359283Z",
     "iopub.status.busy": "2024-11-02T02:46:17.358949Z",
     "iopub.status.idle": "2024-11-02T02:46:19.108013Z",
     "shell.execute_reply": "2024-11-02T02:46:19.107143Z"
    },
    "papermill": {
     "duration": 1.759828,
     "end_time": "2024-11-02T02:46:19.110105",
     "exception": false,
     "start_time": "2024-11-02T02:46:17.350277",
     "status": "completed"
    },
    "tags": []
   },
   "outputs": [
    {
     "data": {
      "text/html": [
       "<div>\n",
       "<style scoped>\n",
       "    .dataframe tbody tr th:only-of-type {\n",
       "        vertical-align: middle;\n",
       "    }\n",
       "\n",
       "    .dataframe tbody tr th {\n",
       "        vertical-align: top;\n",
       "    }\n",
       "\n",
       "    .dataframe thead th {\n",
       "        text-align: right;\n",
       "    }\n",
       "</style>\n",
       "<table border=\"1\" class=\"dataframe\">\n",
       "  <thead>\n",
       "    <tr style=\"text-align: right;\">\n",
       "      <th></th>\n",
       "      <th>src</th>\n",
       "      <th>tgt</th>\n",
       "      <th>len</th>\n",
       "      <th>char_id_list</th>\n",
       "      <th>label_id_list</th>\n",
       "    </tr>\n",
       "  </thead>\n",
       "  <tbody>\n",
       "    <tr>\n",
       "      <th>0</th>\n",
       "      <td>48+43+34=125</td>\n",
       "      <td>125</td>\n",
       "      <td>12</td>\n",
       "      <td>[4, 8, 10, 4, 3, 10, 3, 4, 16, 1, 2, 5, 18]</td>\n",
       "      <td>[17, 17, 17, 17, 17, 17, 17, 17, 17, 1, 2, 5, 18]</td>\n",
       "    </tr>\n",
       "    <tr>\n",
       "      <th>1</th>\n",
       "      <td>30-(48+13)=-31</td>\n",
       "      <td>-31</td>\n",
       "      <td>14</td>\n",
       "      <td>[3, 0, 11, 14, 4, 8, 10, 1, 3, 15, 16, 11, 3, ...</td>\n",
       "      <td>[17, 17, 17, 17, 17, 17, 17, 17, 17, 17, 17, 1...</td>\n",
       "    </tr>\n",
       "    <tr>\n",
       "      <th>2</th>\n",
       "      <td>(21*31)+10=661</td>\n",
       "      <td>661</td>\n",
       "      <td>14</td>\n",
       "      <td>[14, 2, 1, 12, 3, 1, 15, 10, 1, 0, 16, 6, 6, 1...</td>\n",
       "      <td>[17, 17, 17, 17, 17, 17, 17, 17, 17, 17, 17, 6...</td>\n",
       "    </tr>\n",
       "    <tr>\n",
       "      <th>3</th>\n",
       "      <td>2-27-10=-35</td>\n",
       "      <td>-35</td>\n",
       "      <td>11</td>\n",
       "      <td>[2, 11, 2, 7, 11, 1, 0, 16, 11, 3, 5, 18]</td>\n",
       "      <td>[17, 17, 17, 17, 17, 17, 17, 17, 11, 3, 5, 18]</td>\n",
       "    </tr>\n",
       "    <tr>\n",
       "      <th>4</th>\n",
       "      <td>(15*20)+24=324</td>\n",
       "      <td>324</td>\n",
       "      <td>14</td>\n",
       "      <td>[14, 1, 5, 12, 2, 0, 15, 10, 2, 4, 16, 3, 2, 4...</td>\n",
       "      <td>[17, 17, 17, 17, 17, 17, 17, 17, 17, 17, 17, 3...</td>\n",
       "    </tr>\n",
       "    <tr>\n",
       "      <th>...</th>\n",
       "      <td>...</td>\n",
       "      <td>...</td>\n",
       "      <td>...</td>\n",
       "      <td>...</td>\n",
       "      <td>...</td>\n",
       "    </tr>\n",
       "    <tr>\n",
       "      <th>263245</th>\n",
       "      <td>14*43*23=13846</td>\n",
       "      <td>13846</td>\n",
       "      <td>14</td>\n",
       "      <td>[1, 4, 12, 4, 3, 12, 2, 3, 16, 1, 3, 8, 4, 6, 18]</td>\n",
       "      <td>[17, 17, 17, 17, 17, 17, 17, 17, 17, 1, 3, 8, ...</td>\n",
       "    </tr>\n",
       "    <tr>\n",
       "      <th>263246</th>\n",
       "      <td>48-(5*27)=-87</td>\n",
       "      <td>-87</td>\n",
       "      <td>13</td>\n",
       "      <td>[4, 8, 11, 14, 5, 12, 2, 7, 15, 16, 11, 8, 7, 18]</td>\n",
       "      <td>[17, 17, 17, 17, 17, 17, 17, 17, 17, 17, 11, 8...</td>\n",
       "    </tr>\n",
       "    <tr>\n",
       "      <th>263247</th>\n",
       "      <td>30*42+16=1276</td>\n",
       "      <td>1276</td>\n",
       "      <td>13</td>\n",
       "      <td>[3, 0, 12, 4, 2, 10, 1, 6, 16, 1, 2, 7, 6, 18]</td>\n",
       "      <td>[17, 17, 17, 17, 17, 17, 17, 17, 17, 1, 2, 7, ...</td>\n",
       "    </tr>\n",
       "    <tr>\n",
       "      <th>263248</th>\n",
       "      <td>21*(10-15)=-105</td>\n",
       "      <td>-105</td>\n",
       "      <td>15</td>\n",
       "      <td>[2, 1, 12, 14, 1, 0, 11, 1, 5, 15, 16, 11, 1, ...</td>\n",
       "      <td>[17, 17, 17, 17, 17, 17, 17, 17, 17, 17, 17, 1...</td>\n",
       "    </tr>\n",
       "    <tr>\n",
       "      <th>263249</th>\n",
       "      <td>(12*37)+4=448</td>\n",
       "      <td>448</td>\n",
       "      <td>13</td>\n",
       "      <td>[14, 1, 2, 12, 3, 7, 15, 10, 4, 16, 4, 4, 8, 18]</td>\n",
       "      <td>[17, 17, 17, 17, 17, 17, 17, 17, 17, 17, 4, 4,...</td>\n",
       "    </tr>\n",
       "  </tbody>\n",
       "</table>\n",
       "<p>263250 rows × 5 columns</p>\n",
       "</div>"
      ],
      "text/plain": [
       "                    src    tgt  len  \\\n",
       "0          48+43+34=125    125   12   \n",
       "1        30-(48+13)=-31    -31   14   \n",
       "2        (21*31)+10=661    661   14   \n",
       "3           2-27-10=-35    -35   11   \n",
       "4        (15*20)+24=324    324   14   \n",
       "...                 ...    ...  ...   \n",
       "263245   14*43*23=13846  13846   14   \n",
       "263246    48-(5*27)=-87    -87   13   \n",
       "263247    30*42+16=1276   1276   13   \n",
       "263248  21*(10-15)=-105   -105   15   \n",
       "263249    (12*37)+4=448    448   13   \n",
       "\n",
       "                                             char_id_list  \\\n",
       "0             [4, 8, 10, 4, 3, 10, 3, 4, 16, 1, 2, 5, 18]   \n",
       "1       [3, 0, 11, 14, 4, 8, 10, 1, 3, 15, 16, 11, 3, ...   \n",
       "2       [14, 2, 1, 12, 3, 1, 15, 10, 1, 0, 16, 6, 6, 1...   \n",
       "3               [2, 11, 2, 7, 11, 1, 0, 16, 11, 3, 5, 18]   \n",
       "4       [14, 1, 5, 12, 2, 0, 15, 10, 2, 4, 16, 3, 2, 4...   \n",
       "...                                                   ...   \n",
       "263245  [1, 4, 12, 4, 3, 12, 2, 3, 16, 1, 3, 8, 4, 6, 18]   \n",
       "263246  [4, 8, 11, 14, 5, 12, 2, 7, 15, 16, 11, 8, 7, 18]   \n",
       "263247     [3, 0, 12, 4, 2, 10, 1, 6, 16, 1, 2, 7, 6, 18]   \n",
       "263248  [2, 1, 12, 14, 1, 0, 11, 1, 5, 15, 16, 11, 1, ...   \n",
       "263249   [14, 1, 2, 12, 3, 7, 15, 10, 4, 16, 4, 4, 8, 18]   \n",
       "\n",
       "                                            label_id_list  \n",
       "0       [17, 17, 17, 17, 17, 17, 17, 17, 17, 1, 2, 5, 18]  \n",
       "1       [17, 17, 17, 17, 17, 17, 17, 17, 17, 17, 17, 1...  \n",
       "2       [17, 17, 17, 17, 17, 17, 17, 17, 17, 17, 17, 6...  \n",
       "3          [17, 17, 17, 17, 17, 17, 17, 17, 11, 3, 5, 18]  \n",
       "4       [17, 17, 17, 17, 17, 17, 17, 17, 17, 17, 17, 3...  \n",
       "...                                                   ...  \n",
       "263245  [17, 17, 17, 17, 17, 17, 17, 17, 17, 1, 3, 8, ...  \n",
       "263246  [17, 17, 17, 17, 17, 17, 17, 17, 17, 17, 11, 8...  \n",
       "263247  [17, 17, 17, 17, 17, 17, 17, 17, 17, 1, 2, 7, ...  \n",
       "263248  [17, 17, 17, 17, 17, 17, 17, 17, 17, 17, 17, 1...  \n",
       "263249  [17, 17, 17, 17, 17, 17, 17, 17, 17, 17, 4, 4,...  \n",
       "\n",
       "[263250 rows x 5 columns]"
      ]
     },
     "execution_count": 9,
     "metadata": {},
     "output_type": "execute_result"
    }
   ],
   "source": [
    "df_eval['char_id_list'] = df_eval['src'].map(lambda x: create_char_ids(x))\n",
    "df_eval['label_id_list'] = df_eval['char_id_list'].map(lambda x: create_label_ids(x))\n",
    "df_eval"
   ]
  },
  {
   "cell_type": "markdown",
   "id": "2dff5e10",
   "metadata": {
    "papermill": {
     "duration": 0.007808,
     "end_time": "2024-11-02T02:46:19.126185",
     "exception": false,
     "start_time": "2024-11-02T02:46:19.118377",
     "status": "completed"
    },
    "tags": []
   },
   "source": [
    "# Hyper Parameters\n",
    "\n",
    "|Hyperparameter|Meaning|Value|\n",
    "|-|-|-|\n",
    "|`batch_size`|Number of data samples in a single batch|64|\n",
    "|`epochs`|Total number of epochs to train|10|\n",
    "|`embed_dim`|Dimension of the word embeddings|256|\n",
    "|`hidden_dim`|Dimension of the hidden state in each timestep of the LSTM|256|\n",
    "|`lr`|Learning Rate|0.001|\n",
    "|`grad_clip`|To prevent gradient explosion in RNNs, restrict the gradient range|1|"
   ]
  },
  {
   "cell_type": "code",
   "execution_count": 10,
   "id": "97fefb9c",
   "metadata": {
    "execution": {
     "iopub.execute_input": "2024-11-02T02:46:19.145719Z",
     "iopub.status.busy": "2024-11-02T02:46:19.144771Z",
     "iopub.status.idle": "2024-11-02T02:46:19.152217Z",
     "shell.execute_reply": "2024-11-02T02:46:19.151453Z"
    },
    "papermill": {
     "duration": 0.020007,
     "end_time": "2024-11-02T02:46:19.154117",
     "exception": false,
     "start_time": "2024-11-02T02:46:19.134110",
     "status": "completed"
    },
    "tags": []
   },
   "outputs": [],
   "source": [
    "batch_size = 64\n",
    "epochs = 2\n",
    "embed_dim = 256\n",
    "hidden_dim = 256\n",
    "lr = 0.001\n",
    "grad_clip = 1"
   ]
  },
  {
   "cell_type": "markdown",
   "id": "69b9cc9e",
   "metadata": {
    "papermill": {
     "duration": 0.007884,
     "end_time": "2024-11-02T02:46:19.170169",
     "exception": false,
     "start_time": "2024-11-02T02:46:19.162285",
     "status": "completed"
    },
    "tags": []
   },
   "source": [
    "# Data Batching\n",
    "- Use `torch.utils.data.Dataset` to create a data generation tool called  `dataset`.\n",
    "- The, use `torch.utils.data.DataLoader` to randomly sample from the `dataset` and group the samples into batches."
   ]
  },
  {
   "cell_type": "code",
   "execution_count": 11,
   "id": "cf333af5",
   "metadata": {
    "execution": {
     "iopub.execute_input": "2024-11-02T02:46:19.187085Z",
     "iopub.status.busy": "2024-11-02T02:46:19.186749Z",
     "iopub.status.idle": "2024-11-02T02:46:19.196106Z",
     "shell.execute_reply": "2024-11-02T02:46:19.195288Z"
    },
    "papermill": {
     "duration": 0.019939,
     "end_time": "2024-11-02T02:46:19.197913",
     "exception": false,
     "start_time": "2024-11-02T02:46:19.177974",
     "status": "completed"
    },
    "tags": []
   },
   "outputs": [],
   "source": [
    "class Dataset(torch.utils.data.Dataset):\n",
    "    def __init__(self, sequences):\n",
    "        self.sequences = sequences\n",
    "    \n",
    "    def __len__(self):\n",
    "        # return the amount of data\n",
    "        return len(self.sequences)\n",
    "    \n",
    "    def __getitem__(self, index):\n",
    "        # Extract the input data x and the ground truth y from the data\n",
    "        x = self.sequences.iloc[index]['char_id_list'][:-1]\n",
    "        y = self.sequences.iloc[index]['label_id_list'][1:] \n",
    "        return x, y\n",
    "\n",
    "# collate function, used to build dataloader\n",
    "def collate_fn(batch):\n",
    "    batch_x = [torch.tensor(data[0]) for data in batch]\n",
    "    batch_y = [torch.tensor(data[1]) for data in batch]\n",
    "    batch_x_lens = torch.LongTensor([len(x) for x in batch_x])\n",
    "    batch_y_lens = torch.LongTensor([len(y) for y in batch_y])\n",
    "    \n",
    "    # Pad the input sequence\n",
    "    pad_batch_x = torch.nn.utils.rnn.pad_sequence(batch_x,\n",
    "                                                  batch_first=True,\n",
    "                                                  padding_value=char_to_id['<pad>'])\n",
    "    \n",
    "    pad_batch_y = torch.nn.utils.rnn.pad_sequence(batch_y,\n",
    "                                                  batch_first=True,\n",
    "                                                  padding_value=char_to_id['<pad>'])\n",
    "    \n",
    "    return pad_batch_x, pad_batch_y, batch_x_lens, batch_y_lens"
   ]
  },
  {
   "cell_type": "code",
   "execution_count": 12,
   "id": "7b7f8543",
   "metadata": {
    "execution": {
     "iopub.execute_input": "2024-11-02T02:46:19.215223Z",
     "iopub.status.busy": "2024-11-02T02:46:19.214909Z",
     "iopub.status.idle": "2024-11-02T02:46:19.219022Z",
     "shell.execute_reply": "2024-11-02T02:46:19.218232Z"
    },
    "papermill": {
     "duration": 0.014777,
     "end_time": "2024-11-02T02:46:19.220961",
     "exception": false,
     "start_time": "2024-11-02T02:46:19.206184",
     "status": "completed"
    },
    "tags": []
   },
   "outputs": [],
   "source": [
    "ds_train = Dataset(df_train)\n",
    "ds_eval = Dataset(df_eval)"
   ]
  },
  {
   "cell_type": "code",
   "execution_count": 13,
   "id": "448ceab0",
   "metadata": {
    "execution": {
     "iopub.execute_input": "2024-11-02T02:46:19.237848Z",
     "iopub.status.busy": "2024-11-02T02:46:19.237518Z",
     "iopub.status.idle": "2024-11-02T02:46:19.242466Z",
     "shell.execute_reply": "2024-11-02T02:46:19.241623Z"
    },
    "papermill": {
     "duration": 0.01544,
     "end_time": "2024-11-02T02:46:19.244355",
     "exception": false,
     "start_time": "2024-11-02T02:46:19.228915",
     "status": "completed"
    },
    "tags": []
   },
   "outputs": [],
   "source": [
    "# Build dataloader of train set and eval set, collate_fn is the collate function\n",
    "dl_train = torch.utils.data.DataLoader(ds_train, batch_size, shuffle=True, collate_fn=collate_fn)\n",
    "dl_eval = torch.utils.data.DataLoader(ds_eval, batch_size, shuffle=True, collate_fn=collate_fn)"
   ]
  },
  {
   "cell_type": "markdown",
   "id": "d1382f0d",
   "metadata": {
    "papermill": {
     "duration": 0.007559,
     "end_time": "2024-11-02T02:46:19.260039",
     "exception": false,
     "start_time": "2024-11-02T02:46:19.252480",
     "status": "completed"
    },
    "tags": []
   },
   "source": [
    "# Model Design\n",
    "\n",
    "## Execution Flow\n",
    "1. Convert all characters in the sentence into embeddings.\n",
    "2. Pass the embeddings through an LSTM sequentially.\n",
    "3. The output of the LSTM is passed into another LSTM, and additional layers can be added.\n",
    "4. The output from all time steps of the final LSTM is passed through a Fully Connected layer.\n",
    "5. The character corresponding to the maximum value across all output dimensions is selected as the next character.\n",
    "\n",
    "## Loss Function\n",
    "Since this is a classification task, Cross Entropy is used as the loss function.\n",
    "\n",
    "## Gradient Update\n",
    "Adam algorithm is used for gradient updates."
   ]
  },
  {
   "cell_type": "code",
   "execution_count": 14,
   "id": "e10ac46b",
   "metadata": {
    "execution": {
     "iopub.execute_input": "2024-11-02T02:46:19.277063Z",
     "iopub.status.busy": "2024-11-02T02:46:19.276700Z",
     "iopub.status.idle": "2024-11-02T02:46:19.292381Z",
     "shell.execute_reply": "2024-11-02T02:46:19.290132Z"
    },
    "papermill": {
     "duration": 0.027169,
     "end_time": "2024-11-02T02:46:19.295030",
     "exception": false,
     "start_time": "2024-11-02T02:46:19.267861",
     "status": "completed"
    },
    "tags": []
   },
   "outputs": [],
   "source": [
    "class CharRNN(torch.nn.Module):\n",
    "    def __init__(self, vocab_size, embed_dim, hidden_dim):\n",
    "        super(CharRNN, self).__init__()\n",
    "        \n",
    "        self.embedding = torch.nn.Embedding(num_embeddings=vocab_size,\n",
    "                                            embedding_dim=embed_dim,\n",
    "                                            padding_idx=char_to_id['<pad>'])\n",
    "        \n",
    "        self.rnn_layer1 = torch.nn.RNN(input_size=embed_dim,\n",
    "                                        hidden_size=hidden_dim,\n",
    "                                        batch_first=True)\n",
    "        \n",
    "        self.rnn_layer2 = torch.nn.RNN(input_size=hidden_dim,\n",
    "                                        hidden_size=hidden_dim,\n",
    "                                        batch_first=True)\n",
    "        \n",
    "        self.linear = torch.nn.Sequential(torch.nn.Linear(in_features=hidden_dim,\n",
    "                                                          out_features=hidden_dim),\n",
    "                                          torch.nn.ReLU(),\n",
    "                                          torch.nn.Linear(in_features=hidden_dim,\n",
    "                                                          out_features=vocab_size))\n",
    "        \n",
    "    def forward(self, batch_x, batch_x_lens):\n",
    "        return self.encoder(batch_x, batch_x_lens)\n",
    "    \n",
    "    # The forward pass of the model\n",
    "    def encoder(self, batch_x, batch_x_lens):\n",
    "        batch_x = self.embedding(batch_x)\n",
    "        \n",
    "        batch_x = torch.nn.utils.rnn.pack_padded_sequence(batch_x,\n",
    "                                                          batch_x_lens,\n",
    "                                                          batch_first=True,\n",
    "                                                          enforce_sorted=False)\n",
    "        \n",
    "        batch_x, _ = self.rnn_layer1(batch_x)\n",
    "        batch_x, _ = self.rnn_layer2(batch_x)\n",
    "        \n",
    "        batch_x, _ = torch.nn.utils.rnn.pad_packed_sequence(batch_x,\n",
    "                                                            batch_first=True)\n",
    "        \n",
    "        batch_x = self.linear(batch_x)\n",
    "        \n",
    "        return batch_x\n",
    "    \n",
    "    def generator(self, start_char, max_len=200):\n",
    "        char_list = [char_to_id[c] for c in start_char]\n",
    "        \n",
    "        next_char = None\n",
    "        \n",
    "        while len(char_list) < max_len: \n",
    "            \n",
    "            # Write your code here \n",
    "            # Pack the char_list to tensor\n",
    "            # Input the tensor to the embedding layer, LSTM layers, linear respectively\n",
    "            batch_x = torch.tensor(char_list).unsqueeze(0)\n",
    "            batch_x_lens = torch.LongTensor([len(char_list)])\n",
    "            \n",
    "            y = self.forward(batch_x, batch_x_lens)\n",
    "            \n",
    "            # Use argmax function to get the next token prediction\n",
    "            next_char = torch.argmax(y, -1)[0, -1].item()\n",
    "            \n",
    "            if next_char == char_to_id['<eos>']:\n",
    "                break\n",
    "            \n",
    "            char_list.append(next_char)\n",
    "            \n",
    "        return [id_to_char[ch_id] for ch_id in char_list]"
   ]
  },
  {
   "cell_type": "code",
   "execution_count": 15,
   "id": "52d586d2",
   "metadata": {
    "execution": {
     "iopub.execute_input": "2024-11-02T02:46:19.318080Z",
     "iopub.status.busy": "2024-11-02T02:46:19.317494Z",
     "iopub.status.idle": "2024-11-02T02:46:19.373190Z",
     "shell.execute_reply": "2024-11-02T02:46:19.372176Z"
    },
    "papermill": {
     "duration": 0.070215,
     "end_time": "2024-11-02T02:46:19.375559",
     "exception": false,
     "start_time": "2024-11-02T02:46:19.305344",
     "status": "completed"
    },
    "tags": []
   },
   "outputs": [],
   "source": [
    "torch.manual_seed(2)\n",
    "\n",
    "# Write your code here. Specify a device (cuda or cpu)\n",
    "device = torch.device('cuda')\n",
    "model = CharRNN(vocab_size,\n",
    "                embed_dim,\n",
    "                hidden_dim)"
   ]
  },
  {
   "cell_type": "code",
   "execution_count": 16,
   "id": "3343e386",
   "metadata": {
    "execution": {
     "iopub.execute_input": "2024-11-02T02:46:19.394034Z",
     "iopub.status.busy": "2024-11-02T02:46:19.393669Z",
     "iopub.status.idle": "2024-11-02T02:46:20.485170Z",
     "shell.execute_reply": "2024-11-02T02:46:20.484358Z"
    },
    "papermill": {
     "duration": 1.103629,
     "end_time": "2024-11-02T02:46:20.487547",
     "exception": false,
     "start_time": "2024-11-02T02:46:19.383918",
     "status": "completed"
    },
    "tags": []
   },
   "outputs": [],
   "source": [
    "# Write your code here. Cross-entropy loss function. The loss function should ignore <pad>\n",
    "criterion = torch.nn.CrossEntropyLoss(ignore_index=char_to_id['<pad>'])\n",
    "\n",
    "# Write your code here. Use Adam or AdamW for Optimizer\n",
    "optimizer = torch.optim.Adam(model.parameters(), lr=lr)"
   ]
  },
  {
   "cell_type": "markdown",
   "id": "5956a4a8",
   "metadata": {
    "papermill": {
     "duration": 0.007593,
     "end_time": "2024-11-02T02:46:20.503470",
     "exception": false,
     "start_time": "2024-11-02T02:46:20.495877",
     "status": "completed"
    },
    "tags": []
   },
   "source": [
    "# Training\n",
    "1. The outer `for` loop controls the `epoch`\n",
    "    1. The inner `for` loop uses `data_loader` to retrieve batches.\n",
    "        1. Pass the batch to the `model` for training.\n",
    "        2. Compare the predicted results `batch_pred_y` with the true labels `batch_y` using Cross Entropy to calculate the loss `loss`\n",
    "        3. Use `loss.backward` to automatically compute the gradients.\n",
    "        4. Use `torch.nn.utils.clip_grad_value_` to limit the gradient values between `-grad_clip` &lt; and &lt; `grad_clip`.\n",
    "        5. Use `optimizer.step()` to update the model (backpropagation).\n",
    "2.  After every `1000` batches, output the current loss to monitor whether it is converging."
   ]
  },
  {
   "cell_type": "code",
   "execution_count": 17,
   "id": "156cf3c5",
   "metadata": {
    "execution": {
     "iopub.execute_input": "2024-11-02T02:46:20.521077Z",
     "iopub.status.busy": "2024-11-02T02:46:20.520099Z",
     "iopub.status.idle": "2024-11-02T03:08:17.630649Z",
     "shell.execute_reply": "2024-11-02T03:08:17.629618Z"
    },
    "papermill": {
     "duration": 1318.057471,
     "end_time": "2024-11-02T03:08:18.568709",
     "exception": false,
     "start_time": "2024-11-02T02:46:20.511238",
     "status": "completed"
    },
    "tags": []
   },
   "outputs": [
    {
     "name": "stderr",
     "output_type": "stream",
     "text": [
      "Train epoch 1: 100%|██████████| 37020/37020 [09:51<00:00, 62.57it/s, loss=0.987]\n",
      "Validation epoch 1: 100%|██████████| 4114/4114 [01:09<00:00, 59.24it/s]\n"
     ]
    },
    {
     "name": "stdout",
     "output_type": "stream",
     "text": [
      "0.11530864197530864\n"
     ]
    },
    {
     "name": "stderr",
     "output_type": "stream",
     "text": [
      "Train epoch 2: 100%|██████████| 37020/37020 [09:46<00:00, 63.13it/s, loss=0.923]\n",
      "Validation epoch 2: 100%|██████████| 4114/4114 [01:09<00:00, 59.41it/s]"
     ]
    },
    {
     "name": "stdout",
     "output_type": "stream",
     "text": [
      "0.11664197530864198\n"
     ]
    },
    {
     "name": "stderr",
     "output_type": "stream",
     "text": [
      "\n"
     ]
    }
   ],
   "source": [
    "from tqdm import tqdm\n",
    "from copy import deepcopy\n",
    "\n",
    "model = model.to(device)\n",
    "\n",
    "i = 0\n",
    "for epoch in range(1, epochs + 1):\n",
    "    # The process bar\n",
    "    model.train()\n",
    "    bar = tqdm(dl_train, desc=f\"Train epoch {epoch}\")\n",
    "    \n",
    "    for batch_x, batch_y, batch_x_lens, batch_y_lens in bar:\n",
    "        batch_x, batch_y = batch_x.to(device), batch_y.to(device)\n",
    "        \n",
    "        # Write your code here\n",
    "        # Clear the gradient\n",
    "        optimizer.zero_grad()\n",
    "        batch_pred_y = model(batch_x, batch_x_lens)\n",
    "        \n",
    "        # Write your code here\n",
    "        # Input the prediction and ground truths to loss function\n",
    "        # Back propagation\n",
    "        loss = criterion(batch_pred_y.permute(0, 2, 1), batch_y.to(device))\n",
    "        loss.backward()\n",
    "        torch.nn.utils.clip_grad_value_(model.parameters(), grad_clip) # gradient clipping\n",
    "\n",
    "        # Write your code here\n",
    "        # Optimize parameters in the model\n",
    "        optimizer.step()\n",
    "        \n",
    "        i += 1\n",
    "        if i % 50 == 0:\n",
    "            bar.set_postfix(loss = loss.item())\n",
    "    \n",
    "    # Evaluate your model\n",
    "    model.eval()\n",
    "    bar = tqdm(dl_eval, desc=f\"Validation epoch {epoch}\")\n",
    "    matched = 0\n",
    "    total = 0\n",
    "    \n",
    "    for batch_x, batch_y, batch_x_lens, batch_y_lens in bar:\n",
    "        with torch.no_grad():\n",
    "            batch_x, batch_y = batch_x.to(device), batch_y.to(device)\n",
    "            \n",
    "            # Write your code here. Input the batch_x to the model and generate the predictions\n",
    "            batch_pred_y = model(batch_x, batch_x_lens)\n",
    "            predicted_tokens = torch.argmax(batch_pred_y, dim=-1)\n",
    "            \n",
    "            # Write your code here.\n",
    "            # Check whether the prediction match the ground truths\n",
    "            # Compute exact match (EM) on the eval dataset\n",
    "            # EM = correct/total\n",
    "            for idx, (pred, truth) in enumerate(zip(predicted_tokens, batch_y)):\n",
    "                # Remove front padding tokens\n",
    "                start = 0\n",
    "                for token in truth.tolist():\n",
    "                    if token != char_to_id['<pad>']: break\n",
    "                    start += 1\n",
    "                # Remove back padding tokens\n",
    "                end = batch_y_lens[idx].item()\n",
    "\n",
    "                # Exact match check\n",
    "                if torch.equal(pred[start: end], truth[start: end]):\n",
    "                    matched += 1\n",
    "                total += 1\n",
    "            \n",
    "    print(matched / total)"
   ]
  },
  {
   "cell_type": "code",
   "execution_count": 18,
   "id": "781c3637",
   "metadata": {
    "execution": {
     "iopub.execute_input": "2024-11-02T03:08:20.754116Z",
     "iopub.status.busy": "2024-11-02T03:08:20.753709Z",
     "iopub.status.idle": "2024-11-02T03:08:20.764744Z",
     "shell.execute_reply": "2024-11-02T03:08:20.764005Z"
    },
    "papermill": {
     "duration": 1.10634,
     "end_time": "2024-11-02T03:08:20.766645",
     "exception": false,
     "start_time": "2024-11-02T03:08:19.660305",
     "status": "completed"
    },
    "tags": []
   },
   "outputs": [],
   "source": [
    "torch.save(model, 'model.pkl')"
   ]
  },
  {
   "cell_type": "markdown",
   "id": "58d828b6",
   "metadata": {
    "papermill": {
     "duration": 1.090976,
     "end_time": "2024-11-02T03:08:22.907304",
     "exception": false,
     "start_time": "2024-11-02T03:08:21.816328",
     "status": "completed"
    },
    "tags": []
   },
   "source": [
    "# Generation\n",
    "Use `model.generator` and provide an initial character to automatically generate a sequence."
   ]
  },
  {
   "cell_type": "code",
   "execution_count": 19,
   "id": "c58b3640",
   "metadata": {
    "execution": {
     "iopub.execute_input": "2024-11-02T03:08:25.034017Z",
     "iopub.status.busy": "2024-11-02T03:08:25.033613Z",
     "iopub.status.idle": "2024-11-02T03:08:25.098154Z",
     "shell.execute_reply": "2024-11-02T03:08:25.097090Z"
    },
    "papermill": {
     "duration": 1.157538,
     "end_time": "2024-11-02T03:08:25.100457",
     "exception": false,
     "start_time": "2024-11-02T03:08:23.942919",
     "status": "completed"
    },
    "tags": []
   },
   "outputs": [
    {
     "name": "stdout",
     "output_type": "stream",
     "text": [
      "1+9*8=70\n"
     ]
    }
   ],
   "source": [
    "model = model.to(\"cpu\")\n",
    "print(\"\".join(model.generator('1+9*8=')))"
   ]
  }
 ],
 "metadata": {
  "kaggle": {
   "accelerator": "nvidiaTeslaT4",
   "dataSources": [],
   "dockerImageVersionId": 30786,
   "isGpuEnabled": true,
   "isInternetEnabled": true,
   "language": "python",
   "sourceType": "notebook"
  },
  "kernelspec": {
   "display_name": "Python 3",
   "language": "python",
   "name": "python3"
  },
  "language_info": {
   "codemirror_mode": {
    "name": "ipython",
    "version": 3
   },
   "file_extension": ".py",
   "mimetype": "text/x-python",
   "name": "python",
   "nbconvert_exporter": "python",
   "pygments_lexer": "ipython3",
   "version": "3.10.14"
  },
  "papermill": {
   "default_parameters": {},
   "duration": 1417.631199,
   "end_time": "2024-11-02T03:08:29.690136",
   "environment_variables": {},
   "exception": null,
   "input_path": "__notebook__.ipynb",
   "output_path": "__notebook__.ipynb",
   "parameters": {},
   "start_time": "2024-11-02T02:44:52.058937",
   "version": "2.6.0"
  }
 },
 "nbformat": 4,
 "nbformat_minor": 5
}
