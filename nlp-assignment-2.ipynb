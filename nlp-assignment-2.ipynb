{
 "cells": [
  {
   "cell_type": "markdown",
   "id": "bec7ff94",
   "metadata": {
    "_cell_guid": "fd870633-24a6-428e-a49a-e463d0930a9c",
    "_uuid": "7db91e03-8b46-4ec0-b55c-87332d2c3893",
    "papermill": {
     "duration": 0.008596,
     "end_time": "2024-11-07T11:50:59.457511",
     "exception": false,
     "start_time": "2024-11-07T11:50:59.448915",
     "status": "completed"
    },
    "tags": []
   },
   "source": [
    "# LSTM-arithmetic"
   ]
  },
  {
   "cell_type": "markdown",
   "id": "a5c11339",
   "metadata": {
    "_cell_guid": "5f515229-f1da-4389-8d57-f0cbffd99bb7",
    "_uuid": "342ad8b2-b84d-4466-9fa2-ab809d23ebb4",
    "papermill": {
     "duration": 0.007517,
     "end_time": "2024-11-07T11:50:59.472954",
     "exception": false,
     "start_time": "2024-11-07T11:50:59.465437",
     "status": "completed"
    },
    "tags": []
   },
   "source": [
    "## Dataset"
   ]
  },
  {
   "cell_type": "code",
   "execution_count": 1,
   "id": "9f458567",
   "metadata": {
    "_cell_guid": "d358139e-f9f0-4766-bddd-f7a756120a9f",
    "_uuid": "fddaec31-581a-406d-9e5e-aed77ad56046",
    "collapsed": false,
    "execution": {
     "iopub.execute_input": "2024-11-07T11:50:59.491092Z",
     "iopub.status.busy": "2024-11-07T11:50:59.490717Z",
     "iopub.status.idle": "2024-11-07T11:51:19.600972Z",
     "shell.execute_reply": "2024-11-07T11:51:19.599913Z"
    },
    "jupyter": {
     "outputs_hidden": false
    },
    "papermill": {
     "duration": 20.122571,
     "end_time": "2024-11-07T11:51:19.603216",
     "exception": false,
     "start_time": "2024-11-07T11:50:59.480645",
     "status": "completed"
    },
    "tags": []
   },
   "outputs": [],
   "source": [
    "%%capture\n",
    "!pip install gdown\n",
    "!gdown 'https://drive.google.com/uc?id=1cMuL3hF9jefka9RyF4gEBIGGeFGZYHE-'\n",
    "!unzip arithmetic_NLP.zip"
   ]
  },
  {
   "cell_type": "code",
   "execution_count": 2,
   "id": "84385fcb",
   "metadata": {
    "_cell_guid": "4df2ddda-2d62-43b7-bd2b-39d1f3ac022a",
    "_uuid": "d3bf41f7-1ce7-4dc3-9344-dc9865a092af",
    "collapsed": false,
    "execution": {
     "iopub.execute_input": "2024-11-07T11:51:19.620715Z",
     "iopub.status.busy": "2024-11-07T11:51:19.620338Z",
     "iopub.status.idle": "2024-11-07T11:51:58.006929Z",
     "shell.execute_reply": "2024-11-07T11:51:58.005390Z"
    },
    "jupyter": {
     "outputs_hidden": false
    },
    "papermill": {
     "duration": 38.398449,
     "end_time": "2024-11-07T11:51:58.009728",
     "exception": false,
     "start_time": "2024-11-07T11:51:19.611279",
     "status": "completed"
    },
    "tags": []
   },
   "outputs": [],
   "source": [
    "%%capture\n",
    "!pip install seaborn\n",
    "!pip install opencc-python-reimplemented\n",
    "!pip install -U scikit-learn"
   ]
  },
  {
   "cell_type": "code",
   "execution_count": 3,
   "id": "dd6c802f",
   "metadata": {
    "_cell_guid": "dbda243a-eb43-4d05-815a-96e66523f250",
    "_uuid": "a28c17fa-db3e-4827-b638-881174b4deb8",
    "collapsed": false,
    "execution": {
     "iopub.execute_input": "2024-11-07T11:51:58.027494Z",
     "iopub.status.busy": "2024-11-07T11:51:58.027095Z",
     "iopub.status.idle": "2024-11-07T11:52:03.522292Z",
     "shell.execute_reply": "2024-11-07T11:52:03.521519Z"
    },
    "jupyter": {
     "outputs_hidden": false
    },
    "papermill": {
     "duration": 5.506827,
     "end_time": "2024-11-07T11:52:03.524899",
     "exception": false,
     "start_time": "2024-11-07T11:51:58.018072",
     "status": "completed"
    },
    "tags": []
   },
   "outputs": [],
   "source": [
    "import numpy as np\n",
    "import pandas as pd\n",
    "import torch\n",
    "import torch.nn\n",
    "import torch.nn.utils.rnn\n",
    "import torch.utils.data\n",
    "import matplotlib.pyplot as plt\n",
    "import seaborn as sns\n",
    "import opencc\n",
    "import os\n",
    "from sklearn.model_selection import train_test_split\n",
    "\n",
    "data_path = '.'"
   ]
  },
  {
   "cell_type": "code",
   "execution_count": 4,
   "id": "0c9301a7",
   "metadata": {
    "_cell_guid": "7c8d1a0f-3537-4ea9-97f1-cba7ca8d9293",
    "_uuid": "951f66ef-3f55-4931-a64e-1bdf6fb7130c",
    "collapsed": false,
    "execution": {
     "iopub.execute_input": "2024-11-07T11:52:03.542608Z",
     "iopub.status.busy": "2024-11-07T11:52:03.542160Z",
     "iopub.status.idle": "2024-11-07T11:52:05.564026Z",
     "shell.execute_reply": "2024-11-07T11:52:05.563017Z"
    },
    "jupyter": {
     "outputs_hidden": false
    },
    "papermill": {
     "duration": 2.033365,
     "end_time": "2024-11-07T11:52:05.566449",
     "exception": false,
     "start_time": "2024-11-07T11:52:03.533084",
     "status": "completed"
    },
    "tags": []
   },
   "outputs": [
    {
     "data": {
      "text/html": [
       "<div>\n",
       "<style scoped>\n",
       "    .dataframe tbody tr th:only-of-type {\n",
       "        vertical-align: middle;\n",
       "    }\n",
       "\n",
       "    .dataframe tbody tr th {\n",
       "        vertical-align: top;\n",
       "    }\n",
       "\n",
       "    .dataframe thead th {\n",
       "        text-align: right;\n",
       "    }\n",
       "</style>\n",
       "<table border=\"1\" class=\"dataframe\">\n",
       "  <thead>\n",
       "    <tr style=\"text-align: right;\">\n",
       "      <th></th>\n",
       "      <th>src</th>\n",
       "      <th>tgt</th>\n",
       "    </tr>\n",
       "  </thead>\n",
       "  <tbody>\n",
       "    <tr>\n",
       "      <th>0</th>\n",
       "      <td>14*(43+20)=</td>\n",
       "      <td>882</td>\n",
       "    </tr>\n",
       "    <tr>\n",
       "      <th>1</th>\n",
       "      <td>(6+1)*5=</td>\n",
       "      <td>35</td>\n",
       "    </tr>\n",
       "    <tr>\n",
       "      <th>2</th>\n",
       "      <td>13+32+29=</td>\n",
       "      <td>74</td>\n",
       "    </tr>\n",
       "    <tr>\n",
       "      <th>3</th>\n",
       "      <td>31*(3-11)=</td>\n",
       "      <td>-248</td>\n",
       "    </tr>\n",
       "    <tr>\n",
       "      <th>4</th>\n",
       "      <td>24*49+1=</td>\n",
       "      <td>1177</td>\n",
       "    </tr>\n",
       "  </tbody>\n",
       "</table>\n",
       "</div>"
      ],
      "text/plain": [
       "           src   tgt\n",
       "0  14*(43+20)=   882\n",
       "1     (6+1)*5=    35\n",
       "2    13+32+29=    74\n",
       "3   31*(3-11)=  -248\n",
       "4     24*49+1=  1177"
      ]
     },
     "execution_count": 4,
     "metadata": {},
     "output_type": "execute_result"
    }
   ],
   "source": [
    "df_train = pd.read_csv(os.path.join(data_path, 'arithmetic_train.csv'), index_col=0).reset_index(drop=True)\n",
    "df_eval = pd.read_csv(os.path.join(data_path, 'arithmetic_eval.csv'), index_col=0).reset_index(drop=True)\n",
    "df_train.head()"
   ]
  },
  {
   "cell_type": "code",
   "execution_count": 5,
   "id": "1dacf118",
   "metadata": {
    "_cell_guid": "01015065-54d3-4665-823e-50ad38f1b14a",
    "_uuid": "08330d80-0de9-4fbf-b917-daa984301a12",
    "collapsed": false,
    "execution": {
     "iopub.execute_input": "2024-11-07T11:52:05.585933Z",
     "iopub.status.busy": "2024-11-07T11:52:05.585340Z",
     "iopub.status.idle": "2024-11-07T11:52:08.669299Z",
     "shell.execute_reply": "2024-11-07T11:52:08.668519Z"
    },
    "jupyter": {
     "outputs_hidden": false
    },
    "papermill": {
     "duration": 3.096136,
     "end_time": "2024-11-07T11:52:08.671684",
     "exception": false,
     "start_time": "2024-11-07T11:52:05.575548",
     "status": "completed"
    },
    "tags": []
   },
   "outputs": [],
   "source": [
    "# transform the input data to string\n",
    "df_train['tgt'] = df_train['tgt'].apply(lambda x: str(x))\n",
    "df_train['src'] = df_train['src'].add(df_train['tgt'])\n",
    "df_train['len'] = df_train['src'].apply(lambda x: len(x))\n",
    "\n",
    "df_eval['tgt'] = df_eval['tgt'].apply(lambda x: str(x))\n",
    "df_eval['src'] = df_eval['src'].add(df_eval['tgt'])\n",
    "df_eval['len'] = df_eval['src'].apply(lambda x: len(x))"
   ]
  },
  {
   "cell_type": "markdown",
   "id": "766f213f",
   "metadata": {
    "_cell_guid": "9471e622-4a73-43bd-940a-4ae92fcdf511",
    "_uuid": "ecd907a2-4730-409c-8671-4c202b199d4a",
    "papermill": {
     "duration": 0.008056,
     "end_time": "2024-11-07T11:52:08.688546",
     "exception": false,
     "start_time": "2024-11-07T11:52:08.680490",
     "status": "completed"
    },
    "tags": []
   },
   "source": [
    "# Build Dictionary\n",
    " - The model cannot perform calculations directly with plain text.\n",
    " - Convert all text (numbers/symbols) into numerical representations.\n",
    " - Special tokens\n",
    "    - '&lt;pad&gt;'\n",
    "        - Each sentence within a batch may have different lengths.\n",
    "        - The length is padded with '&lt;pad&gt;' to match the longest sentence in the batch.\n",
    "    - '&lt;eos&gt;'\n",
    "        - Specifies the end of the generated sequence.\n",
    "        - Without '&lt;eos&gt;', the model will not know when to stop generating."
   ]
  },
  {
   "cell_type": "code",
   "execution_count": 6,
   "id": "09ef87c7",
   "metadata": {
    "_cell_guid": "ce31d429-87aa-462b-a9b4-b7f0051bf1a2",
    "_uuid": "c72d567c-23a4-488d-8a82-866367677a07",
    "collapsed": false,
    "execution": {
     "iopub.execute_input": "2024-11-07T11:52:08.705639Z",
     "iopub.status.busy": "2024-11-07T11:52:08.705274Z",
     "iopub.status.idle": "2024-11-07T11:52:08.712426Z",
     "shell.execute_reply": "2024-11-07T11:52:08.711545Z"
    },
    "jupyter": {
     "outputs_hidden": false
    },
    "papermill": {
     "duration": 0.018072,
     "end_time": "2024-11-07T11:52:08.714469",
     "exception": false,
     "start_time": "2024-11-07T11:52:08.696397",
     "status": "completed"
    },
    "tags": []
   },
   "outputs": [
    {
     "name": "stdout",
     "output_type": "stream",
     "text": [
      "Vocab size 19\n"
     ]
    }
   ],
   "source": [
    "char_to_id = {}\n",
    "id_to_char = {}\n",
    "\n",
    "# write your code here\n",
    "# Build a dictionary and give every token in the train dataset an id\n",
    "# The dictionary should contain <eos> and <pad>\n",
    "# char_to_id is to convert charactors to ids, while id_to_char is the opposite\n",
    "\n",
    "numbers = [str(i) for i in range(0, 10)]\n",
    "operators = ['+', '-', '*', '/', '(', ')', '=']\n",
    "special_tokens = ['<pad>', '<eos>']\n",
    "\n",
    "for idx, token in enumerate(numbers + operators + special_tokens):\n",
    "    char_to_id[token] = idx\n",
    "    id_to_char[idx] = token\n",
    "\n",
    "vocab_size = len(char_to_id)\n",
    "print('Vocab size {}'.format(vocab_size))"
   ]
  },
  {
   "cell_type": "markdown",
   "id": "30bd9d68",
   "metadata": {
    "_cell_guid": "dc1b5357-8e52-451f-8a9d-e5f2ea2f436a",
    "_uuid": "e0748ca3-261c-4ad3-a826-c829d44934ce",
    "papermill": {
     "duration": 0.0078,
     "end_time": "2024-11-07T11:52:08.730313",
     "exception": false,
     "start_time": "2024-11-07T11:52:08.722513",
     "status": "completed"
    },
    "tags": []
   },
   "source": [
    "# Data Preprocessing\n",
    " - The data is processed into the format required for the model's input and output.\n",
    " - Example: 1+2-3=0\n",
    "     - Model input: 1 + 2 - 3 = 0\n",
    "     - Model output: / / / / / 0 &lt;eos&gt;  (the '/' can be replaced with &lt;pad&gt;)\n",
    "     - The key for the model's output is that the model does not need to predict the next character of the previous part. What matters is that once the model sees '=', it should start generating the answer, which is '0'. After generating the answer, it should also generate&lt;eos&gt;"
   ]
  },
  {
   "cell_type": "code",
   "execution_count": 7,
   "id": "df76862b",
   "metadata": {
    "_cell_guid": "dfb7ff55-766f-4c9d-b35c-f974afdda2ae",
    "_uuid": "b25706d0-f706-48ab-92ea-4c183c59898e",
    "collapsed": false,
    "execution": {
     "iopub.execute_input": "2024-11-07T11:52:08.747285Z",
     "iopub.status.busy": "2024-11-07T11:52:08.746992Z",
     "iopub.status.idle": "2024-11-07T11:52:08.752228Z",
     "shell.execute_reply": "2024-11-07T11:52:08.751437Z"
    },
    "jupyter": {
     "outputs_hidden": false
    },
    "papermill": {
     "duration": 0.015859,
     "end_time": "2024-11-07T11:52:08.754074",
     "exception": false,
     "start_time": "2024-11-07T11:52:08.738215",
     "status": "completed"
    },
    "tags": []
   },
   "outputs": [],
   "source": [
    "# Write your code here\n",
    "def create_char_ids(src: str):\n",
    "    return [char_to_id[c] for c in (list(src) + ['<eos>'])]\n",
    "\n",
    "def create_label_ids(char_ids: list):\n",
    "    idx = char_ids.index(char_to_id['='])\n",
    "    return [char_to_id['<pad>']] * (idx + 1) + char_ids[idx + 1:]"
   ]
  },
  {
   "cell_type": "code",
   "execution_count": 8,
   "id": "fc87ba4d",
   "metadata": {
    "_cell_guid": "2136309f-3336-488d-b139-a27407347b08",
    "_uuid": "32430304-5ffe-4aab-be07-603eae1b016a",
    "collapsed": false,
    "execution": {
     "iopub.execute_input": "2024-11-07T11:52:08.771004Z",
     "iopub.status.busy": "2024-11-07T11:52:08.770723Z",
     "iopub.status.idle": "2024-11-07T11:52:21.779870Z",
     "shell.execute_reply": "2024-11-07T11:52:21.778964Z"
    },
    "jupyter": {
     "outputs_hidden": false
    },
    "papermill": {
     "duration": 13.020443,
     "end_time": "2024-11-07T11:52:21.782452",
     "exception": false,
     "start_time": "2024-11-07T11:52:08.762009",
     "status": "completed"
    },
    "tags": []
   },
   "outputs": [
    {
     "data": {
      "text/html": [
       "<div>\n",
       "<style scoped>\n",
       "    .dataframe tbody tr th:only-of-type {\n",
       "        vertical-align: middle;\n",
       "    }\n",
       "\n",
       "    .dataframe tbody tr th {\n",
       "        vertical-align: top;\n",
       "    }\n",
       "\n",
       "    .dataframe thead th {\n",
       "        text-align: right;\n",
       "    }\n",
       "</style>\n",
       "<table border=\"1\" class=\"dataframe\">\n",
       "  <thead>\n",
       "    <tr style=\"text-align: right;\">\n",
       "      <th></th>\n",
       "      <th>src</th>\n",
       "      <th>tgt</th>\n",
       "      <th>len</th>\n",
       "      <th>char_id_list</th>\n",
       "      <th>label_id_list</th>\n",
       "    </tr>\n",
       "  </thead>\n",
       "  <tbody>\n",
       "    <tr>\n",
       "      <th>0</th>\n",
       "      <td>14*(43+20)=882</td>\n",
       "      <td>882</td>\n",
       "      <td>14</td>\n",
       "      <td>[1, 4, 12, 14, 4, 3, 10, 2, 0, 15, 16, 8, 8, 2...</td>\n",
       "      <td>[17, 17, 17, 17, 17, 17, 17, 17, 17, 17, 17, 8...</td>\n",
       "    </tr>\n",
       "    <tr>\n",
       "      <th>1</th>\n",
       "      <td>(6+1)*5=35</td>\n",
       "      <td>35</td>\n",
       "      <td>10</td>\n",
       "      <td>[14, 6, 10, 1, 15, 12, 5, 16, 3, 5, 18]</td>\n",
       "      <td>[17, 17, 17, 17, 17, 17, 17, 17, 3, 5, 18]</td>\n",
       "    </tr>\n",
       "    <tr>\n",
       "      <th>2</th>\n",
       "      <td>13+32+29=74</td>\n",
       "      <td>74</td>\n",
       "      <td>11</td>\n",
       "      <td>[1, 3, 10, 3, 2, 10, 2, 9, 16, 7, 4, 18]</td>\n",
       "      <td>[17, 17, 17, 17, 17, 17, 17, 17, 17, 7, 4, 18]</td>\n",
       "    </tr>\n",
       "    <tr>\n",
       "      <th>3</th>\n",
       "      <td>31*(3-11)=-248</td>\n",
       "      <td>-248</td>\n",
       "      <td>14</td>\n",
       "      <td>[3, 1, 12, 14, 3, 11, 1, 1, 15, 16, 11, 2, 4, ...</td>\n",
       "      <td>[17, 17, 17, 17, 17, 17, 17, 17, 17, 17, 11, 2...</td>\n",
       "    </tr>\n",
       "    <tr>\n",
       "      <th>4</th>\n",
       "      <td>24*49+1=1177</td>\n",
       "      <td>1177</td>\n",
       "      <td>12</td>\n",
       "      <td>[2, 4, 12, 4, 9, 10, 1, 16, 1, 1, 7, 7, 18]</td>\n",
       "      <td>[17, 17, 17, 17, 17, 17, 17, 17, 1, 1, 7, 7, 18]</td>\n",
       "    </tr>\n",
       "    <tr>\n",
       "      <th>...</th>\n",
       "      <td>...</td>\n",
       "      <td>...</td>\n",
       "      <td>...</td>\n",
       "      <td>...</td>\n",
       "      <td>...</td>\n",
       "    </tr>\n",
       "    <tr>\n",
       "      <th>2369245</th>\n",
       "      <td>1+(37*8)=297</td>\n",
       "      <td>297</td>\n",
       "      <td>12</td>\n",
       "      <td>[1, 10, 14, 3, 7, 12, 8, 15, 16, 2, 9, 7, 18]</td>\n",
       "      <td>[17, 17, 17, 17, 17, 17, 17, 17, 17, 2, 9, 7, 18]</td>\n",
       "    </tr>\n",
       "    <tr>\n",
       "      <th>2369246</th>\n",
       "      <td>37-25-19=-7</td>\n",
       "      <td>-7</td>\n",
       "      <td>11</td>\n",
       "      <td>[3, 7, 11, 2, 5, 11, 1, 9, 16, 11, 7, 18]</td>\n",
       "      <td>[17, 17, 17, 17, 17, 17, 17, 17, 17, 11, 7, 18]</td>\n",
       "    </tr>\n",
       "    <tr>\n",
       "      <th>2369247</th>\n",
       "      <td>7+39-40=6</td>\n",
       "      <td>6</td>\n",
       "      <td>9</td>\n",
       "      <td>[7, 10, 3, 9, 11, 4, 0, 16, 6, 18]</td>\n",
       "      <td>[17, 17, 17, 17, 17, 17, 17, 17, 6, 18]</td>\n",
       "    </tr>\n",
       "    <tr>\n",
       "      <th>2369248</th>\n",
       "      <td>27-28-12=-13</td>\n",
       "      <td>-13</td>\n",
       "      <td>12</td>\n",
       "      <td>[2, 7, 11, 2, 8, 11, 1, 2, 16, 11, 1, 3, 18]</td>\n",
       "      <td>[17, 17, 17, 17, 17, 17, 17, 17, 17, 11, 1, 3,...</td>\n",
       "    </tr>\n",
       "    <tr>\n",
       "      <th>2369249</th>\n",
       "      <td>31+(35-43)=23</td>\n",
       "      <td>23</td>\n",
       "      <td>13</td>\n",
       "      <td>[3, 1, 10, 14, 3, 5, 11, 4, 3, 15, 16, 2, 3, 18]</td>\n",
       "      <td>[17, 17, 17, 17, 17, 17, 17, 17, 17, 17, 17, 2...</td>\n",
       "    </tr>\n",
       "  </tbody>\n",
       "</table>\n",
       "<p>2369250 rows × 5 columns</p>\n",
       "</div>"
      ],
      "text/plain": [
       "                    src   tgt  len  \\\n",
       "0        14*(43+20)=882   882   14   \n",
       "1            (6+1)*5=35    35   10   \n",
       "2           13+32+29=74    74   11   \n",
       "3        31*(3-11)=-248  -248   14   \n",
       "4          24*49+1=1177  1177   12   \n",
       "...                 ...   ...  ...   \n",
       "2369245    1+(37*8)=297   297   12   \n",
       "2369246     37-25-19=-7    -7   11   \n",
       "2369247       7+39-40=6     6    9   \n",
       "2369248    27-28-12=-13   -13   12   \n",
       "2369249   31+(35-43)=23    23   13   \n",
       "\n",
       "                                              char_id_list  \\\n",
       "0        [1, 4, 12, 14, 4, 3, 10, 2, 0, 15, 16, 8, 8, 2...   \n",
       "1                  [14, 6, 10, 1, 15, 12, 5, 16, 3, 5, 18]   \n",
       "2                 [1, 3, 10, 3, 2, 10, 2, 9, 16, 7, 4, 18]   \n",
       "3        [3, 1, 12, 14, 3, 11, 1, 1, 15, 16, 11, 2, 4, ...   \n",
       "4              [2, 4, 12, 4, 9, 10, 1, 16, 1, 1, 7, 7, 18]   \n",
       "...                                                    ...   \n",
       "2369245      [1, 10, 14, 3, 7, 12, 8, 15, 16, 2, 9, 7, 18]   \n",
       "2369246          [3, 7, 11, 2, 5, 11, 1, 9, 16, 11, 7, 18]   \n",
       "2369247                 [7, 10, 3, 9, 11, 4, 0, 16, 6, 18]   \n",
       "2369248       [2, 7, 11, 2, 8, 11, 1, 2, 16, 11, 1, 3, 18]   \n",
       "2369249   [3, 1, 10, 14, 3, 5, 11, 4, 3, 15, 16, 2, 3, 18]   \n",
       "\n",
       "                                             label_id_list  \n",
       "0        [17, 17, 17, 17, 17, 17, 17, 17, 17, 17, 17, 8...  \n",
       "1               [17, 17, 17, 17, 17, 17, 17, 17, 3, 5, 18]  \n",
       "2           [17, 17, 17, 17, 17, 17, 17, 17, 17, 7, 4, 18]  \n",
       "3        [17, 17, 17, 17, 17, 17, 17, 17, 17, 17, 11, 2...  \n",
       "4         [17, 17, 17, 17, 17, 17, 17, 17, 1, 1, 7, 7, 18]  \n",
       "...                                                    ...  \n",
       "2369245  [17, 17, 17, 17, 17, 17, 17, 17, 17, 2, 9, 7, 18]  \n",
       "2369246    [17, 17, 17, 17, 17, 17, 17, 17, 17, 11, 7, 18]  \n",
       "2369247            [17, 17, 17, 17, 17, 17, 17, 17, 6, 18]  \n",
       "2369248  [17, 17, 17, 17, 17, 17, 17, 17, 17, 11, 1, 3,...  \n",
       "2369249  [17, 17, 17, 17, 17, 17, 17, 17, 17, 17, 17, 2...  \n",
       "\n",
       "[2369250 rows x 5 columns]"
      ]
     },
     "execution_count": 8,
     "metadata": {},
     "output_type": "execute_result"
    }
   ],
   "source": [
    "df_train['char_id_list'] = df_train['src'].map(lambda x: create_char_ids(x))\n",
    "df_train['label_id_list'] = df_train['char_id_list'].map(lambda x: create_label_ids(x))\n",
    "df_train"
   ]
  },
  {
   "cell_type": "code",
   "execution_count": 9,
   "id": "1591d8d3",
   "metadata": {
    "_cell_guid": "642d7260-6831-4591-a0c7-c3e5b7b60a53",
    "_uuid": "9f0cc1fc-4690-4438-bb39-ba20922009a8",
    "collapsed": false,
    "execution": {
     "iopub.execute_input": "2024-11-07T11:52:21.802698Z",
     "iopub.status.busy": "2024-11-07T11:52:21.801895Z",
     "iopub.status.idle": "2024-11-07T11:52:23.549898Z",
     "shell.execute_reply": "2024-11-07T11:52:23.548956Z"
    },
    "jupyter": {
     "outputs_hidden": false
    },
    "papermill": {
     "duration": 1.759992,
     "end_time": "2024-11-07T11:52:23.552173",
     "exception": false,
     "start_time": "2024-11-07T11:52:21.792181",
     "status": "completed"
    },
    "tags": []
   },
   "outputs": [
    {
     "data": {
      "text/html": [
       "<div>\n",
       "<style scoped>\n",
       "    .dataframe tbody tr th:only-of-type {\n",
       "        vertical-align: middle;\n",
       "    }\n",
       "\n",
       "    .dataframe tbody tr th {\n",
       "        vertical-align: top;\n",
       "    }\n",
       "\n",
       "    .dataframe thead th {\n",
       "        text-align: right;\n",
       "    }\n",
       "</style>\n",
       "<table border=\"1\" class=\"dataframe\">\n",
       "  <thead>\n",
       "    <tr style=\"text-align: right;\">\n",
       "      <th></th>\n",
       "      <th>src</th>\n",
       "      <th>tgt</th>\n",
       "      <th>len</th>\n",
       "      <th>char_id_list</th>\n",
       "      <th>label_id_list</th>\n",
       "    </tr>\n",
       "  </thead>\n",
       "  <tbody>\n",
       "    <tr>\n",
       "      <th>0</th>\n",
       "      <td>48+43+34=125</td>\n",
       "      <td>125</td>\n",
       "      <td>12</td>\n",
       "      <td>[4, 8, 10, 4, 3, 10, 3, 4, 16, 1, 2, 5, 18]</td>\n",
       "      <td>[17, 17, 17, 17, 17, 17, 17, 17, 17, 1, 2, 5, 18]</td>\n",
       "    </tr>\n",
       "    <tr>\n",
       "      <th>1</th>\n",
       "      <td>30-(48+13)=-31</td>\n",
       "      <td>-31</td>\n",
       "      <td>14</td>\n",
       "      <td>[3, 0, 11, 14, 4, 8, 10, 1, 3, 15, 16, 11, 3, ...</td>\n",
       "      <td>[17, 17, 17, 17, 17, 17, 17, 17, 17, 17, 17, 1...</td>\n",
       "    </tr>\n",
       "    <tr>\n",
       "      <th>2</th>\n",
       "      <td>(21*31)+10=661</td>\n",
       "      <td>661</td>\n",
       "      <td>14</td>\n",
       "      <td>[14, 2, 1, 12, 3, 1, 15, 10, 1, 0, 16, 6, 6, 1...</td>\n",
       "      <td>[17, 17, 17, 17, 17, 17, 17, 17, 17, 17, 17, 6...</td>\n",
       "    </tr>\n",
       "    <tr>\n",
       "      <th>3</th>\n",
       "      <td>2-27-10=-35</td>\n",
       "      <td>-35</td>\n",
       "      <td>11</td>\n",
       "      <td>[2, 11, 2, 7, 11, 1, 0, 16, 11, 3, 5, 18]</td>\n",
       "      <td>[17, 17, 17, 17, 17, 17, 17, 17, 11, 3, 5, 18]</td>\n",
       "    </tr>\n",
       "    <tr>\n",
       "      <th>4</th>\n",
       "      <td>(15*20)+24=324</td>\n",
       "      <td>324</td>\n",
       "      <td>14</td>\n",
       "      <td>[14, 1, 5, 12, 2, 0, 15, 10, 2, 4, 16, 3, 2, 4...</td>\n",
       "      <td>[17, 17, 17, 17, 17, 17, 17, 17, 17, 17, 17, 3...</td>\n",
       "    </tr>\n",
       "    <tr>\n",
       "      <th>...</th>\n",
       "      <td>...</td>\n",
       "      <td>...</td>\n",
       "      <td>...</td>\n",
       "      <td>...</td>\n",
       "      <td>...</td>\n",
       "    </tr>\n",
       "    <tr>\n",
       "      <th>263245</th>\n",
       "      <td>14*43*23=13846</td>\n",
       "      <td>13846</td>\n",
       "      <td>14</td>\n",
       "      <td>[1, 4, 12, 4, 3, 12, 2, 3, 16, 1, 3, 8, 4, 6, 18]</td>\n",
       "      <td>[17, 17, 17, 17, 17, 17, 17, 17, 17, 1, 3, 8, ...</td>\n",
       "    </tr>\n",
       "    <tr>\n",
       "      <th>263246</th>\n",
       "      <td>48-(5*27)=-87</td>\n",
       "      <td>-87</td>\n",
       "      <td>13</td>\n",
       "      <td>[4, 8, 11, 14, 5, 12, 2, 7, 15, 16, 11, 8, 7, 18]</td>\n",
       "      <td>[17, 17, 17, 17, 17, 17, 17, 17, 17, 17, 11, 8...</td>\n",
       "    </tr>\n",
       "    <tr>\n",
       "      <th>263247</th>\n",
       "      <td>30*42+16=1276</td>\n",
       "      <td>1276</td>\n",
       "      <td>13</td>\n",
       "      <td>[3, 0, 12, 4, 2, 10, 1, 6, 16, 1, 2, 7, 6, 18]</td>\n",
       "      <td>[17, 17, 17, 17, 17, 17, 17, 17, 17, 1, 2, 7, ...</td>\n",
       "    </tr>\n",
       "    <tr>\n",
       "      <th>263248</th>\n",
       "      <td>21*(10-15)=-105</td>\n",
       "      <td>-105</td>\n",
       "      <td>15</td>\n",
       "      <td>[2, 1, 12, 14, 1, 0, 11, 1, 5, 15, 16, 11, 1, ...</td>\n",
       "      <td>[17, 17, 17, 17, 17, 17, 17, 17, 17, 17, 17, 1...</td>\n",
       "    </tr>\n",
       "    <tr>\n",
       "      <th>263249</th>\n",
       "      <td>(12*37)+4=448</td>\n",
       "      <td>448</td>\n",
       "      <td>13</td>\n",
       "      <td>[14, 1, 2, 12, 3, 7, 15, 10, 4, 16, 4, 4, 8, 18]</td>\n",
       "      <td>[17, 17, 17, 17, 17, 17, 17, 17, 17, 17, 4, 4,...</td>\n",
       "    </tr>\n",
       "  </tbody>\n",
       "</table>\n",
       "<p>263250 rows × 5 columns</p>\n",
       "</div>"
      ],
      "text/plain": [
       "                    src    tgt  len  \\\n",
       "0          48+43+34=125    125   12   \n",
       "1        30-(48+13)=-31    -31   14   \n",
       "2        (21*31)+10=661    661   14   \n",
       "3           2-27-10=-35    -35   11   \n",
       "4        (15*20)+24=324    324   14   \n",
       "...                 ...    ...  ...   \n",
       "263245   14*43*23=13846  13846   14   \n",
       "263246    48-(5*27)=-87    -87   13   \n",
       "263247    30*42+16=1276   1276   13   \n",
       "263248  21*(10-15)=-105   -105   15   \n",
       "263249    (12*37)+4=448    448   13   \n",
       "\n",
       "                                             char_id_list  \\\n",
       "0             [4, 8, 10, 4, 3, 10, 3, 4, 16, 1, 2, 5, 18]   \n",
       "1       [3, 0, 11, 14, 4, 8, 10, 1, 3, 15, 16, 11, 3, ...   \n",
       "2       [14, 2, 1, 12, 3, 1, 15, 10, 1, 0, 16, 6, 6, 1...   \n",
       "3               [2, 11, 2, 7, 11, 1, 0, 16, 11, 3, 5, 18]   \n",
       "4       [14, 1, 5, 12, 2, 0, 15, 10, 2, 4, 16, 3, 2, 4...   \n",
       "...                                                   ...   \n",
       "263245  [1, 4, 12, 4, 3, 12, 2, 3, 16, 1, 3, 8, 4, 6, 18]   \n",
       "263246  [4, 8, 11, 14, 5, 12, 2, 7, 15, 16, 11, 8, 7, 18]   \n",
       "263247     [3, 0, 12, 4, 2, 10, 1, 6, 16, 1, 2, 7, 6, 18]   \n",
       "263248  [2, 1, 12, 14, 1, 0, 11, 1, 5, 15, 16, 11, 1, ...   \n",
       "263249   [14, 1, 2, 12, 3, 7, 15, 10, 4, 16, 4, 4, 8, 18]   \n",
       "\n",
       "                                            label_id_list  \n",
       "0       [17, 17, 17, 17, 17, 17, 17, 17, 17, 1, 2, 5, 18]  \n",
       "1       [17, 17, 17, 17, 17, 17, 17, 17, 17, 17, 17, 1...  \n",
       "2       [17, 17, 17, 17, 17, 17, 17, 17, 17, 17, 17, 6...  \n",
       "3          [17, 17, 17, 17, 17, 17, 17, 17, 11, 3, 5, 18]  \n",
       "4       [17, 17, 17, 17, 17, 17, 17, 17, 17, 17, 17, 3...  \n",
       "...                                                   ...  \n",
       "263245  [17, 17, 17, 17, 17, 17, 17, 17, 17, 1, 3, 8, ...  \n",
       "263246  [17, 17, 17, 17, 17, 17, 17, 17, 17, 17, 11, 8...  \n",
       "263247  [17, 17, 17, 17, 17, 17, 17, 17, 17, 1, 2, 7, ...  \n",
       "263248  [17, 17, 17, 17, 17, 17, 17, 17, 17, 17, 17, 1...  \n",
       "263249  [17, 17, 17, 17, 17, 17, 17, 17, 17, 17, 4, 4,...  \n",
       "\n",
       "[263250 rows x 5 columns]"
      ]
     },
     "execution_count": 9,
     "metadata": {},
     "output_type": "execute_result"
    }
   ],
   "source": [
    "df_eval['char_id_list'] = df_eval['src'].map(lambda x: create_char_ids(x))\n",
    "df_eval['label_id_list'] = df_eval['char_id_list'].map(lambda x: create_label_ids(x))\n",
    "df_eval"
   ]
  },
  {
   "cell_type": "markdown",
   "id": "6c9551b2",
   "metadata": {
    "_cell_guid": "d6d4e234-5041-45e1-b30d-029d651b2c90",
    "_uuid": "b2dafe7c-2927-44e3-97ae-15c39d6fb70f",
    "papermill": {
     "duration": 0.008409,
     "end_time": "2024-11-07T11:52:23.569674",
     "exception": false,
     "start_time": "2024-11-07T11:52:23.561265",
     "status": "completed"
    },
    "tags": []
   },
   "source": [
    "# Hyper Parameters\n",
    "\n",
    "|Hyperparameter|Meaning|Value|\n",
    "|-|-|-|\n",
    "|`batch_size`|Number of data samples in a single batch|64|\n",
    "|`epochs`|Total number of epochs to train|10|\n",
    "|`embed_dim`|Dimension of the word embeddings|256|\n",
    "|`hidden_dim`|Dimension of the hidden state in each timestep of the LSTM|256|\n",
    "|`lr`|Learning Rate|0.001|\n",
    "|`grad_clip`|To prevent gradient explosion in RNNs, restrict the gradient range|1|"
   ]
  },
  {
   "cell_type": "code",
   "execution_count": 10,
   "id": "040f3c90",
   "metadata": {
    "_cell_guid": "ebb9fd54-d945-40ba-9c2d-d4158db7f9d6",
    "_uuid": "a1a4df18-e066-4a98-ae48-b1fe2722fe47",
    "collapsed": false,
    "execution": {
     "iopub.execute_input": "2024-11-07T11:52:23.588063Z",
     "iopub.status.busy": "2024-11-07T11:52:23.587758Z",
     "iopub.status.idle": "2024-11-07T11:52:23.592132Z",
     "shell.execute_reply": "2024-11-07T11:52:23.591261Z"
    },
    "jupyter": {
     "outputs_hidden": false
    },
    "papermill": {
     "duration": 0.015921,
     "end_time": "2024-11-07T11:52:23.594133",
     "exception": false,
     "start_time": "2024-11-07T11:52:23.578212",
     "status": "completed"
    },
    "tags": []
   },
   "outputs": [],
   "source": [
    "batch_size = 64\n",
    "epochs = 2\n",
    "embed_dim = 256\n",
    "hidden_dim = 256\n",
    "lr = 0.001\n",
    "grad_clip = 1"
   ]
  },
  {
   "cell_type": "markdown",
   "id": "737c0b37",
   "metadata": {
    "_cell_guid": "fb6d4b8b-ae5e-40bd-a65a-27326be1c862",
    "_uuid": "be6f23f0-5508-4f53-b725-e34edb034ac7",
    "papermill": {
     "duration": 0.008382,
     "end_time": "2024-11-07T11:52:23.611148",
     "exception": false,
     "start_time": "2024-11-07T11:52:23.602766",
     "status": "completed"
    },
    "tags": []
   },
   "source": [
    "# Data Batching\n",
    "- Use `torch.utils.data.Dataset` to create a data generation tool called  `dataset`.\n",
    "- The, use `torch.utils.data.DataLoader` to randomly sample from the `dataset` and group the samples into batches."
   ]
  },
  {
   "cell_type": "code",
   "execution_count": 11,
   "id": "2e8c7719",
   "metadata": {
    "_cell_guid": "a3ba0940-9018-49de-b708-afc83d94972d",
    "_uuid": "65c5e22e-aa83-4494-83aa-a0eff950d408",
    "collapsed": false,
    "execution": {
     "iopub.execute_input": "2024-11-07T11:52:23.629801Z",
     "iopub.status.busy": "2024-11-07T11:52:23.629203Z",
     "iopub.status.idle": "2024-11-07T11:52:23.637903Z",
     "shell.execute_reply": "2024-11-07T11:52:23.637135Z"
    },
    "jupyter": {
     "outputs_hidden": false
    },
    "papermill": {
     "duration": 0.020124,
     "end_time": "2024-11-07T11:52:23.639853",
     "exception": false,
     "start_time": "2024-11-07T11:52:23.619729",
     "status": "completed"
    },
    "tags": []
   },
   "outputs": [],
   "source": [
    "class Dataset(torch.utils.data.Dataset):\n",
    "    def __init__(self, sequences):\n",
    "        self.sequences = sequences\n",
    "    \n",
    "    def __len__(self):\n",
    "        # return the amount of data\n",
    "        return len(self.sequences)\n",
    "    \n",
    "    def __getitem__(self, index):\n",
    "        # Extract the input data x and the ground truth y from the data\n",
    "        x = self.sequences.iloc[index]['char_id_list'][:-1]\n",
    "        y = self.sequences.iloc[index]['label_id_list'][1:] \n",
    "        return x, y\n",
    "\n",
    "# collate function, used to build dataloader\n",
    "def collate_fn(batch):\n",
    "    batch_x = [torch.tensor(data[0]) for data in batch]\n",
    "    batch_y = [torch.tensor(data[1]) for data in batch]\n",
    "    batch_x_lens = torch.LongTensor([len(x) for x in batch_x])\n",
    "    batch_y_lens = torch.LongTensor([len(y) for y in batch_y])\n",
    "    \n",
    "    # Pad the input sequence\n",
    "    pad_batch_x = torch.nn.utils.rnn.pad_sequence(batch_x,\n",
    "                                                  batch_first=True,\n",
    "                                                  padding_value=char_to_id['<pad>'])\n",
    "    \n",
    "    pad_batch_y = torch.nn.utils.rnn.pad_sequence(batch_y,\n",
    "                                                  batch_first=True,\n",
    "                                                  padding_value=char_to_id['<pad>'])\n",
    "    \n",
    "    return pad_batch_x, pad_batch_y, batch_x_lens, batch_y_lens"
   ]
  },
  {
   "cell_type": "code",
   "execution_count": 12,
   "id": "0ccb1673",
   "metadata": {
    "_cell_guid": "f3b1fe0a-026f-47e2-9d33-0f14b6588318",
    "_uuid": "76eabdc5-5646-4dd2-84d3-e75ca14198e1",
    "collapsed": false,
    "execution": {
     "iopub.execute_input": "2024-11-07T11:52:23.658211Z",
     "iopub.status.busy": "2024-11-07T11:52:23.657922Z",
     "iopub.status.idle": "2024-11-07T11:52:23.661815Z",
     "shell.execute_reply": "2024-11-07T11:52:23.660856Z"
    },
    "jupyter": {
     "outputs_hidden": false
    },
    "papermill": {
     "duration": 0.015234,
     "end_time": "2024-11-07T11:52:23.663765",
     "exception": false,
     "start_time": "2024-11-07T11:52:23.648531",
     "status": "completed"
    },
    "tags": []
   },
   "outputs": [],
   "source": [
    "ds_train = Dataset(df_train)\n",
    "ds_eval = Dataset(df_eval)"
   ]
  },
  {
   "cell_type": "code",
   "execution_count": 13,
   "id": "6d397488",
   "metadata": {
    "_cell_guid": "10624fb2-bf3d-438e-8a15-5a6c5f67bf53",
    "_uuid": "cbb5463c-2998-433c-a030-c078ab3f665d",
    "collapsed": false,
    "execution": {
     "iopub.execute_input": "2024-11-07T11:52:23.682563Z",
     "iopub.status.busy": "2024-11-07T11:52:23.681817Z",
     "iopub.status.idle": "2024-11-07T11:52:23.686819Z",
     "shell.execute_reply": "2024-11-07T11:52:23.686101Z"
    },
    "jupyter": {
     "outputs_hidden": false
    },
    "papermill": {
     "duration": 0.016341,
     "end_time": "2024-11-07T11:52:23.688692",
     "exception": false,
     "start_time": "2024-11-07T11:52:23.672351",
     "status": "completed"
    },
    "tags": []
   },
   "outputs": [],
   "source": [
    "# Build dataloader of train set and eval set, collate_fn is the collate function\n",
    "dl_train = torch.utils.data.DataLoader(ds_train, batch_size, shuffle=True, collate_fn=collate_fn)\n",
    "dl_eval = torch.utils.data.DataLoader(ds_eval, batch_size, shuffle=True, collate_fn=collate_fn)"
   ]
  },
  {
   "cell_type": "markdown",
   "id": "5abf4867",
   "metadata": {
    "_cell_guid": "914d8a1c-9c3f-4b19-9c8c-00f075b2eec8",
    "_uuid": "c9ffe755-925d-4748-a2e5-ae15daf6b3c1",
    "papermill": {
     "duration": 0.008271,
     "end_time": "2024-11-07T11:52:23.705567",
     "exception": false,
     "start_time": "2024-11-07T11:52:23.697296",
     "status": "completed"
    },
    "tags": []
   },
   "source": [
    "# Model Design\n",
    "\n",
    "## Execution Flow\n",
    "1. Convert all characters in the sentence into embeddings.\n",
    "2. Pass the embeddings through an LSTM sequentially.\n",
    "3. The output of the LSTM is passed into another LSTM, and additional layers can be added.\n",
    "4. The output from all time steps of the final LSTM is passed through a Fully Connected layer.\n",
    "5. The character corresponding to the maximum value across all output dimensions is selected as the next character.\n",
    "\n",
    "## Loss Function\n",
    "Since this is a classification task, Cross Entropy is used as the loss function.\n",
    "\n",
    "## Gradient Update\n",
    "Adam algorithm is used for gradient updates."
   ]
  },
  {
   "cell_type": "code",
   "execution_count": 14,
   "id": "30ae72ba",
   "metadata": {
    "_cell_guid": "84b0175a-c6de-4dff-9605-b41b23484357",
    "_uuid": "93660857-0239-4918-8934-83b601c261b8",
    "collapsed": false,
    "execution": {
     "iopub.execute_input": "2024-11-07T11:52:23.724236Z",
     "iopub.status.busy": "2024-11-07T11:52:23.723572Z",
     "iopub.status.idle": "2024-11-07T11:52:23.736221Z",
     "shell.execute_reply": "2024-11-07T11:52:23.735400Z"
    },
    "jupyter": {
     "outputs_hidden": false
    },
    "papermill": {
     "duration": 0.024025,
     "end_time": "2024-11-07T11:52:23.738046",
     "exception": false,
     "start_time": "2024-11-07T11:52:23.714021",
     "status": "completed"
    },
    "tags": []
   },
   "outputs": [],
   "source": [
    "class CharRNN(torch.nn.Module):\n",
    "    def __init__(self, vocab_size, embed_dim, hidden_dim):\n",
    "        super(CharRNN, self).__init__()\n",
    "        \n",
    "        self.embedding = torch.nn.Embedding(num_embeddings=vocab_size,\n",
    "                                            embedding_dim=embed_dim,\n",
    "                                            padding_idx=char_to_id['<pad>'])\n",
    "        \n",
    "        self.rnn_layer1 = torch.nn.LSTM(input_size=embed_dim,\n",
    "                                        hidden_size=hidden_dim,\n",
    "                                        batch_first=True)\n",
    "        \n",
    "        self.rnn_layer2 = torch.nn.LSTM(input_size=hidden_dim,\n",
    "                                        hidden_size=hidden_dim,\n",
    "                                        batch_first=True)\n",
    "        \n",
    "        self.linear = torch.nn.Sequential(torch.nn.Linear(in_features=hidden_dim,\n",
    "                                                          out_features=hidden_dim),\n",
    "                                          torch.nn.ReLU(),\n",
    "                                          torch.nn.Linear(in_features=hidden_dim,\n",
    "                                                          out_features=vocab_size))\n",
    "        \n",
    "    def forward(self, batch_x, batch_x_lens):\n",
    "        return self.encoder(batch_x, batch_x_lens)\n",
    "    \n",
    "    # The forward pass of the model\n",
    "    def encoder(self, batch_x, batch_x_lens):\n",
    "        batch_x = self.embedding(batch_x)\n",
    "        \n",
    "        batch_x = torch.nn.utils.rnn.pack_padded_sequence(batch_x,\n",
    "                                                          batch_x_lens,\n",
    "                                                          batch_first=True,\n",
    "                                                          enforce_sorted=False)\n",
    "        \n",
    "        batch_x, _ = self.rnn_layer1(batch_x)\n",
    "        batch_x, _ = self.rnn_layer2(batch_x)\n",
    "        \n",
    "        batch_x, _ = torch.nn.utils.rnn.pad_packed_sequence(batch_x,\n",
    "                                                            batch_first=True)\n",
    "        \n",
    "        batch_x = self.linear(batch_x)\n",
    "        \n",
    "        return batch_x\n",
    "    \n",
    "    def generator(self, start_char, max_len=200):\n",
    "        char_list = [char_to_id[c] for c in start_char]\n",
    "        \n",
    "        next_char = None\n",
    "        \n",
    "        while len(char_list) < max_len: \n",
    "            \n",
    "            # Write your code here \n",
    "            # Pack the char_list to tensor\n",
    "            # Input the tensor to the embedding layer, LSTM layers, linear respectively\n",
    "            batch_x = torch.tensor(char_list).unsqueeze(0)\n",
    "            batch_x_lens = torch.LongTensor([len(char_list)])\n",
    "            \n",
    "            y = self.forward(batch_x, batch_x_lens)\n",
    "            \n",
    "            # Use argmax function to get the next token prediction\n",
    "            next_char = torch.argmax(y, -1)[0, -1].item()\n",
    "            \n",
    "            if next_char == char_to_id['<eos>']:\n",
    "                break\n",
    "            \n",
    "            char_list.append(next_char)\n",
    "            \n",
    "        return [id_to_char[ch_id] for ch_id in char_list]"
   ]
  },
  {
   "cell_type": "code",
   "execution_count": 15,
   "id": "3dd27418",
   "metadata": {
    "_cell_guid": "eb79d698-4d5f-4473-8063-75f354c6b915",
    "_uuid": "35305f59-e50e-48f1-a68d-934a4746d97b",
    "collapsed": false,
    "execution": {
     "iopub.execute_input": "2024-11-07T11:52:23.756587Z",
     "iopub.status.busy": "2024-11-07T11:52:23.756031Z",
     "iopub.status.idle": "2024-11-07T11:52:23.814959Z",
     "shell.execute_reply": "2024-11-07T11:52:23.814076Z"
    },
    "jupyter": {
     "outputs_hidden": false
    },
    "papermill": {
     "duration": 0.070881,
     "end_time": "2024-11-07T11:52:23.817550",
     "exception": false,
     "start_time": "2024-11-07T11:52:23.746669",
     "status": "completed"
    },
    "tags": []
   },
   "outputs": [],
   "source": [
    "torch.manual_seed(2)\n",
    "\n",
    "# Write your code here. Specify a device (cuda or cpu)\n",
    "device = torch.device('cuda')\n",
    "model = CharRNN(vocab_size,\n",
    "                embed_dim,\n",
    "                hidden_dim)"
   ]
  },
  {
   "cell_type": "code",
   "execution_count": 16,
   "id": "924da988",
   "metadata": {
    "_cell_guid": "b9c7a55b-7000-4e50-8c55-54f9305dd020",
    "_uuid": "4732f89d-7aba-4224-a036-7438c2b79011",
    "collapsed": false,
    "execution": {
     "iopub.execute_input": "2024-11-07T11:52:23.838510Z",
     "iopub.status.busy": "2024-11-07T11:52:23.837958Z",
     "iopub.status.idle": "2024-11-07T11:52:25.048334Z",
     "shell.execute_reply": "2024-11-07T11:52:25.047393Z"
    },
    "jupyter": {
     "outputs_hidden": false
    },
    "papermill": {
     "duration": 1.223256,
     "end_time": "2024-11-07T11:52:25.050701",
     "exception": false,
     "start_time": "2024-11-07T11:52:23.827445",
     "status": "completed"
    },
    "tags": []
   },
   "outputs": [],
   "source": [
    "# Write your code here. Cross-entropy loss function. The loss function should ignore <pad>\n",
    "criterion = torch.nn.CrossEntropyLoss(ignore_index=char_to_id['<pad>'])\n",
    "\n",
    "# Write your code here. Use Adam or AdamW for Optimizer\n",
    "optimizer = torch.optim.Adam(model.parameters(), lr=lr)"
   ]
  },
  {
   "cell_type": "markdown",
   "id": "77d8230e",
   "metadata": {
    "_cell_guid": "b7dcb5f2-b240-47f5-a9c5-9ad3bf565a12",
    "_uuid": "5fe919c7-bb29-472d-bbeb-38bc6f16c1a6",
    "papermill": {
     "duration": 0.008379,
     "end_time": "2024-11-07T11:52:25.068149",
     "exception": false,
     "start_time": "2024-11-07T11:52:25.059770",
     "status": "completed"
    },
    "tags": []
   },
   "source": [
    "# Training\n",
    "1. The outer `for` loop controls the `epoch`\n",
    "    1. The inner `for` loop uses `data_loader` to retrieve batches.\n",
    "        1. Pass the batch to the `model` for training.\n",
    "        2. Compare the predicted results `batch_pred_y` with the true labels `batch_y` using Cross Entropy to calculate the loss `loss`\n",
    "        3. Use `loss.backward` to automatically compute the gradients.\n",
    "        4. Use `torch.nn.utils.clip_grad_value_` to limit the gradient values between `-grad_clip` &lt; and &lt; `grad_clip`.\n",
    "        5. Use `optimizer.step()` to update the model (backpropagation).\n",
    "2.  After every `1000` batches, output the current loss to monitor whether it is converging."
   ]
  },
  {
   "cell_type": "code",
   "execution_count": 17,
   "id": "8edaf5d6",
   "metadata": {
    "_cell_guid": "21594436-0971-4176-924f-79530dcee92a",
    "_uuid": "86e35bab-116a-4b94-905c-cba09d236954",
    "collapsed": false,
    "execution": {
     "iopub.execute_input": "2024-11-07T11:52:25.086822Z",
     "iopub.status.busy": "2024-11-07T11:52:25.086336Z",
     "iopub.status.idle": "2024-11-07T12:16:33.917276Z",
     "shell.execute_reply": "2024-11-07T12:16:33.916420Z"
    },
    "jupyter": {
     "outputs_hidden": false
    },
    "papermill": {
     "duration": 1450.646227,
     "end_time": "2024-11-07T12:16:35.722852",
     "exception": false,
     "start_time": "2024-11-07T11:52:25.076625",
     "status": "completed"
    },
    "tags": []
   },
   "outputs": [
    {
     "name": "stderr",
     "output_type": "stream",
     "text": [
      "Train epoch 1: 100%|██████████| 37020/37020 [10:58<00:00, 56.24it/s, loss=0.417]\n",
      "Validation epoch 1: 100%|██████████| 4114/4114 [01:07<00:00, 61.29it/s]\n"
     ]
    },
    {
     "name": "stdout",
     "output_type": "stream",
     "text": [
      "Epoch 1, Training Loss: 0.4986862384430915, Evaluation Accuracy: 0.5554529914529914\n"
     ]
    },
    {
     "name": "stderr",
     "output_type": "stream",
     "text": [
      "Train epoch 2: 100%|██████████| 37020/37020 [10:55<00:00, 56.46it/s, loss=0.233]\n",
      "Validation epoch 2: 100%|██████████| 4114/4114 [01:07<00:00, 61.34it/s]\n"
     ]
    },
    {
     "name": "stdout",
     "output_type": "stream",
     "text": [
      "Epoch 2, Training Loss: 0.278812405767512, Evaluation Accuracy: 0.666343779677113\n"
     ]
    },
    {
     "data": {
      "image/png": "[encoded data removed]",
      "text/plain": [
       "<Figure size 1200x500 with 2 Axes>"
      ]
     },
     "metadata": {},
     "output_type": "display_data"
    }
   ],
   "source": [
    "import matplotlib.pyplot as plt\n",
    "from tqdm import tqdm\n",
    "from copy import deepcopy\n",
    "\n",
    "model = model.to(device)\n",
    "\n",
    "# Initialize lists to store the training loss and evaluation accuracy\n",
    "training_losses = []\n",
    "evaluation_accuracies = []\n",
    "\n",
    "model = model.to(device)\n",
    "\n",
    "for epoch in range(1, epochs + 1):\n",
    "    # Training Phase\n",
    "    model.train()\n",
    "    bar = tqdm(dl_train, desc=f\"Train epoch {epoch}\")\n",
    "    epoch_loss = 0  # Accumulate loss for the epoch\n",
    "    \n",
    "    for batch_x, batch_y, batch_x_lens, batch_y_lens in bar:\n",
    "        batch_x, batch_y = batch_x.to(device), batch_y.to(device)\n",
    "        \n",
    "        # Clear the gradient\n",
    "        optimizer.zero_grad()\n",
    "        batch_pred_y = model(batch_x, batch_x_lens)\n",
    "        \n",
    "        # Calculate loss and backpropagate\n",
    "        loss = criterion(batch_pred_y.permute(0, 2, 1), batch_y.to(device))\n",
    "        loss.backward()\n",
    "        torch.nn.utils.clip_grad_value_(model.parameters(), grad_clip)  # Gradient clipping\n",
    "        optimizer.step()\n",
    "        \n",
    "        # Accumulate loss and update progress bar\n",
    "        epoch_loss += loss.item()\n",
    "        bar.set_postfix(loss=loss.item())\n",
    "    \n",
    "    # Store average training loss for the epoch\n",
    "    avg_epoch_loss = epoch_loss / len(dl_train)\n",
    "    training_losses.append(avg_epoch_loss)\n",
    "    \n",
    "    # Evaluation Phase\n",
    "    model.eval()\n",
    "    bar = tqdm(dl_eval, desc=f\"Validation epoch {epoch}\")\n",
    "    matched = 0\n",
    "    total = 0\n",
    "    \n",
    "    for batch_x, batch_y, batch_x_lens, batch_y_lens in bar:\n",
    "        with torch.no_grad():\n",
    "            batch_x, batch_y = batch_x.to(device), batch_y.to(device)\n",
    "            batch_pred_y = model(batch_x, batch_x_lens)\n",
    "            predicted_tokens = torch.argmax(batch_pred_y, dim=-1)\n",
    "            \n",
    "            # Calculate exact match (EM)\n",
    "            for idx, (pred, truth) in enumerate(zip(predicted_tokens, batch_y)):\n",
    "                start = 0\n",
    "                for token in truth.tolist():\n",
    "                    if token != char_to_id['<pad>']: break\n",
    "                    start += 1\n",
    "                end = batch_y_lens[idx].item()\n",
    "                if torch.equal(pred[start:end], truth[start:end]):\n",
    "                    matched += 1\n",
    "                total += 1\n",
    "    \n",
    "    # Store evaluation accuracy\n",
    "    eval_accuracy = matched / total\n",
    "    evaluation_accuracies.append(eval_accuracy)\n",
    "    \n",
    "    print(f\"Epoch {epoch}, Training Loss: {avg_epoch_loss}, Evaluation Accuracy: {eval_accuracy}\")\n",
    "\n",
    "# Plot training loss and evaluation accuracy\n",
    "plt.figure(figsize=(12, 5))\n",
    "\n",
    "plt.subplot(1, 2, 1)\n",
    "plt.plot(training_losses, label=\"Training Loss\")\n",
    "plt.xlabel(\"Epoch\")\n",
    "plt.ylabel(\"Loss\")\n",
    "plt.title(\"Training Loss over Epochs\")\n",
    "plt.legend()\n",
    "\n",
    "plt.subplot(1, 2, 2)\n",
    "plt.plot(evaluation_accuracies, label=\"Evaluation Accuracy\")\n",
    "plt.xlabel(\"Epoch\")\n",
    "plt.ylabel(\"Accuracy\")\n",
    "plt.title(\"Evaluation Accuracy over Epochs\")\n",
    "plt.legend()\n",
    "\n",
    "plt.show()"
   ]
  },
  {
   "cell_type": "markdown",
   "id": "34869f47",
   "metadata": {
    "_cell_guid": "dbbfdb90-6a66-4c79-be6b-9829bb16072d",
    "_uuid": "cbb57054-aed4-4cbc-b70c-aaac6f68a288",
    "papermill": {
     "duration": 7.100051,
     "end_time": "2024-11-07T12:16:49.822901",
     "exception": false,
     "start_time": "2024-11-07T12:16:42.722850",
     "status": "completed"
    },
    "tags": []
   },
   "source": [
    "# Generation\n",
    "Use `model.generator` and provide an initial character to automatically generate a sequence."
   ]
  },
  {
   "cell_type": "code",
   "execution_count": 18,
   "id": "73c1bb4a",
   "metadata": {
    "_cell_guid": "ee642094-7020-421d-a02f-a6cd920fb81b",
    "_uuid": "e2ca3766-2da0-4b60-ba4d-309e045f7d41",
    "collapsed": false,
    "execution": {
     "iopub.execute_input": "2024-11-07T12:17:04.133292Z",
     "iopub.status.busy": "2024-11-07T12:17:04.132943Z",
     "iopub.status.idle": "2024-11-07T12:17:04.204459Z",
     "shell.execute_reply": "2024-11-07T12:17:04.203440Z"
    },
    "jupyter": {
     "outputs_hidden": false
    },
    "papermill": {
     "duration": 7.267683,
     "end_time": "2024-11-07T12:17:04.206766",
     "exception": false,
     "start_time": "2024-11-07T12:16:56.939083",
     "status": "completed"
    },
    "tags": []
   },
   "outputs": [
    {
     "name": "stdout",
     "output_type": "stream",
     "text": [
      "1+9*8=79\n"
     ]
    }
   ],
   "source": [
    "model = model.to(\"cpu\")\n",
    "print(\"\".join(model.generator('1+9*8=')))"
   ]
  }
 ],
 "metadata": {
  "kaggle": {
   "accelerator": "gpu",
   "dataSources": [],
   "dockerImageVersionId": 30786,
   "isGpuEnabled": true,
   "isInternetEnabled": true,
   "language": "python",
   "sourceType": "notebook"
  },
  "kernelspec": {
   "display_name": "Python 3",
   "language": "python",
   "name": "python3"
  },
  "language_info": {
   "codemirror_mode": {
    "name": "ipython",
    "version": 3
   },
   "file_extension": ".py",
   "mimetype": "text/x-python",
   "name": "python",
   "nbconvert_exporter": "python",
   "pygments_lexer": "ipython3",
   "version": "3.10.14"
  },
  "papermill": {
   "default_parameters": {},
   "duration": 1578.1612,
   "end_time": "2024-11-07T12:17:14.894282",
   "environment_variables": {},
   "exception": null,
   "input_path": "__notebook__.ipynb",
   "output_path": "__notebook__.ipynb",
   "parameters": {},
   "start_time": "2024-11-07T11:50:56.733082",
   "version": "2.6.0"
  }
 },
 "nbformat": 4,
 "nbformat_minor": 5
}
