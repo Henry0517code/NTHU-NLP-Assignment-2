{
 "cells": [
  {
   "cell_type": "markdown",
   "id": "3ac6c76e",
   "metadata": {
    "papermill": {
     "duration": 0.00973,
     "end_time": "2024-11-02T04:37:40.763039",
     "exception": false,
     "start_time": "2024-11-02T04:37:40.753309",
     "status": "completed"
    },
    "tags": []
   },
   "source": [
    "# LSTM-arithmetic"
   ]
  },
  {
   "cell_type": "markdown",
   "id": "e46a4239",
   "metadata": {
    "papermill": {
     "duration": 0.007889,
     "end_time": "2024-11-02T04:37:40.779510",
     "exception": false,
     "start_time": "2024-11-02T04:37:40.771621",
     "status": "completed"
    },
    "tags": []
   },
   "source": [
    "## Dataset"
   ]
  },
  {
   "cell_type": "code",
   "execution_count": 1,
   "id": "6cf7592c",
   "metadata": {
    "execution": {
     "iopub.execute_input": "2024-11-02T04:37:40.798080Z",
     "iopub.status.busy": "2024-11-02T04:37:40.797700Z",
     "iopub.status.idle": "2024-11-02T04:37:59.513102Z",
     "shell.execute_reply": "2024-11-02T04:37:59.511887Z"
    },
    "papermill": {
     "duration": 18.728042,
     "end_time": "2024-11-02T04:37:59.515627",
     "exception": false,
     "start_time": "2024-11-02T04:37:40.787585",
     "status": "completed"
    },
    "tags": []
   },
   "outputs": [],
   "source": [
    "%%capture\n",
    "!pip install gdown\n",
    "!gdown 'https://drive.google.com/uc?id=1cMuL3hF9jefka9RyF4gEBIGGeFGZYHE-'\n",
    "!unzip arithmetic_NLP.zip"
   ]
  },
  {
   "cell_type": "code",
   "execution_count": 2,
   "id": "27ce2df2",
   "metadata": {
    "execution": {
     "iopub.execute_input": "2024-11-02T04:37:59.532793Z",
     "iopub.status.busy": "2024-11-02T04:37:59.532454Z",
     "iopub.status.idle": "2024-11-02T04:38:38.320023Z",
     "shell.execute_reply": "2024-11-02T04:38:38.318897Z"
    },
    "papermill": {
     "duration": 38.798974,
     "end_time": "2024-11-02T04:38:38.322426",
     "exception": false,
     "start_time": "2024-11-02T04:37:59.523452",
     "status": "completed"
    },
    "tags": []
   },
   "outputs": [],
   "source": [
    "%%capture\n",
    "!pip install seaborn\n",
    "!pip install opencc-python-reimplemented\n",
    "!pip install -U scikit-learn"
   ]
  },
  {
   "cell_type": "code",
   "execution_count": 3,
   "id": "fabf29dd",
   "metadata": {
    "execution": {
     "iopub.execute_input": "2024-11-02T04:38:38.340087Z",
     "iopub.status.busy": "2024-11-02T04:38:38.339469Z",
     "iopub.status.idle": "2024-11-02T04:38:43.876539Z",
     "shell.execute_reply": "2024-11-02T04:38:43.875510Z"
    },
    "papermill": {
     "duration": 5.548377,
     "end_time": "2024-11-02T04:38:43.878916",
     "exception": false,
     "start_time": "2024-11-02T04:38:38.330539",
     "status": "completed"
    },
    "tags": []
   },
   "outputs": [],
   "source": [
    "import numpy as np\n",
    "import pandas as pd\n",
    "import torch\n",
    "import torch.nn\n",
    "import torch.nn.utils.rnn\n",
    "import torch.utils.data\n",
    "import matplotlib.pyplot as plt\n",
    "import seaborn as sns\n",
    "import opencc\n",
    "import os\n",
    "from sklearn.model_selection import train_test_split\n",
    "\n",
    "data_path = '.'"
   ]
  },
  {
   "cell_type": "code",
   "execution_count": 4,
   "id": "4e0e0bb0",
   "metadata": {
    "execution": {
     "iopub.execute_input": "2024-11-02T04:38:43.896531Z",
     "iopub.status.busy": "2024-11-02T04:38:43.896045Z",
     "iopub.status.idle": "2024-11-02T04:38:45.908212Z",
     "shell.execute_reply": "2024-11-02T04:38:45.907320Z"
    },
    "papermill": {
     "duration": 2.023298,
     "end_time": "2024-11-02T04:38:45.910354",
     "exception": false,
     "start_time": "2024-11-02T04:38:43.887056",
     "status": "completed"
    },
    "tags": []
   },
   "outputs": [
    {
     "data": {
      "text/html": [
       "<div>\n",
       "<style scoped>\n",
       "    .dataframe tbody tr th:only-of-type {\n",
       "        vertical-align: middle;\n",
       "    }\n",
       "\n",
       "    .dataframe tbody tr th {\n",
       "        vertical-align: top;\n",
       "    }\n",
       "\n",
       "    .dataframe thead th {\n",
       "        text-align: right;\n",
       "    }\n",
       "</style>\n",
       "<table border=\"1\" class=\"dataframe\">\n",
       "  <thead>\n",
       "    <tr style=\"text-align: right;\">\n",
       "      <th></th>\n",
       "      <th>src</th>\n",
       "      <th>tgt</th>\n",
       "    </tr>\n",
       "  </thead>\n",
       "  <tbody>\n",
       "    <tr>\n",
       "      <th>0</th>\n",
       "      <td>14*(43+20)=</td>\n",
       "      <td>882</td>\n",
       "    </tr>\n",
       "    <tr>\n",
       "      <th>1</th>\n",
       "      <td>(6+1)*5=</td>\n",
       "      <td>35</td>\n",
       "    </tr>\n",
       "    <tr>\n",
       "      <th>2</th>\n",
       "      <td>13+32+29=</td>\n",
       "      <td>74</td>\n",
       "    </tr>\n",
       "    <tr>\n",
       "      <th>3</th>\n",
       "      <td>31*(3-11)=</td>\n",
       "      <td>-248</td>\n",
       "    </tr>\n",
       "    <tr>\n",
       "      <th>4</th>\n",
       "      <td>24*49+1=</td>\n",
       "      <td>1177</td>\n",
       "    </tr>\n",
       "  </tbody>\n",
       "</table>\n",
       "</div>"
      ],
      "text/plain": [
       "           src   tgt\n",
       "0  14*(43+20)=   882\n",
       "1     (6+1)*5=    35\n",
       "2    13+32+29=    74\n",
       "3   31*(3-11)=  -248\n",
       "4     24*49+1=  1177"
      ]
     },
     "execution_count": 4,
     "metadata": {},
     "output_type": "execute_result"
    }
   ],
   "source": [
    "df_train = pd.read_csv(os.path.join(data_path, 'arithmetic_train.csv'), index_col=0).reset_index(drop=True)\n",
    "df_eval = pd.read_csv(os.path.join(data_path, 'arithmetic_eval.csv'), index_col=0).reset_index(drop=True)\n",
    "df_train.head()"
   ]
  },
  {
   "cell_type": "code",
   "execution_count": 5,
   "id": "f4af97c5",
   "metadata": {
    "execution": {
     "iopub.execute_input": "2024-11-02T04:38:45.927416Z",
     "iopub.status.busy": "2024-11-02T04:38:45.927069Z",
     "iopub.status.idle": "2024-11-02T04:38:48.887922Z",
     "shell.execute_reply": "2024-11-02T04:38:48.887067Z"
    },
    "papermill": {
     "duration": 2.972089,
     "end_time": "2024-11-02T04:38:48.890302",
     "exception": false,
     "start_time": "2024-11-02T04:38:45.918213",
     "status": "completed"
    },
    "tags": []
   },
   "outputs": [],
   "source": [
    "# TEST: TRAIN ON SHORT\n",
    "original_sizes = [len(df_train), len(df_eval)]\n",
    "\n",
    "df = pd.concat([df_train, df_eval], ignore_index=True)\n",
    "mask = df['tgt'].astype(str).str.len() > 3\n",
    "\n",
    "df_train = df[~mask].reset_index(drop=True)\n",
    "df_eval = df[mask].reset_index(drop=True)\n",
    "\n",
    "new_sizes = [len(df_train), len(df_eval)]"
   ]
  },
  {
   "cell_type": "code",
   "execution_count": 6,
   "id": "69d74eb7",
   "metadata": {
    "execution": {
     "iopub.execute_input": "2024-11-02T04:38:48.908297Z",
     "iopub.status.busy": "2024-11-02T04:38:48.908005Z",
     "iopub.status.idle": "2024-11-02T04:38:49.198568Z",
     "shell.execute_reply": "2024-11-02T04:38:49.197579Z"
    },
    "papermill": {
     "duration": 0.301783,
     "end_time": "2024-11-02T04:38:49.200574",
     "exception": false,
     "start_time": "2024-11-02T04:38:48.898791",
     "status": "completed"
    },
    "tags": []
   },
   "outputs": [
    {
     "data": {
      "image/png": "[encoded data removed]",
      "text/plain": [
       "<Figure size 800x500 with 1 Axes>"
      ]
     },
     "metadata": {},
     "output_type": "display_data"
    }
   ],
   "source": [
    "# Plotting the size changes before and after the split\n",
    "plt.figure(figsize=(8, 5))\n",
    "plt.bar(['Original Train', 'Original Eval'], original_sizes, label='Original Dataset')\n",
    "plt.bar(['New Train', 'New Eval'], new_sizes, label='New Dataset', alpha=0.7)\n",
    "plt.xlabel('Dataset Versions')\n",
    "plt.ylabel('Size')\n",
    "plt.title('Size Change in Train and Eval Datasets')\n",
    "plt.legend()\n",
    "plt.show()"
   ]
  },
  {
   "cell_type": "code",
   "execution_count": 7,
   "id": "b7989041",
   "metadata": {
    "execution": {
     "iopub.execute_input": "2024-11-02T04:38:49.218804Z",
     "iopub.status.busy": "2024-11-02T04:38:49.218147Z",
     "iopub.status.idle": "2024-11-02T04:38:52.324869Z",
     "shell.execute_reply": "2024-11-02T04:38:52.323821Z"
    },
    "papermill": {
     "duration": 3.118368,
     "end_time": "2024-11-02T04:38:52.327369",
     "exception": false,
     "start_time": "2024-11-02T04:38:49.209001",
     "status": "completed"
    },
    "tags": []
   },
   "outputs": [],
   "source": [
    "# transform the input data to string\n",
    "df_train['tgt'] = df_train['tgt'].apply(lambda x: str(x))\n",
    "df_train['src'] = df_train['src'].add(df_train['tgt'])\n",
    "df_train['len'] = df_train['src'].apply(lambda x: len(x))\n",
    "\n",
    "df_eval['tgt'] = df_eval['tgt'].apply(lambda x: str(x))\n",
    "df_eval['src'] = df_eval['src'].add(df_eval['tgt'])\n",
    "df_eval['len'] = df_eval['src'].apply(lambda x: len(x))"
   ]
  },
  {
   "cell_type": "markdown",
   "id": "7dddd25d",
   "metadata": {
    "papermill": {
     "duration": 0.008487,
     "end_time": "2024-11-02T04:38:52.344350",
     "exception": false,
     "start_time": "2024-11-02T04:38:52.335863",
     "status": "completed"
    },
    "tags": []
   },
   "source": [
    "# Build Dictionary\n",
    " - The model cannot perform calculations directly with plain text.\n",
    " - Convert all text (numbers/symbols) into numerical representations.\n",
    " - Special tokens\n",
    "    - '&lt;pad&gt;'\n",
    "        - Each sentence within a batch may have different lengths.\n",
    "        - The length is padded with '&lt;pad&gt;' to match the longest sentence in the batch.\n",
    "    - '&lt;eos&gt;'\n",
    "        - Specifies the end of the generated sequence.\n",
    "        - Without '&lt;eos&gt;', the model will not know when to stop generating."
   ]
  },
  {
   "cell_type": "code",
   "execution_count": 8,
   "id": "e647ae6b",
   "metadata": {
    "execution": {
     "iopub.execute_input": "2024-11-02T04:38:52.362110Z",
     "iopub.status.busy": "2024-11-02T04:38:52.361745Z",
     "iopub.status.idle": "2024-11-02T04:38:52.368816Z",
     "shell.execute_reply": "2024-11-02T04:38:52.367945Z"
    },
    "papermill": {
     "duration": 0.018124,
     "end_time": "2024-11-02T04:38:52.370729",
     "exception": false,
     "start_time": "2024-11-02T04:38:52.352605",
     "status": "completed"
    },
    "tags": []
   },
   "outputs": [
    {
     "name": "stdout",
     "output_type": "stream",
     "text": [
      "Vocab size 19\n"
     ]
    }
   ],
   "source": [
    "char_to_id = {}\n",
    "id_to_char = {}\n",
    "\n",
    "# write your code here\n",
    "# Build a dictionary and give every token in the train dataset an id\n",
    "# The dictionary should contain <eos> and <pad>\n",
    "# char_to_id is to convert charactors to ids, while id_to_char is the opposite\n",
    "\n",
    "numbers = [str(i) for i in range(0, 10)]\n",
    "operators = ['+', '-', '*', '/', '(', ')', '=']\n",
    "special_tokens = ['<pad>', '<eos>']\n",
    "\n",
    "for idx, token in enumerate(numbers + operators + special_tokens):\n",
    "    char_to_id[token] = idx\n",
    "    id_to_char[idx] = token\n",
    "\n",
    "vocab_size = len(char_to_id)\n",
    "print('Vocab size {}'.format(vocab_size))"
   ]
  },
  {
   "cell_type": "markdown",
   "id": "87cc432c",
   "metadata": {
    "papermill": {
     "duration": 0.007871,
     "end_time": "2024-11-02T04:38:52.386719",
     "exception": false,
     "start_time": "2024-11-02T04:38:52.378848",
     "status": "completed"
    },
    "tags": []
   },
   "source": [
    "# Data Preprocessing\n",
    " - The data is processed into the format required for the model's input and output.\n",
    " - Example: 1+2-3=0\n",
    "     - Model input: 1 + 2 - 3 = 0\n",
    "     - Model output: / / / / / 0 &lt;eos&gt;  (the '/' can be replaced with &lt;pad&gt;)\n",
    "     - The key for the model's output is that the model does not need to predict the next character of the previous part. What matters is that once the model sees '=', it should start generating the answer, which is '0'. After generating the answer, it should also generate&lt;eos&gt;\n"
   ]
  },
  {
   "cell_type": "code",
   "execution_count": 9,
   "id": "959bfbcc",
   "metadata": {
    "execution": {
     "iopub.execute_input": "2024-11-02T04:38:52.404487Z",
     "iopub.status.busy": "2024-11-02T04:38:52.403977Z",
     "iopub.status.idle": "2024-11-02T04:38:52.409299Z",
     "shell.execute_reply": "2024-11-02T04:38:52.408445Z"
    },
    "papermill": {
     "duration": 0.016382,
     "end_time": "2024-11-02T04:38:52.411195",
     "exception": false,
     "start_time": "2024-11-02T04:38:52.394813",
     "status": "completed"
    },
    "tags": []
   },
   "outputs": [],
   "source": [
    "# Write your code here\n",
    "def create_char_ids(src: str):\n",
    "    return [char_to_id[c] for c in (list(src) + ['<eos>'])]\n",
    "\n",
    "def create_label_ids(char_ids: list):\n",
    "    idx = char_ids.index(char_to_id['='])\n",
    "    return [char_to_id['<pad>']] * (idx + 1) + char_ids[idx + 1:]"
   ]
  },
  {
   "cell_type": "code",
   "execution_count": 10,
   "id": "e977e3d5",
   "metadata": {
    "execution": {
     "iopub.execute_input": "2024-11-02T04:38:52.428885Z",
     "iopub.status.busy": "2024-11-02T04:38:52.428189Z",
     "iopub.status.idle": "2024-11-02T04:39:03.505613Z",
     "shell.execute_reply": "2024-11-02T04:39:03.504682Z"
    },
    "papermill": {
     "duration": 11.088697,
     "end_time": "2024-11-02T04:39:03.507994",
     "exception": false,
     "start_time": "2024-11-02T04:38:52.419297",
     "status": "completed"
    },
    "tags": []
   },
   "outputs": [
    {
     "data": {
      "text/html": [
       "<div>\n",
       "<style scoped>\n",
       "    .dataframe tbody tr th:only-of-type {\n",
       "        vertical-align: middle;\n",
       "    }\n",
       "\n",
       "    .dataframe tbody tr th {\n",
       "        vertical-align: top;\n",
       "    }\n",
       "\n",
       "    .dataframe thead th {\n",
       "        text-align: right;\n",
       "    }\n",
       "</style>\n",
       "<table border=\"1\" class=\"dataframe\">\n",
       "  <thead>\n",
       "    <tr style=\"text-align: right;\">\n",
       "      <th></th>\n",
       "      <th>src</th>\n",
       "      <th>tgt</th>\n",
       "      <th>len</th>\n",
       "      <th>char_id_list</th>\n",
       "      <th>label_id_list</th>\n",
       "    </tr>\n",
       "  </thead>\n",
       "  <tbody>\n",
       "    <tr>\n",
       "      <th>0</th>\n",
       "      <td>14*(43+20)=882</td>\n",
       "      <td>882</td>\n",
       "      <td>14</td>\n",
       "      <td>[1, 4, 12, 14, 4, 3, 10, 2, 0, 15, 16, 8, 8, 2...</td>\n",
       "      <td>[17, 17, 17, 17, 17, 17, 17, 17, 17, 17, 17, 8...</td>\n",
       "    </tr>\n",
       "    <tr>\n",
       "      <th>1</th>\n",
       "      <td>(6+1)*5=35</td>\n",
       "      <td>35</td>\n",
       "      <td>10</td>\n",
       "      <td>[14, 6, 10, 1, 15, 12, 5, 16, 3, 5, 18]</td>\n",
       "      <td>[17, 17, 17, 17, 17, 17, 17, 17, 3, 5, 18]</td>\n",
       "    </tr>\n",
       "    <tr>\n",
       "      <th>2</th>\n",
       "      <td>13+32+29=74</td>\n",
       "      <td>74</td>\n",
       "      <td>11</td>\n",
       "      <td>[1, 3, 10, 3, 2, 10, 2, 9, 16, 7, 4, 18]</td>\n",
       "      <td>[17, 17, 17, 17, 17, 17, 17, 17, 17, 7, 4, 18]</td>\n",
       "    </tr>\n",
       "    <tr>\n",
       "      <th>3</th>\n",
       "      <td>3+(25*25)=628</td>\n",
       "      <td>628</td>\n",
       "      <td>13</td>\n",
       "      <td>[3, 10, 14, 2, 5, 12, 2, 5, 15, 16, 6, 2, 8, 18]</td>\n",
       "      <td>[17, 17, 17, 17, 17, 17, 17, 17, 17, 17, 6, 2,...</td>\n",
       "    </tr>\n",
       "    <tr>\n",
       "      <th>4</th>\n",
       "      <td>8*(30+10)=320</td>\n",
       "      <td>320</td>\n",
       "      <td>13</td>\n",
       "      <td>[8, 12, 14, 3, 0, 10, 1, 0, 15, 16, 3, 2, 0, 18]</td>\n",
       "      <td>[17, 17, 17, 17, 17, 17, 17, 17, 17, 17, 3, 2,...</td>\n",
       "    </tr>\n",
       "    <tr>\n",
       "      <th>...</th>\n",
       "      <td>...</td>\n",
       "      <td>...</td>\n",
       "      <td>...</td>\n",
       "      <td>...</td>\n",
       "      <td>...</td>\n",
       "    </tr>\n",
       "    <tr>\n",
       "      <th>1932398</th>\n",
       "      <td>27+(49-23)=53</td>\n",
       "      <td>53</td>\n",
       "      <td>13</td>\n",
       "      <td>[2, 7, 10, 14, 4, 9, 11, 2, 3, 15, 16, 5, 3, 18]</td>\n",
       "      <td>[17, 17, 17, 17, 17, 17, 17, 17, 17, 17, 17, 5...</td>\n",
       "    </tr>\n",
       "    <tr>\n",
       "      <th>1932399</th>\n",
       "      <td>45+(21*28)=633</td>\n",
       "      <td>633</td>\n",
       "      <td>14</td>\n",
       "      <td>[4, 5, 10, 14, 2, 1, 12, 2, 8, 15, 16, 6, 3, 3...</td>\n",
       "      <td>[17, 17, 17, 17, 17, 17, 17, 17, 17, 17, 17, 6...</td>\n",
       "    </tr>\n",
       "    <tr>\n",
       "      <th>1932400</th>\n",
       "      <td>(2+49)*6=306</td>\n",
       "      <td>306</td>\n",
       "      <td>12</td>\n",
       "      <td>[14, 2, 10, 4, 9, 15, 12, 6, 16, 3, 0, 6, 18]</td>\n",
       "      <td>[17, 17, 17, 17, 17, 17, 17, 17, 17, 3, 0, 6, 18]</td>\n",
       "    </tr>\n",
       "    <tr>\n",
       "      <th>1932401</th>\n",
       "      <td>48-(5*27)=-87</td>\n",
       "      <td>-87</td>\n",
       "      <td>13</td>\n",
       "      <td>[4, 8, 11, 14, 5, 12, 2, 7, 15, 16, 11, 8, 7, 18]</td>\n",
       "      <td>[17, 17, 17, 17, 17, 17, 17, 17, 17, 17, 11, 8...</td>\n",
       "    </tr>\n",
       "    <tr>\n",
       "      <th>1932402</th>\n",
       "      <td>(12*37)+4=448</td>\n",
       "      <td>448</td>\n",
       "      <td>13</td>\n",
       "      <td>[14, 1, 2, 12, 3, 7, 15, 10, 4, 16, 4, 4, 8, 18]</td>\n",
       "      <td>[17, 17, 17, 17, 17, 17, 17, 17, 17, 17, 4, 4,...</td>\n",
       "    </tr>\n",
       "  </tbody>\n",
       "</table>\n",
       "<p>1932403 rows × 5 columns</p>\n",
       "</div>"
      ],
      "text/plain": [
       "                    src  tgt  len  \\\n",
       "0        14*(43+20)=882  882   14   \n",
       "1            (6+1)*5=35   35   10   \n",
       "2           13+32+29=74   74   11   \n",
       "3         3+(25*25)=628  628   13   \n",
       "4         8*(30+10)=320  320   13   \n",
       "...                 ...  ...  ...   \n",
       "1932398   27+(49-23)=53   53   13   \n",
       "1932399  45+(21*28)=633  633   14   \n",
       "1932400    (2+49)*6=306  306   12   \n",
       "1932401   48-(5*27)=-87  -87   13   \n",
       "1932402   (12*37)+4=448  448   13   \n",
       "\n",
       "                                              char_id_list  \\\n",
       "0        [1, 4, 12, 14, 4, 3, 10, 2, 0, 15, 16, 8, 8, 2...   \n",
       "1                  [14, 6, 10, 1, 15, 12, 5, 16, 3, 5, 18]   \n",
       "2                 [1, 3, 10, 3, 2, 10, 2, 9, 16, 7, 4, 18]   \n",
       "3         [3, 10, 14, 2, 5, 12, 2, 5, 15, 16, 6, 2, 8, 18]   \n",
       "4         [8, 12, 14, 3, 0, 10, 1, 0, 15, 16, 3, 2, 0, 18]   \n",
       "...                                                    ...   \n",
       "1932398   [2, 7, 10, 14, 4, 9, 11, 2, 3, 15, 16, 5, 3, 18]   \n",
       "1932399  [4, 5, 10, 14, 2, 1, 12, 2, 8, 15, 16, 6, 3, 3...   \n",
       "1932400      [14, 2, 10, 4, 9, 15, 12, 6, 16, 3, 0, 6, 18]   \n",
       "1932401  [4, 8, 11, 14, 5, 12, 2, 7, 15, 16, 11, 8, 7, 18]   \n",
       "1932402   [14, 1, 2, 12, 3, 7, 15, 10, 4, 16, 4, 4, 8, 18]   \n",
       "\n",
       "                                             label_id_list  \n",
       "0        [17, 17, 17, 17, 17, 17, 17, 17, 17, 17, 17, 8...  \n",
       "1               [17, 17, 17, 17, 17, 17, 17, 17, 3, 5, 18]  \n",
       "2           [17, 17, 17, 17, 17, 17, 17, 17, 17, 7, 4, 18]  \n",
       "3        [17, 17, 17, 17, 17, 17, 17, 17, 17, 17, 6, 2,...  \n",
       "4        [17, 17, 17, 17, 17, 17, 17, 17, 17, 17, 3, 2,...  \n",
       "...                                                    ...  \n",
       "1932398  [17, 17, 17, 17, 17, 17, 17, 17, 17, 17, 17, 5...  \n",
       "1932399  [17, 17, 17, 17, 17, 17, 17, 17, 17, 17, 17, 6...  \n",
       "1932400  [17, 17, 17, 17, 17, 17, 17, 17, 17, 3, 0, 6, 18]  \n",
       "1932401  [17, 17, 17, 17, 17, 17, 17, 17, 17, 17, 11, 8...  \n",
       "1932402  [17, 17, 17, 17, 17, 17, 17, 17, 17, 17, 4, 4,...  \n",
       "\n",
       "[1932403 rows x 5 columns]"
      ]
     },
     "execution_count": 10,
     "metadata": {},
     "output_type": "execute_result"
    }
   ],
   "source": [
    "df_train['char_id_list'] = df_train['src'].map(lambda x: create_char_ids(x))\n",
    "df_train['label_id_list'] = df_train['char_id_list'].map(lambda x: create_label_ids(x))\n",
    "df_train"
   ]
  },
  {
   "cell_type": "code",
   "execution_count": 11,
   "id": "de026d07",
   "metadata": {
    "execution": {
     "iopub.execute_input": "2024-11-02T04:39:03.526915Z",
     "iopub.status.busy": "2024-11-02T04:39:03.526582Z",
     "iopub.status.idle": "2024-11-02T04:39:07.305031Z",
     "shell.execute_reply": "2024-11-02T04:39:07.304110Z"
    },
    "papermill": {
     "duration": 3.790055,
     "end_time": "2024-11-02T04:39:07.307208",
     "exception": false,
     "start_time": "2024-11-02T04:39:03.517153",
     "status": "completed"
    },
    "tags": []
   },
   "outputs": [
    {
     "data": {
      "text/html": [
       "<div>\n",
       "<style scoped>\n",
       "    .dataframe tbody tr th:only-of-type {\n",
       "        vertical-align: middle;\n",
       "    }\n",
       "\n",
       "    .dataframe tbody tr th {\n",
       "        vertical-align: top;\n",
       "    }\n",
       "\n",
       "    .dataframe thead th {\n",
       "        text-align: right;\n",
       "    }\n",
       "</style>\n",
       "<table border=\"1\" class=\"dataframe\">\n",
       "  <thead>\n",
       "    <tr style=\"text-align: right;\">\n",
       "      <th></th>\n",
       "      <th>src</th>\n",
       "      <th>tgt</th>\n",
       "      <th>len</th>\n",
       "      <th>char_id_list</th>\n",
       "      <th>label_id_list</th>\n",
       "    </tr>\n",
       "  </thead>\n",
       "  <tbody>\n",
       "    <tr>\n",
       "      <th>0</th>\n",
       "      <td>31*(3-11)=-248</td>\n",
       "      <td>-248</td>\n",
       "      <td>14</td>\n",
       "      <td>[3, 1, 12, 14, 3, 11, 1, 1, 15, 16, 11, 2, 4, ...</td>\n",
       "      <td>[17, 17, 17, 17, 17, 17, 17, 17, 17, 17, 11, 2...</td>\n",
       "    </tr>\n",
       "    <tr>\n",
       "      <th>1</th>\n",
       "      <td>24*49+1=1177</td>\n",
       "      <td>1177</td>\n",
       "      <td>12</td>\n",
       "      <td>[2, 4, 12, 4, 9, 10, 1, 16, 1, 1, 7, 7, 18]</td>\n",
       "      <td>[17, 17, 17, 17, 17, 17, 17, 17, 1, 1, 7, 7, 18]</td>\n",
       "    </tr>\n",
       "    <tr>\n",
       "      <th>2</th>\n",
       "      <td>23-26*15=-367</td>\n",
       "      <td>-367</td>\n",
       "      <td>13</td>\n",
       "      <td>[2, 3, 11, 2, 6, 12, 1, 5, 16, 11, 3, 6, 7, 18]</td>\n",
       "      <td>[17, 17, 17, 17, 17, 17, 17, 17, 17, 11, 3, 6,...</td>\n",
       "    </tr>\n",
       "    <tr>\n",
       "      <th>3</th>\n",
       "      <td>(47-23)*42=1008</td>\n",
       "      <td>1008</td>\n",
       "      <td>15</td>\n",
       "      <td>[14, 4, 7, 11, 2, 3, 15, 12, 4, 2, 16, 1, 0, 0...</td>\n",
       "      <td>[17, 17, 17, 17, 17, 17, 17, 17, 17, 17, 17, 1...</td>\n",
       "    </tr>\n",
       "    <tr>\n",
       "      <th>4</th>\n",
       "      <td>(45+2)*25=1175</td>\n",
       "      <td>1175</td>\n",
       "      <td>14</td>\n",
       "      <td>[14, 4, 5, 10, 2, 15, 12, 2, 5, 16, 1, 1, 7, 5...</td>\n",
       "      <td>[17, 17, 17, 17, 17, 17, 17, 17, 17, 17, 1, 1,...</td>\n",
       "    </tr>\n",
       "    <tr>\n",
       "      <th>...</th>\n",
       "      <td>...</td>\n",
       "      <td>...</td>\n",
       "      <td>...</td>\n",
       "      <td>...</td>\n",
       "      <td>...</td>\n",
       "    </tr>\n",
       "    <tr>\n",
       "      <th>700092</th>\n",
       "      <td>33*(32+9)=1353</td>\n",
       "      <td>1353</td>\n",
       "      <td>14</td>\n",
       "      <td>[3, 3, 12, 14, 3, 2, 10, 9, 15, 16, 1, 3, 5, 3...</td>\n",
       "      <td>[17, 17, 17, 17, 17, 17, 17, 17, 17, 17, 1, 3,...</td>\n",
       "    </tr>\n",
       "    <tr>\n",
       "      <th>700093</th>\n",
       "      <td>45*26*24=28080</td>\n",
       "      <td>28080</td>\n",
       "      <td>14</td>\n",
       "      <td>[4, 5, 12, 2, 6, 12, 2, 4, 16, 2, 8, 0, 8, 0, 18]</td>\n",
       "      <td>[17, 17, 17, 17, 17, 17, 17, 17, 17, 2, 8, 0, ...</td>\n",
       "    </tr>\n",
       "    <tr>\n",
       "      <th>700094</th>\n",
       "      <td>14*43*23=13846</td>\n",
       "      <td>13846</td>\n",
       "      <td>14</td>\n",
       "      <td>[1, 4, 12, 4, 3, 12, 2, 3, 16, 1, 3, 8, 4, 6, 18]</td>\n",
       "      <td>[17, 17, 17, 17, 17, 17, 17, 17, 17, 1, 3, 8, ...</td>\n",
       "    </tr>\n",
       "    <tr>\n",
       "      <th>700095</th>\n",
       "      <td>30*42+16=1276</td>\n",
       "      <td>1276</td>\n",
       "      <td>13</td>\n",
       "      <td>[3, 0, 12, 4, 2, 10, 1, 6, 16, 1, 2, 7, 6, 18]</td>\n",
       "      <td>[17, 17, 17, 17, 17, 17, 17, 17, 17, 1, 2, 7, ...</td>\n",
       "    </tr>\n",
       "    <tr>\n",
       "      <th>700096</th>\n",
       "      <td>21*(10-15)=-105</td>\n",
       "      <td>-105</td>\n",
       "      <td>15</td>\n",
       "      <td>[2, 1, 12, 14, 1, 0, 11, 1, 5, 15, 16, 11, 1, ...</td>\n",
       "      <td>[17, 17, 17, 17, 17, 17, 17, 17, 17, 17, 17, 1...</td>\n",
       "    </tr>\n",
       "  </tbody>\n",
       "</table>\n",
       "<p>700097 rows × 5 columns</p>\n",
       "</div>"
      ],
      "text/plain": [
       "                    src    tgt  len  \\\n",
       "0        31*(3-11)=-248   -248   14   \n",
       "1          24*49+1=1177   1177   12   \n",
       "2         23-26*15=-367   -367   13   \n",
       "3       (47-23)*42=1008   1008   15   \n",
       "4        (45+2)*25=1175   1175   14   \n",
       "...                 ...    ...  ...   \n",
       "700092   33*(32+9)=1353   1353   14   \n",
       "700093   45*26*24=28080  28080   14   \n",
       "700094   14*43*23=13846  13846   14   \n",
       "700095    30*42+16=1276   1276   13   \n",
       "700096  21*(10-15)=-105   -105   15   \n",
       "\n",
       "                                             char_id_list  \\\n",
       "0       [3, 1, 12, 14, 3, 11, 1, 1, 15, 16, 11, 2, 4, ...   \n",
       "1             [2, 4, 12, 4, 9, 10, 1, 16, 1, 1, 7, 7, 18]   \n",
       "2         [2, 3, 11, 2, 6, 12, 1, 5, 16, 11, 3, 6, 7, 18]   \n",
       "3       [14, 4, 7, 11, 2, 3, 15, 12, 4, 2, 16, 1, 0, 0...   \n",
       "4       [14, 4, 5, 10, 2, 15, 12, 2, 5, 16, 1, 1, 7, 5...   \n",
       "...                                                   ...   \n",
       "700092  [3, 3, 12, 14, 3, 2, 10, 9, 15, 16, 1, 3, 5, 3...   \n",
       "700093  [4, 5, 12, 2, 6, 12, 2, 4, 16, 2, 8, 0, 8, 0, 18]   \n",
       "700094  [1, 4, 12, 4, 3, 12, 2, 3, 16, 1, 3, 8, 4, 6, 18]   \n",
       "700095     [3, 0, 12, 4, 2, 10, 1, 6, 16, 1, 2, 7, 6, 18]   \n",
       "700096  [2, 1, 12, 14, 1, 0, 11, 1, 5, 15, 16, 11, 1, ...   \n",
       "\n",
       "                                            label_id_list  \n",
       "0       [17, 17, 17, 17, 17, 17, 17, 17, 17, 17, 11, 2...  \n",
       "1        [17, 17, 17, 17, 17, 17, 17, 17, 1, 1, 7, 7, 18]  \n",
       "2       [17, 17, 17, 17, 17, 17, 17, 17, 17, 11, 3, 6,...  \n",
       "3       [17, 17, 17, 17, 17, 17, 17, 17, 17, 17, 17, 1...  \n",
       "4       [17, 17, 17, 17, 17, 17, 17, 17, 17, 17, 1, 1,...  \n",
       "...                                                   ...  \n",
       "700092  [17, 17, 17, 17, 17, 17, 17, 17, 17, 17, 1, 3,...  \n",
       "700093  [17, 17, 17, 17, 17, 17, 17, 17, 17, 2, 8, 0, ...  \n",
       "700094  [17, 17, 17, 17, 17, 17, 17, 17, 17, 1, 3, 8, ...  \n",
       "700095  [17, 17, 17, 17, 17, 17, 17, 17, 17, 1, 2, 7, ...  \n",
       "700096  [17, 17, 17, 17, 17, 17, 17, 17, 17, 17, 17, 1...  \n",
       "\n",
       "[700097 rows x 5 columns]"
      ]
     },
     "execution_count": 11,
     "metadata": {},
     "output_type": "execute_result"
    }
   ],
   "source": [
    "df_eval['char_id_list'] = df_eval['src'].map(lambda x: create_char_ids(x))\n",
    "df_eval['label_id_list'] = df_eval['char_id_list'].map(lambda x: create_label_ids(x))\n",
    "df_eval"
   ]
  },
  {
   "cell_type": "markdown",
   "id": "9f67d4d6",
   "metadata": {
    "papermill": {
     "duration": 0.009127,
     "end_time": "2024-11-02T04:39:07.325800",
     "exception": false,
     "start_time": "2024-11-02T04:39:07.316673",
     "status": "completed"
    },
    "tags": []
   },
   "source": [
    "# Hyper Parameters\n",
    "\n",
    "|Hyperparameter|Meaning|Value|\n",
    "|-|-|-|\n",
    "|`batch_size`|Number of data samples in a single batch|64|\n",
    "|`epochs`|Total number of epochs to train|10|\n",
    "|`embed_dim`|Dimension of the word embeddings|256|\n",
    "|`hidden_dim`|Dimension of the hidden state in each timestep of the LSTM|256|\n",
    "|`lr`|Learning Rate|0.001|\n",
    "|`grad_clip`|To prevent gradient explosion in RNNs, restrict the gradient range|1|"
   ]
  },
  {
   "cell_type": "code",
   "execution_count": 12,
   "id": "48065692",
   "metadata": {
    "execution": {
     "iopub.execute_input": "2024-11-02T04:39:07.345588Z",
     "iopub.status.busy": "2024-11-02T04:39:07.344788Z",
     "iopub.status.idle": "2024-11-02T04:39:07.349441Z",
     "shell.execute_reply": "2024-11-02T04:39:07.348613Z"
    },
    "papermill": {
     "duration": 0.016628,
     "end_time": "2024-11-02T04:39:07.351484",
     "exception": false,
     "start_time": "2024-11-02T04:39:07.334856",
     "status": "completed"
    },
    "tags": []
   },
   "outputs": [],
   "source": [
    "batch_size = 64\n",
    "epochs = 2\n",
    "embed_dim = 256\n",
    "hidden_dim = 256\n",
    "lr = 0.001\n",
    "grad_clip = 1"
   ]
  },
  {
   "cell_type": "markdown",
   "id": "b4a45383",
   "metadata": {
    "papermill": {
     "duration": 0.008549,
     "end_time": "2024-11-02T04:39:07.368942",
     "exception": false,
     "start_time": "2024-11-02T04:39:07.360393",
     "status": "completed"
    },
    "tags": []
   },
   "source": [
    "# Data Batching\n",
    "- Use `torch.utils.data.Dataset` to create a data generation tool called  `dataset`.\n",
    "- The, use `torch.utils.data.DataLoader` to randomly sample from the `dataset` and group the samples into batches."
   ]
  },
  {
   "cell_type": "code",
   "execution_count": 13,
   "id": "d44f2e03",
   "metadata": {
    "execution": {
     "iopub.execute_input": "2024-11-02T04:39:07.388213Z",
     "iopub.status.busy": "2024-11-02T04:39:07.387918Z",
     "iopub.status.idle": "2024-11-02T04:39:07.397244Z",
     "shell.execute_reply": "2024-11-02T04:39:07.396384Z"
    },
    "papermill": {
     "duration": 0.021413,
     "end_time": "2024-11-02T04:39:07.399205",
     "exception": false,
     "start_time": "2024-11-02T04:39:07.377792",
     "status": "completed"
    },
    "tags": []
   },
   "outputs": [],
   "source": [
    "class Dataset(torch.utils.data.Dataset):\n",
    "    def __init__(self, sequences):\n",
    "        self.sequences = sequences\n",
    "    \n",
    "    def __len__(self):\n",
    "        # return the amount of data\n",
    "        return len(self.sequences)\n",
    "    \n",
    "    def __getitem__(self, index):\n",
    "        # Extract the input data x and the ground truth y from the data\n",
    "        x = self.sequences.iloc[index]['char_id_list'][:-1]\n",
    "        y = self.sequences.iloc[index]['label_id_list'][1:] \n",
    "        return x, y\n",
    "\n",
    "# collate function, used to build dataloader\n",
    "def collate_fn(batch):\n",
    "    batch_x = [torch.tensor(data[0]) for data in batch]\n",
    "    batch_y = [torch.tensor(data[1]) for data in batch]\n",
    "    batch_x_lens = torch.LongTensor([len(x) for x in batch_x])\n",
    "    batch_y_lens = torch.LongTensor([len(y) for y in batch_y])\n",
    "    \n",
    "    # Pad the input sequence\n",
    "    pad_batch_x = torch.nn.utils.rnn.pad_sequence(batch_x,\n",
    "                                                  batch_first=True,\n",
    "                                                  padding_value=char_to_id['<pad>'])\n",
    "    \n",
    "    pad_batch_y = torch.nn.utils.rnn.pad_sequence(batch_y,\n",
    "                                                  batch_first=True,\n",
    "                                                  padding_value=char_to_id['<pad>'])\n",
    "    \n",
    "    return pad_batch_x, pad_batch_y, batch_x_lens, batch_y_lens"
   ]
  },
  {
   "cell_type": "code",
   "execution_count": 14,
   "id": "22c3337b",
   "metadata": {
    "execution": {
     "iopub.execute_input": "2024-11-02T04:39:07.418824Z",
     "iopub.status.busy": "2024-11-02T04:39:07.418226Z",
     "iopub.status.idle": "2024-11-02T04:39:07.422717Z",
     "shell.execute_reply": "2024-11-02T04:39:07.421747Z"
    },
    "papermill": {
     "duration": 0.016468,
     "end_time": "2024-11-02T04:39:07.424576",
     "exception": false,
     "start_time": "2024-11-02T04:39:07.408108",
     "status": "completed"
    },
    "tags": []
   },
   "outputs": [],
   "source": [
    "ds_train = Dataset(df_train)\n",
    "ds_eval = Dataset(df_eval)"
   ]
  },
  {
   "cell_type": "code",
   "execution_count": 15,
   "id": "4a9f4860",
   "metadata": {
    "execution": {
     "iopub.execute_input": "2024-11-02T04:39:07.443687Z",
     "iopub.status.busy": "2024-11-02T04:39:07.443395Z",
     "iopub.status.idle": "2024-11-02T04:39:07.448180Z",
     "shell.execute_reply": "2024-11-02T04:39:07.447349Z"
    },
    "papermill": {
     "duration": 0.016673,
     "end_time": "2024-11-02T04:39:07.450013",
     "exception": false,
     "start_time": "2024-11-02T04:39:07.433340",
     "status": "completed"
    },
    "tags": []
   },
   "outputs": [],
   "source": [
    "# Build dataloader of train set and eval set, collate_fn is the collate function\n",
    "dl_train = torch.utils.data.DataLoader(ds_train, batch_size, shuffle=True, collate_fn=collate_fn)\n",
    "dl_eval = torch.utils.data.DataLoader(ds_eval, batch_size, shuffle=True, collate_fn=collate_fn)"
   ]
  },
  {
   "cell_type": "markdown",
   "id": "7758dda1",
   "metadata": {
    "papermill": {
     "duration": 0.00879,
     "end_time": "2024-11-02T04:39:07.467585",
     "exception": false,
     "start_time": "2024-11-02T04:39:07.458795",
     "status": "completed"
    },
    "tags": []
   },
   "source": [
    "# Model Design\n",
    "\n",
    "## Execution Flow\n",
    "1. Convert all characters in the sentence into embeddings.\n",
    "2. Pass the embeddings through an LSTM sequentially.\n",
    "3. The output of the LSTM is passed into another LSTM, and additional layers can be added.\n",
    "4. The output from all time steps of the final LSTM is passed through a Fully Connected layer.\n",
    "5. The character corresponding to the maximum value across all output dimensions is selected as the next character.\n",
    "\n",
    "## Loss Function\n",
    "Since this is a classification task, Cross Entropy is used as the loss function.\n",
    "\n",
    "## Gradient Update\n",
    "Adam algorithm is used for gradient updates."
   ]
  },
  {
   "cell_type": "code",
   "execution_count": 16,
   "id": "b906951c",
   "metadata": {
    "execution": {
     "iopub.execute_input": "2024-11-02T04:39:07.486298Z",
     "iopub.status.busy": "2024-11-02T04:39:07.486029Z",
     "iopub.status.idle": "2024-11-02T04:39:07.498848Z",
     "shell.execute_reply": "2024-11-02T04:39:07.498072Z"
    },
    "papermill": {
     "duration": 0.02425,
     "end_time": "2024-11-02T04:39:07.500696",
     "exception": false,
     "start_time": "2024-11-02T04:39:07.476446",
     "status": "completed"
    },
    "tags": []
   },
   "outputs": [],
   "source": [
    "class CharRNN(torch.nn.Module):\n",
    "    def __init__(self, vocab_size, embed_dim, hidden_dim):\n",
    "        super(CharRNN, self).__init__()\n",
    "        \n",
    "        self.embedding = torch.nn.Embedding(num_embeddings=vocab_size,\n",
    "                                            embedding_dim=embed_dim,\n",
    "                                            padding_idx=char_to_id['<pad>'])\n",
    "        \n",
    "        self.rnn_layer1 = torch.nn.LSTM(input_size=embed_dim,\n",
    "                                        hidden_size=hidden_dim,\n",
    "                                        batch_first=True)\n",
    "        \n",
    "        self.rnn_layer2 = torch.nn.LSTM(input_size=hidden_dim,\n",
    "                                        hidden_size=hidden_dim,\n",
    "                                        batch_first=True)\n",
    "        \n",
    "        self.linear = torch.nn.Sequential(torch.nn.Linear(in_features=hidden_dim,\n",
    "                                                          out_features=hidden_dim),\n",
    "                                          torch.nn.ReLU(),\n",
    "                                          torch.nn.Linear(in_features=hidden_dim,\n",
    "                                                          out_features=vocab_size))\n",
    "        \n",
    "    def forward(self, batch_x, batch_x_lens):\n",
    "        return self.encoder(batch_x, batch_x_lens)\n",
    "    \n",
    "    # The forward pass of the model\n",
    "    def encoder(self, batch_x, batch_x_lens):\n",
    "        batch_x = self.embedding(batch_x)\n",
    "        \n",
    "        batch_x = torch.nn.utils.rnn.pack_padded_sequence(batch_x,\n",
    "                                                          batch_x_lens,\n",
    "                                                          batch_first=True,\n",
    "                                                          enforce_sorted=False)\n",
    "        \n",
    "        batch_x, _ = self.rnn_layer1(batch_x)\n",
    "        batch_x, _ = self.rnn_layer2(batch_x)\n",
    "        \n",
    "        batch_x, _ = torch.nn.utils.rnn.pad_packed_sequence(batch_x,\n",
    "                                                            batch_first=True)\n",
    "        \n",
    "        batch_x = self.linear(batch_x)\n",
    "        \n",
    "        return batch_x\n",
    "    \n",
    "    def generator(self, start_char, max_len=200):\n",
    "        char_list = [char_to_id[c] for c in start_char]\n",
    "        \n",
    "        next_char = None\n",
    "        \n",
    "        while len(char_list) < max_len: \n",
    "            \n",
    "            # Write your code here \n",
    "            # Pack the char_list to tensor\n",
    "            # Input the tensor to the embedding layer, LSTM layers, linear respectively\n",
    "            batch_x = torch.tensor(char_list).unsqueeze(0)\n",
    "            batch_x_lens = torch.LongTensor([len(char_list)])\n",
    "            \n",
    "            y = self.forward(batch_x, batch_x_lens)\n",
    "            \n",
    "            # Use argmax function to get the next token prediction\n",
    "            next_char = torch.argmax(y, -1)[0, -1].item()\n",
    "            \n",
    "            if next_char == char_to_id['<eos>']:\n",
    "                break\n",
    "            \n",
    "            char_list.append(next_char)\n",
    "            \n",
    "        return [id_to_char[ch_id] for ch_id in char_list]"
   ]
  },
  {
   "cell_type": "code",
   "execution_count": 17,
   "id": "fb6621ab",
   "metadata": {
    "execution": {
     "iopub.execute_input": "2024-11-02T04:39:07.519284Z",
     "iopub.status.busy": "2024-11-02T04:39:07.519016Z",
     "iopub.status.idle": "2024-11-02T04:39:07.575122Z",
     "shell.execute_reply": "2024-11-02T04:39:07.574374Z"
    },
    "papermill": {
     "duration": 0.067714,
     "end_time": "2024-11-02T04:39:07.577231",
     "exception": false,
     "start_time": "2024-11-02T04:39:07.509517",
     "status": "completed"
    },
    "tags": []
   },
   "outputs": [],
   "source": [
    "torch.manual_seed(2)\n",
    "\n",
    "# Write your code here. Specify a device (cuda or cpu)\n",
    "device = torch.device('cuda')\n",
    "model = CharRNN(vocab_size,\n",
    "                embed_dim,\n",
    "                hidden_dim)"
   ]
  },
  {
   "cell_type": "code",
   "execution_count": 18,
   "id": "401949cb",
   "metadata": {
    "execution": {
     "iopub.execute_input": "2024-11-02T04:39:07.596123Z",
     "iopub.status.busy": "2024-11-02T04:39:07.595840Z",
     "iopub.status.idle": "2024-11-02T04:39:08.767651Z",
     "shell.execute_reply": "2024-11-02T04:39:08.766664Z"
    },
    "papermill": {
     "duration": 1.183806,
     "end_time": "2024-11-02T04:39:08.769966",
     "exception": false,
     "start_time": "2024-11-02T04:39:07.586160",
     "status": "completed"
    },
    "tags": []
   },
   "outputs": [],
   "source": [
    "# Write your code here. Cross-entropy loss function. The loss function should ignore <pad>\n",
    "criterion = torch.nn.CrossEntropyLoss(ignore_index=char_to_id['<pad>'])\n",
    "\n",
    "# Write your code here. Use Adam or AdamW for Optimizer\n",
    "optimizer = torch.optim.Adam(model.parameters(), lr=lr)"
   ]
  },
  {
   "cell_type": "markdown",
   "id": "0f9b200c",
   "metadata": {
    "papermill": {
     "duration": 0.009575,
     "end_time": "2024-11-02T04:39:08.791674",
     "exception": false,
     "start_time": "2024-11-02T04:39:08.782099",
     "status": "completed"
    },
    "tags": []
   },
   "source": [
    "# Training\n",
    "1. The outer `for` loop controls the `epoch`\n",
    "    1. The inner `for` loop uses `data_loader` to retrieve batches.\n",
    "        1. Pass the batch to the `model` for training.\n",
    "        2. Compare the predicted results `batch_pred_y` with the true labels `batch_y` using Cross Entropy to calculate the loss `loss`\n",
    "        3. Use `loss.backward` to automatically compute the gradients.\n",
    "        4. Use `torch.nn.utils.clip_grad_value_` to limit the gradient values between `-grad_clip` &lt; and &lt; `grad_clip`.\n",
    "        5. Use `optimizer.step()` to update the model (backpropagation).\n",
    "2.  After every `1000` batches, output the current loss to monitor whether it is converging."
   ]
  },
  {
   "cell_type": "code",
   "execution_count": 19,
   "id": "ad00f9a6",
   "metadata": {
    "execution": {
     "iopub.execute_input": "2024-11-02T04:39:08.811237Z",
     "iopub.status.busy": "2024-11-02T04:39:08.810710Z",
     "iopub.status.idle": "2024-11-02T05:01:37.102177Z",
     "shell.execute_reply": "2024-11-02T05:01:37.101133Z"
    },
    "papermill": {
     "duration": 1348.305339,
     "end_time": "2024-11-02T05:01:37.105875",
     "exception": false,
     "start_time": "2024-11-02T04:39:08.800536",
     "status": "completed"
    },
    "tags": []
   },
   "outputs": [
    {
     "name": "stderr",
     "output_type": "stream",
     "text": [
      "Train epoch 1: 100%|██████████| 30194/30194 [08:10<00:00, 61.58it/s, loss=0.188]\n",
      "Validation epoch 1: 100%|██████████| 10940/10940 [03:04<00:00, 59.14it/s]\n"
     ]
    },
    {
     "name": "stdout",
     "output_type": "stream",
     "text": [
      "0.0027139096439493383\n"
     ]
    },
    {
     "name": "stderr",
     "output_type": "stream",
     "text": [
      "Train epoch 2: 100%|██████████| 30194/30194 [08:08<00:00, 61.87it/s, loss=0.165]\n",
      "Validation epoch 2: 100%|██████████| 10940/10940 [03:04<00:00, 59.26it/s]"
     ]
    },
    {
     "name": "stdout",
     "output_type": "stream",
     "text": [
      "0.003816613983490859\n"
     ]
    },
    {
     "name": "stderr",
     "output_type": "stream",
     "text": [
      "\n"
     ]
    }
   ],
   "source": [
    "from tqdm import tqdm\n",
    "from copy import deepcopy\n",
    "\n",
    "model = model.to(device)\n",
    "\n",
    "i = 0\n",
    "for epoch in range(1, epochs + 1):\n",
    "    # The process bar\n",
    "    model.train()\n",
    "    bar = tqdm(dl_train, desc=f\"Train epoch {epoch}\")\n",
    "    \n",
    "    for batch_x, batch_y, batch_x_lens, batch_y_lens in bar:\n",
    "        batch_x, batch_y = batch_x.to(device), batch_y.to(device)\n",
    "        \n",
    "        # Write your code here\n",
    "        # Clear the gradient\n",
    "        optimizer.zero_grad()\n",
    "        batch_pred_y = model(batch_x, batch_x_lens)\n",
    "        \n",
    "        # Write your code here\n",
    "        # Input the prediction and ground truths to loss function\n",
    "        # Back propagation\n",
    "        loss = criterion(batch_pred_y.permute(0, 2, 1), batch_y.to(device))\n",
    "        loss.backward()\n",
    "        torch.nn.utils.clip_grad_value_(model.parameters(), grad_clip) # gradient clipping\n",
    "\n",
    "        # Write your code here\n",
    "        # Optimize parameters in the model\n",
    "        optimizer.step()\n",
    "        \n",
    "        i += 1\n",
    "        if i % 50 == 0:\n",
    "            bar.set_postfix(loss = loss.item())\n",
    "    \n",
    "    # Evaluate your model\n",
    "    model.eval()\n",
    "    bar = tqdm(dl_eval, desc=f\"Validation epoch {epoch}\")\n",
    "    matched = 0\n",
    "    total = 0\n",
    "    \n",
    "    for batch_x, batch_y, batch_x_lens, batch_y_lens in bar:\n",
    "        with torch.no_grad():\n",
    "            batch_x, batch_y = batch_x.to(device), batch_y.to(device)\n",
    "            \n",
    "            # Write your code here. Input the batch_x to the model and generate the predictions\n",
    "            batch_pred_y = model(batch_x, batch_x_lens)\n",
    "            predicted_tokens = torch.argmax(batch_pred_y, dim=-1)\n",
    "            \n",
    "            # Write your code here.\n",
    "            # Check whether the prediction match the ground truths\n",
    "            # Compute exact match (EM) on the eval dataset\n",
    "            # EM = correct/total\n",
    "            for idx, (pred, truth) in enumerate(zip(predicted_tokens, batch_y)):\n",
    "                # Remove front padding tokens\n",
    "                start = 0\n",
    "                for token in truth.tolist():\n",
    "                    if token != char_to_id['<pad>']: break\n",
    "                    start += 1\n",
    "                # Remove back padding tokens\n",
    "                end = batch_y_lens[idx].item()\n",
    "\n",
    "                # Exact match check\n",
    "                if torch.equal(pred[start: end], truth[start: end]):\n",
    "                    matched += 1\n",
    "                total += 1\n",
    "            \n",
    "    print(matched / total)"
   ]
  },
  {
   "cell_type": "code",
   "execution_count": 20,
   "id": "cda34b63",
   "metadata": {
    "execution": {
     "iopub.execute_input": "2024-11-02T05:01:39.315143Z",
     "iopub.status.busy": "2024-11-02T05:01:39.314766Z",
     "iopub.status.idle": "2024-11-02T05:01:39.329687Z",
     "shell.execute_reply": "2024-11-02T05:01:39.328723Z"
    },
    "papermill": {
     "duration": 1.137184,
     "end_time": "2024-11-02T05:01:39.331684",
     "exception": false,
     "start_time": "2024-11-02T05:01:38.194500",
     "status": "completed"
    },
    "tags": []
   },
   "outputs": [],
   "source": [
    "torch.save(model, 'model.pkl')"
   ]
  },
  {
   "cell_type": "markdown",
   "id": "593d1cc0",
   "metadata": {
    "papermill": {
     "duration": 1.089259,
     "end_time": "2024-11-02T05:01:41.458576",
     "exception": false,
     "start_time": "2024-11-02T05:01:40.369317",
     "status": "completed"
    },
    "tags": []
   },
   "source": [
    "# Generation\n",
    "Use `model.generator` and provide an initial character to automatically generate a sequence."
   ]
  },
  {
   "cell_type": "code",
   "execution_count": 21,
   "id": "4527e318",
   "metadata": {
    "execution": {
     "iopub.execute_input": "2024-11-02T05:01:43.607081Z",
     "iopub.status.busy": "2024-11-02T05:01:43.606712Z",
     "iopub.status.idle": "2024-11-02T05:01:43.689577Z",
     "shell.execute_reply": "2024-11-02T05:01:43.688562Z"
    },
    "papermill": {
     "duration": 1.18435,
     "end_time": "2024-11-02T05:01:43.692044",
     "exception": false,
     "start_time": "2024-11-02T05:01:42.507694",
     "status": "completed"
    },
    "tags": []
   },
   "outputs": [
    {
     "name": "stdout",
     "output_type": "stream",
     "text": [
      "1+9*888=988\n"
     ]
    }
   ],
   "source": [
    "model = model.to(\"cpu\")\n",
    "print(\"\".join(model.generator('1+9*888=')))"
   ]
  }
 ],
 "metadata": {
  "kaggle": {
   "accelerator": "none",
   "dataSources": [],
   "dockerImageVersionId": 30786,
   "isGpuEnabled": false,
   "isInternetEnabled": true,
   "language": "python",
   "sourceType": "notebook"
  },
  "kernelspec": {
   "display_name": "Python 3",
   "language": "python",
   "name": "python3"
  },
  "language_info": {
   "codemirror_mode": {
    "name": "ipython",
    "version": 3
   },
   "file_extension": ".py",
   "mimetype": "text/x-python",
   "name": "python",
   "nbconvert_exporter": "python",
   "pygments_lexer": "ipython3",
   "version": "3.10.14"
  },
  "papermill": {
   "default_parameters": {},
   "duration": 1449.399088,
   "end_time": "2024-11-02T05:01:47.391946",
   "environment_variables": {},
   "exception": null,
   "input_path": "__notebook__.ipynb",
   "output_path": "__notebook__.ipynb",
   "parameters": {},
   "start_time": "2024-11-02T04:37:37.992858",
   "version": "2.6.0"
  }
 },
 "nbformat": 4,
 "nbformat_minor": 5
}
